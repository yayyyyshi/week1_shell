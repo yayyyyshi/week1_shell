{
 "cells": [
  {
   "cell_type": "code",
   "execution_count": 1,
   "id": "04d8ca34",
   "metadata": {},
   "outputs": [],
   "source": [
    "import pandas as pd\n",
    "import numpy as np\n",
    "import seaborn as sns\n",
    "import matplotlib.pyplot as plt\n",
    "\n",
    "from sklearn.model_selection import train_test_split, GridSearchCV\n",
    "from sklearn.preprocessing import StandardScaler\n",
    "from sklearn.ensemble import RandomForestRegressor\n",
    "from sklearn.metrics import mean_squared_error, r2_score\n",
    "import joblib"
   ]
  },
  {
   "cell_type": "code",
   "execution_count": 7,
   "id": "744d0a26",
   "metadata": {},
   "outputs": [
    {
     "name": "stdout",
     "output_type": "stream",
     "text": [
      "Collecting openpyxl\n",
      "  Downloading openpyxl-3.1.5-py2.py3-none-any.whl.metadata (2.5 kB)\n",
      "Collecting et-xmlfile (from openpyxl)\n",
      "  Downloading et_xmlfile-2.0.0-py3-none-any.whl.metadata (2.7 kB)\n",
      "Downloading openpyxl-3.1.5-py2.py3-none-any.whl (250 kB)\n",
      "Downloading et_xmlfile-2.0.0-py3-none-any.whl (18 kB)\n",
      "Installing collected packages: et-xmlfile, openpyxl\n",
      "Successfully installed et-xmlfile-2.0.0 openpyxl-3.1.5\n",
      "Note: you may need to restart the kernel to use updated packages.\n"
     ]
    }
   ],
   "source": [
    "pip install openpyxl\n"
   ]
  },
  {
   "cell_type": "code",
   "execution_count": 8,
   "id": "ee715275",
   "metadata": {},
   "outputs": [],
   "source": [
    "import openpyxl"
   ]
  },
  {
   "cell_type": "code",
   "execution_count": 5,
   "id": "468abd82",
   "metadata": {},
   "outputs": [],
   "source": [
    "excel_file = 'data\\ghgemissions.xlsx' \n",
    "years = range(2010, 2017)"
   ]
  },
  {
   "cell_type": "code",
   "execution_count": 3,
   "id": "2c7529ca",
   "metadata": {},
   "outputs": [
    {
     "data": {
      "text/plain": [
       "2010"
      ]
     },
     "execution_count": 3,
     "metadata": {},
     "output_type": "execute_result"
    }
   ],
   "source": [
    "years[0]"
   ]
  },
  {
   "cell_type": "code",
   "execution_count": 9,
   "id": "e562d0f7",
   "metadata": {},
   "outputs": [
    {
     "data": {
      "text/html": [
       "<div>\n",
       "<style scoped>\n",
       "    .dataframe tbody tr th:only-of-type {\n",
       "        vertical-align: middle;\n",
       "    }\n",
       "\n",
       "    .dataframe tbody tr th {\n",
       "        vertical-align: top;\n",
       "    }\n",
       "\n",
       "    .dataframe thead th {\n",
       "        text-align: right;\n",
       "    }\n",
       "</style>\n",
       "<table border=\"1\" class=\"dataframe\">\n",
       "  <thead>\n",
       "    <tr style=\"text-align: right;\">\n",
       "      <th></th>\n",
       "      <th>Commodity Code</th>\n",
       "      <th>Commodity Name</th>\n",
       "      <th>Substance</th>\n",
       "      <th>Unit</th>\n",
       "      <th>Supply Chain Emission Factors without Margins</th>\n",
       "      <th>Margins of Supply Chain Emission Factors</th>\n",
       "      <th>Supply Chain Emission Factors with Margins</th>\n",
       "      <th>Unnamed: 7</th>\n",
       "      <th>DQ ReliabilityScore of Factors without Margins</th>\n",
       "      <th>DQ TemporalCorrelation of Factors without Margins</th>\n",
       "      <th>DQ GeographicalCorrelation of Factors without Margins</th>\n",
       "      <th>DQ TechnologicalCorrelation of Factors without Margins</th>\n",
       "      <th>DQ DataCollection of Factors without Margins</th>\n",
       "    </tr>\n",
       "  </thead>\n",
       "  <tbody>\n",
       "    <tr>\n",
       "      <th>0</th>\n",
       "      <td>1111A0</td>\n",
       "      <td>Fresh soybeans, canola, flaxseeds, and other o...</td>\n",
       "      <td>carbon dioxide</td>\n",
       "      <td>kg/2018 USD, purchaser price</td>\n",
       "      <td>0.398</td>\n",
       "      <td>0.073</td>\n",
       "      <td>0.470</td>\n",
       "      <td>NaN</td>\n",
       "      <td>4</td>\n",
       "      <td>3</td>\n",
       "      <td>1</td>\n",
       "      <td>4</td>\n",
       "      <td>1</td>\n",
       "    </tr>\n",
       "    <tr>\n",
       "      <th>1</th>\n",
       "      <td>1111A0</td>\n",
       "      <td>Fresh soybeans, canola, flaxseeds, and other o...</td>\n",
       "      <td>methane</td>\n",
       "      <td>kg/2018 USD, purchaser price</td>\n",
       "      <td>0.001</td>\n",
       "      <td>0.001</td>\n",
       "      <td>0.002</td>\n",
       "      <td>NaN</td>\n",
       "      <td>4</td>\n",
       "      <td>3</td>\n",
       "      <td>1</td>\n",
       "      <td>1</td>\n",
       "      <td>1</td>\n",
       "    </tr>\n",
       "    <tr>\n",
       "      <th>2</th>\n",
       "      <td>1111A0</td>\n",
       "      <td>Fresh soybeans, canola, flaxseeds, and other o...</td>\n",
       "      <td>nitrous oxide</td>\n",
       "      <td>kg/2018 USD, purchaser price</td>\n",
       "      <td>0.002</td>\n",
       "      <td>0.000</td>\n",
       "      <td>0.002</td>\n",
       "      <td>NaN</td>\n",
       "      <td>4</td>\n",
       "      <td>3</td>\n",
       "      <td>1</td>\n",
       "      <td>4</td>\n",
       "      <td>1</td>\n",
       "    </tr>\n",
       "    <tr>\n",
       "      <th>3</th>\n",
       "      <td>1111A0</td>\n",
       "      <td>Fresh soybeans, canola, flaxseeds, and other o...</td>\n",
       "      <td>other GHGs</td>\n",
       "      <td>kg CO2e/2018 USD, purchaser price</td>\n",
       "      <td>0.002</td>\n",
       "      <td>0.000</td>\n",
       "      <td>0.002</td>\n",
       "      <td>NaN</td>\n",
       "      <td>3</td>\n",
       "      <td>3</td>\n",
       "      <td>1</td>\n",
       "      <td>3</td>\n",
       "      <td>1</td>\n",
       "    </tr>\n",
       "    <tr>\n",
       "      <th>4</th>\n",
       "      <td>1111B0</td>\n",
       "      <td>Fresh wheat, corn, rice, and other grains</td>\n",
       "      <td>carbon dioxide</td>\n",
       "      <td>kg/2018 USD, purchaser price</td>\n",
       "      <td>0.659</td>\n",
       "      <td>0.081</td>\n",
       "      <td>0.740</td>\n",
       "      <td>NaN</td>\n",
       "      <td>4</td>\n",
       "      <td>3</td>\n",
       "      <td>1</td>\n",
       "      <td>4</td>\n",
       "      <td>1</td>\n",
       "    </tr>\n",
       "  </tbody>\n",
       "</table>\n",
       "</div>"
      ],
      "text/plain": [
       "  Commodity Code                                     Commodity Name  \\\n",
       "0         1111A0  Fresh soybeans, canola, flaxseeds, and other o...   \n",
       "1         1111A0  Fresh soybeans, canola, flaxseeds, and other o...   \n",
       "2         1111A0  Fresh soybeans, canola, flaxseeds, and other o...   \n",
       "3         1111A0  Fresh soybeans, canola, flaxseeds, and other o...   \n",
       "4         1111B0          Fresh wheat, corn, rice, and other grains   \n",
       "\n",
       "        Substance                               Unit  \\\n",
       "0  carbon dioxide       kg/2018 USD, purchaser price   \n",
       "1         methane       kg/2018 USD, purchaser price   \n",
       "2   nitrous oxide       kg/2018 USD, purchaser price   \n",
       "3      other GHGs  kg CO2e/2018 USD, purchaser price   \n",
       "4  carbon dioxide       kg/2018 USD, purchaser price   \n",
       "\n",
       "   Supply Chain Emission Factors without Margins  \\\n",
       "0                                          0.398   \n",
       "1                                          0.001   \n",
       "2                                          0.002   \n",
       "3                                          0.002   \n",
       "4                                          0.659   \n",
       "\n",
       "   Margins of Supply Chain Emission Factors  \\\n",
       "0                                     0.073   \n",
       "1                                     0.001   \n",
       "2                                     0.000   \n",
       "3                                     0.000   \n",
       "4                                     0.081   \n",
       "\n",
       "   Supply Chain Emission Factors with Margins  Unnamed: 7  \\\n",
       "0                                       0.470         NaN   \n",
       "1                                       0.002         NaN   \n",
       "2                                       0.002         NaN   \n",
       "3                                       0.002         NaN   \n",
       "4                                       0.740         NaN   \n",
       "\n",
       "   DQ ReliabilityScore of Factors without Margins  \\\n",
       "0                                               4   \n",
       "1                                               4   \n",
       "2                                               4   \n",
       "3                                               3   \n",
       "4                                               4   \n",
       "\n",
       "   DQ TemporalCorrelation of Factors without Margins  \\\n",
       "0                                                  3   \n",
       "1                                                  3   \n",
       "2                                                  3   \n",
       "3                                                  3   \n",
       "4                                                  3   \n",
       "\n",
       "   DQ GeographicalCorrelation of Factors without Margins  \\\n",
       "0                                                  1       \n",
       "1                                                  1       \n",
       "2                                                  1       \n",
       "3                                                  1       \n",
       "4                                                  1       \n",
       "\n",
       "   DQ TechnologicalCorrelation of Factors without Margins  \\\n",
       "0                                                  4        \n",
       "1                                                  1        \n",
       "2                                                  4        \n",
       "3                                                  3        \n",
       "4                                                  4        \n",
       "\n",
       "   DQ DataCollection of Factors without Margins  \n",
       "0                                             1  \n",
       "1                                             1  \n",
       "2                                             1  \n",
       "3                                             1  \n",
       "4                                             1  "
      ]
     },
     "execution_count": 9,
     "metadata": {},
     "output_type": "execute_result"
    }
   ],
   "source": [
    "df_1 = pd.read_excel(excel_file, sheet_name=f'{years[0]}_Detail_Commodity')\n",
    "df_1.head()"
   ]
  },
  {
   "cell_type": "code",
   "execution_count": 10,
   "id": "c43783ec",
   "metadata": {},
   "outputs": [
    {
     "data": {
      "text/html": [
       "<div>\n",
       "<style scoped>\n",
       "    .dataframe tbody tr th:only-of-type {\n",
       "        vertical-align: middle;\n",
       "    }\n",
       "\n",
       "    .dataframe tbody tr th {\n",
       "        vertical-align: top;\n",
       "    }\n",
       "\n",
       "    .dataframe thead th {\n",
       "        text-align: right;\n",
       "    }\n",
       "</style>\n",
       "<table border=\"1\" class=\"dataframe\">\n",
       "  <thead>\n",
       "    <tr style=\"text-align: right;\">\n",
       "      <th></th>\n",
       "      <th>Industry Code</th>\n",
       "      <th>Industry Name</th>\n",
       "      <th>Substance</th>\n",
       "      <th>Unit</th>\n",
       "      <th>Supply Chain Emission Factors without Margins</th>\n",
       "      <th>Margins of Supply Chain Emission Factors</th>\n",
       "      <th>Supply Chain Emission Factors with Margins</th>\n",
       "      <th>Unnamed: 7</th>\n",
       "      <th>DQ ReliabilityScore of Factors without Margins</th>\n",
       "      <th>DQ TemporalCorrelation of Factors without Margins</th>\n",
       "      <th>DQ GeographicalCorrelation of Factors without Margins</th>\n",
       "      <th>DQ TechnologicalCorrelation of Factors without Margins</th>\n",
       "      <th>DQ DataCollection of Factors without Margins</th>\n",
       "    </tr>\n",
       "  </thead>\n",
       "  <tbody>\n",
       "    <tr>\n",
       "      <th>0</th>\n",
       "      <td>1111A0</td>\n",
       "      <td>Oilseed farming</td>\n",
       "      <td>carbon dioxide</td>\n",
       "      <td>kg/2018 USD, purchaser price</td>\n",
       "      <td>0.414</td>\n",
       "      <td>0.073</td>\n",
       "      <td>0.487</td>\n",
       "      <td>NaN</td>\n",
       "      <td>4</td>\n",
       "      <td>3</td>\n",
       "      <td>1</td>\n",
       "      <td>4</td>\n",
       "      <td>1</td>\n",
       "    </tr>\n",
       "    <tr>\n",
       "      <th>1</th>\n",
       "      <td>1111A0</td>\n",
       "      <td>Oilseed farming</td>\n",
       "      <td>methane</td>\n",
       "      <td>kg/2018 USD, purchaser price</td>\n",
       "      <td>0.001</td>\n",
       "      <td>0.001</td>\n",
       "      <td>0.002</td>\n",
       "      <td>NaN</td>\n",
       "      <td>4</td>\n",
       "      <td>3</td>\n",
       "      <td>1</td>\n",
       "      <td>1</td>\n",
       "      <td>1</td>\n",
       "    </tr>\n",
       "    <tr>\n",
       "      <th>2</th>\n",
       "      <td>1111A0</td>\n",
       "      <td>Oilseed farming</td>\n",
       "      <td>nitrous oxide</td>\n",
       "      <td>kg/2018 USD, purchaser price</td>\n",
       "      <td>0.002</td>\n",
       "      <td>0.000</td>\n",
       "      <td>0.002</td>\n",
       "      <td>NaN</td>\n",
       "      <td>4</td>\n",
       "      <td>3</td>\n",
       "      <td>1</td>\n",
       "      <td>4</td>\n",
       "      <td>1</td>\n",
       "    </tr>\n",
       "    <tr>\n",
       "      <th>3</th>\n",
       "      <td>1111A0</td>\n",
       "      <td>Oilseed farming</td>\n",
       "      <td>other GHGs</td>\n",
       "      <td>kg CO2e/2018 USD, purchaser price</td>\n",
       "      <td>0.002</td>\n",
       "      <td>0.000</td>\n",
       "      <td>0.002</td>\n",
       "      <td>NaN</td>\n",
       "      <td>3</td>\n",
       "      <td>3</td>\n",
       "      <td>1</td>\n",
       "      <td>3</td>\n",
       "      <td>1</td>\n",
       "    </tr>\n",
       "    <tr>\n",
       "      <th>4</th>\n",
       "      <td>1111B0</td>\n",
       "      <td>Grain farming</td>\n",
       "      <td>carbon dioxide</td>\n",
       "      <td>kg/2018 USD, purchaser price</td>\n",
       "      <td>0.680</td>\n",
       "      <td>0.082</td>\n",
       "      <td>0.762</td>\n",
       "      <td>NaN</td>\n",
       "      <td>4</td>\n",
       "      <td>3</td>\n",
       "      <td>1</td>\n",
       "      <td>4</td>\n",
       "      <td>1</td>\n",
       "    </tr>\n",
       "  </tbody>\n",
       "</table>\n",
       "</div>"
      ],
      "text/plain": [
       "  Industry Code    Industry Name       Substance  \\\n",
       "0        1111A0  Oilseed farming  carbon dioxide   \n",
       "1        1111A0  Oilseed farming         methane   \n",
       "2        1111A0  Oilseed farming   nitrous oxide   \n",
       "3        1111A0  Oilseed farming      other GHGs   \n",
       "4        1111B0    Grain farming  carbon dioxide   \n",
       "\n",
       "                                Unit  \\\n",
       "0       kg/2018 USD, purchaser price   \n",
       "1       kg/2018 USD, purchaser price   \n",
       "2       kg/2018 USD, purchaser price   \n",
       "3  kg CO2e/2018 USD, purchaser price   \n",
       "4       kg/2018 USD, purchaser price   \n",
       "\n",
       "   Supply Chain Emission Factors without Margins  \\\n",
       "0                                          0.414   \n",
       "1                                          0.001   \n",
       "2                                          0.002   \n",
       "3                                          0.002   \n",
       "4                                          0.680   \n",
       "\n",
       "   Margins of Supply Chain Emission Factors  \\\n",
       "0                                     0.073   \n",
       "1                                     0.001   \n",
       "2                                     0.000   \n",
       "3                                     0.000   \n",
       "4                                     0.082   \n",
       "\n",
       "   Supply Chain Emission Factors with Margins  Unnamed: 7  \\\n",
       "0                                       0.487         NaN   \n",
       "1                                       0.002         NaN   \n",
       "2                                       0.002         NaN   \n",
       "3                                       0.002         NaN   \n",
       "4                                       0.762         NaN   \n",
       "\n",
       "   DQ ReliabilityScore of Factors without Margins  \\\n",
       "0                                               4   \n",
       "1                                               4   \n",
       "2                                               4   \n",
       "3                                               3   \n",
       "4                                               4   \n",
       "\n",
       "   DQ TemporalCorrelation of Factors without Margins  \\\n",
       "0                                                  3   \n",
       "1                                                  3   \n",
       "2                                                  3   \n",
       "3                                                  3   \n",
       "4                                                  3   \n",
       "\n",
       "   DQ GeographicalCorrelation of Factors without Margins  \\\n",
       "0                                                  1       \n",
       "1                                                  1       \n",
       "2                                                  1       \n",
       "3                                                  1       \n",
       "4                                                  1       \n",
       "\n",
       "   DQ TechnologicalCorrelation of Factors without Margins  \\\n",
       "0                                                  4        \n",
       "1                                                  1        \n",
       "2                                                  4        \n",
       "3                                                  3        \n",
       "4                                                  4        \n",
       "\n",
       "   DQ DataCollection of Factors without Margins  \n",
       "0                                             1  \n",
       "1                                             1  \n",
       "2                                             1  \n",
       "3                                             1  \n",
       "4                                             1  "
      ]
     },
     "execution_count": 10,
     "metadata": {},
     "output_type": "execute_result"
    }
   ],
   "source": [
    "df_2 = pd.read_excel(excel_file, sheet_name=f'{years[0]}_Detail_Industry')\n",
    "df_2.head()"
   ]
  },
  {
   "cell_type": "code",
   "execution_count": 11,
   "id": "d6bbbcdc",
   "metadata": {},
   "outputs": [],
   "source": [
    "all_data = []\n",
    "\n",
    "for year in years:\n",
    "    try:\n",
    "        df_com = pd.read_excel(excel_file, sheet_name=f'{year}_Detail_Commodity')\n",
    "        df_ind = pd.read_excel(excel_file, sheet_name=f'{year}_Detail_Industry')\n",
    "        \n",
    "        df_com['Source'] = 'Commodity'\n",
    "        df_ind['Source'] = 'Industry'\n",
    "        df_com['Year'] = df_ind['Year'] = year\n",
    "        \n",
    "        df_com.columns = df_com.columns.str.strip()\n",
    "        df_ind.columns = df_ind.columns.str.strip()\n",
    "\n",
    "        df_com.rename(columns={\n",
    "            'Commodity Code': 'Code',\n",
    "            'Commodity Name': 'Name'\n",
    "        }, inplace=True)\n",
    "        \n",
    "        df_ind.rename(columns={\n",
    "            'Industry Code': 'Code',\n",
    "            'Industry Name': 'Name'\n",
    "        }, inplace=True)\n",
    "        \n",
    "        all_data.append(pd.concat([df_com, df_ind], ignore_index=True))\n",
    "        \n",
    "    except Exception as e:\n",
    "        print(f\"Error processing year {year}: {e}\")"
   ]
  },
  {
   "cell_type": "code",
   "execution_count": 12,
   "id": "d9499e20",
   "metadata": {},
   "outputs": [
    {
     "data": {
      "text/html": [
       "<div>\n",
       "<style scoped>\n",
       "    .dataframe tbody tr th:only-of-type {\n",
       "        vertical-align: middle;\n",
       "    }\n",
       "\n",
       "    .dataframe tbody tr th {\n",
       "        vertical-align: top;\n",
       "    }\n",
       "\n",
       "    .dataframe thead th {\n",
       "        text-align: right;\n",
       "    }\n",
       "</style>\n",
       "<table border=\"1\" class=\"dataframe\">\n",
       "  <thead>\n",
       "    <tr style=\"text-align: right;\">\n",
       "      <th></th>\n",
       "      <th>Code</th>\n",
       "      <th>Name</th>\n",
       "      <th>Substance</th>\n",
       "      <th>Unit</th>\n",
       "      <th>Supply Chain Emission Factors without Margins</th>\n",
       "      <th>Margins of Supply Chain Emission Factors</th>\n",
       "      <th>Supply Chain Emission Factors with Margins</th>\n",
       "      <th>Unnamed: 7</th>\n",
       "      <th>DQ ReliabilityScore of Factors without Margins</th>\n",
       "      <th>DQ TemporalCorrelation of Factors without Margins</th>\n",
       "      <th>DQ GeographicalCorrelation of Factors without Margins</th>\n",
       "      <th>DQ TechnologicalCorrelation of Factors without Margins</th>\n",
       "      <th>DQ DataCollection of Factors without Margins</th>\n",
       "      <th>Source</th>\n",
       "      <th>Year</th>\n",
       "    </tr>\n",
       "  </thead>\n",
       "  <tbody>\n",
       "    <tr>\n",
       "      <th>0</th>\n",
       "      <td>1111A0</td>\n",
       "      <td>Fresh soybeans, canola, flaxseeds, and other o...</td>\n",
       "      <td>carbon dioxide</td>\n",
       "      <td>kg/2018 USD, purchaser price</td>\n",
       "      <td>0.373</td>\n",
       "      <td>0.072</td>\n",
       "      <td>0.444</td>\n",
       "      <td>NaN</td>\n",
       "      <td>4</td>\n",
       "      <td>3</td>\n",
       "      <td>1</td>\n",
       "      <td>4</td>\n",
       "      <td>1</td>\n",
       "      <td>Commodity</td>\n",
       "      <td>2013</td>\n",
       "    </tr>\n",
       "    <tr>\n",
       "      <th>1</th>\n",
       "      <td>1111A0</td>\n",
       "      <td>Fresh soybeans, canola, flaxseeds, and other o...</td>\n",
       "      <td>methane</td>\n",
       "      <td>kg/2018 USD, purchaser price</td>\n",
       "      <td>0.001</td>\n",
       "      <td>0.001</td>\n",
       "      <td>0.002</td>\n",
       "      <td>NaN</td>\n",
       "      <td>4</td>\n",
       "      <td>3</td>\n",
       "      <td>1</td>\n",
       "      <td>1</td>\n",
       "      <td>1</td>\n",
       "      <td>Commodity</td>\n",
       "      <td>2013</td>\n",
       "    </tr>\n",
       "    <tr>\n",
       "      <th>2</th>\n",
       "      <td>1111A0</td>\n",
       "      <td>Fresh soybeans, canola, flaxseeds, and other o...</td>\n",
       "      <td>nitrous oxide</td>\n",
       "      <td>kg/2018 USD, purchaser price</td>\n",
       "      <td>0.002</td>\n",
       "      <td>0.000</td>\n",
       "      <td>0.002</td>\n",
       "      <td>NaN</td>\n",
       "      <td>4</td>\n",
       "      <td>3</td>\n",
       "      <td>1</td>\n",
       "      <td>4</td>\n",
       "      <td>1</td>\n",
       "      <td>Commodity</td>\n",
       "      <td>2013</td>\n",
       "    </tr>\n",
       "    <tr>\n",
       "      <th>3</th>\n",
       "      <td>1111A0</td>\n",
       "      <td>Fresh soybeans, canola, flaxseeds, and other o...</td>\n",
       "      <td>other GHGs</td>\n",
       "      <td>kg CO2e/2018 USD, purchaser price</td>\n",
       "      <td>0.002</td>\n",
       "      <td>0.000</td>\n",
       "      <td>0.002</td>\n",
       "      <td>NaN</td>\n",
       "      <td>3</td>\n",
       "      <td>3</td>\n",
       "      <td>1</td>\n",
       "      <td>4</td>\n",
       "      <td>1</td>\n",
       "      <td>Commodity</td>\n",
       "      <td>2013</td>\n",
       "    </tr>\n",
       "    <tr>\n",
       "      <th>4</th>\n",
       "      <td>1111B0</td>\n",
       "      <td>Fresh wheat, corn, rice, and other grains</td>\n",
       "      <td>carbon dioxide</td>\n",
       "      <td>kg/2018 USD, purchaser price</td>\n",
       "      <td>0.722</td>\n",
       "      <td>0.079</td>\n",
       "      <td>0.801</td>\n",
       "      <td>NaN</td>\n",
       "      <td>4</td>\n",
       "      <td>3</td>\n",
       "      <td>1</td>\n",
       "      <td>4</td>\n",
       "      <td>1</td>\n",
       "      <td>Commodity</td>\n",
       "      <td>2013</td>\n",
       "    </tr>\n",
       "    <tr>\n",
       "      <th>...</th>\n",
       "      <td>...</td>\n",
       "      <td>...</td>\n",
       "      <td>...</td>\n",
       "      <td>...</td>\n",
       "      <td>...</td>\n",
       "      <td>...</td>\n",
       "      <td>...</td>\n",
       "      <td>...</td>\n",
       "      <td>...</td>\n",
       "      <td>...</td>\n",
       "      <td>...</td>\n",
       "      <td>...</td>\n",
       "      <td>...</td>\n",
       "      <td>...</td>\n",
       "      <td>...</td>\n",
       "    </tr>\n",
       "    <tr>\n",
       "      <th>3151</th>\n",
       "      <td>813B00</td>\n",
       "      <td>Civic, social, professional, and similar organ...</td>\n",
       "      <td>other GHGs</td>\n",
       "      <td>kg CO2e/2018 USD, purchaser price</td>\n",
       "      <td>0.008</td>\n",
       "      <td>0.000</td>\n",
       "      <td>0.008</td>\n",
       "      <td>NaN</td>\n",
       "      <td>4</td>\n",
       "      <td>3</td>\n",
       "      <td>1</td>\n",
       "      <td>5</td>\n",
       "      <td>1</td>\n",
       "      <td>Industry</td>\n",
       "      <td>2013</td>\n",
       "    </tr>\n",
       "    <tr>\n",
       "      <th>3152</th>\n",
       "      <td>814000</td>\n",
       "      <td>Private households</td>\n",
       "      <td>carbon dioxide</td>\n",
       "      <td>kg/2018 USD, purchaser price</td>\n",
       "      <td>0.000</td>\n",
       "      <td>0.000</td>\n",
       "      <td>0.000</td>\n",
       "      <td>NaN</td>\n",
       "      <td>4</td>\n",
       "      <td>3</td>\n",
       "      <td>1</td>\n",
       "      <td>5</td>\n",
       "      <td>1</td>\n",
       "      <td>Industry</td>\n",
       "      <td>2013</td>\n",
       "    </tr>\n",
       "    <tr>\n",
       "      <th>3153</th>\n",
       "      <td>814000</td>\n",
       "      <td>Private households</td>\n",
       "      <td>methane</td>\n",
       "      <td>kg/2018 USD, purchaser price</td>\n",
       "      <td>0.000</td>\n",
       "      <td>0.000</td>\n",
       "      <td>0.000</td>\n",
       "      <td>NaN</td>\n",
       "      <td>4</td>\n",
       "      <td>3</td>\n",
       "      <td>1</td>\n",
       "      <td>5</td>\n",
       "      <td>1</td>\n",
       "      <td>Industry</td>\n",
       "      <td>2013</td>\n",
       "    </tr>\n",
       "    <tr>\n",
       "      <th>3154</th>\n",
       "      <td>814000</td>\n",
       "      <td>Private households</td>\n",
       "      <td>nitrous oxide</td>\n",
       "      <td>kg/2018 USD, purchaser price</td>\n",
       "      <td>0.000</td>\n",
       "      <td>0.000</td>\n",
       "      <td>0.000</td>\n",
       "      <td>NaN</td>\n",
       "      <td>4</td>\n",
       "      <td>3</td>\n",
       "      <td>1</td>\n",
       "      <td>5</td>\n",
       "      <td>1</td>\n",
       "      <td>Industry</td>\n",
       "      <td>2013</td>\n",
       "    </tr>\n",
       "    <tr>\n",
       "      <th>3155</th>\n",
       "      <td>814000</td>\n",
       "      <td>Private households</td>\n",
       "      <td>other GHGs</td>\n",
       "      <td>kg CO2e/2018 USD, purchaser price</td>\n",
       "      <td>0.000</td>\n",
       "      <td>0.000</td>\n",
       "      <td>0.000</td>\n",
       "      <td>NaN</td>\n",
       "      <td>4</td>\n",
       "      <td>3</td>\n",
       "      <td>1</td>\n",
       "      <td>5</td>\n",
       "      <td>1</td>\n",
       "      <td>Industry</td>\n",
       "      <td>2013</td>\n",
       "    </tr>\n",
       "  </tbody>\n",
       "</table>\n",
       "<p>3156 rows × 15 columns</p>\n",
       "</div>"
      ],
      "text/plain": [
       "        Code                                               Name  \\\n",
       "0     1111A0  Fresh soybeans, canola, flaxseeds, and other o...   \n",
       "1     1111A0  Fresh soybeans, canola, flaxseeds, and other o...   \n",
       "2     1111A0  Fresh soybeans, canola, flaxseeds, and other o...   \n",
       "3     1111A0  Fresh soybeans, canola, flaxseeds, and other o...   \n",
       "4     1111B0          Fresh wheat, corn, rice, and other grains   \n",
       "...      ...                                                ...   \n",
       "3151  813B00  Civic, social, professional, and similar organ...   \n",
       "3152  814000                                 Private households   \n",
       "3153  814000                                 Private households   \n",
       "3154  814000                                 Private households   \n",
       "3155  814000                                 Private households   \n",
       "\n",
       "           Substance                               Unit  \\\n",
       "0     carbon dioxide       kg/2018 USD, purchaser price   \n",
       "1            methane       kg/2018 USD, purchaser price   \n",
       "2      nitrous oxide       kg/2018 USD, purchaser price   \n",
       "3         other GHGs  kg CO2e/2018 USD, purchaser price   \n",
       "4     carbon dioxide       kg/2018 USD, purchaser price   \n",
       "...              ...                                ...   \n",
       "3151      other GHGs  kg CO2e/2018 USD, purchaser price   \n",
       "3152  carbon dioxide       kg/2018 USD, purchaser price   \n",
       "3153         methane       kg/2018 USD, purchaser price   \n",
       "3154   nitrous oxide       kg/2018 USD, purchaser price   \n",
       "3155      other GHGs  kg CO2e/2018 USD, purchaser price   \n",
       "\n",
       "      Supply Chain Emission Factors without Margins  \\\n",
       "0                                             0.373   \n",
       "1                                             0.001   \n",
       "2                                             0.002   \n",
       "3                                             0.002   \n",
       "4                                             0.722   \n",
       "...                                             ...   \n",
       "3151                                          0.008   \n",
       "3152                                          0.000   \n",
       "3153                                          0.000   \n",
       "3154                                          0.000   \n",
       "3155                                          0.000   \n",
       "\n",
       "      Margins of Supply Chain Emission Factors  \\\n",
       "0                                        0.072   \n",
       "1                                        0.001   \n",
       "2                                        0.000   \n",
       "3                                        0.000   \n",
       "4                                        0.079   \n",
       "...                                        ...   \n",
       "3151                                     0.000   \n",
       "3152                                     0.000   \n",
       "3153                                     0.000   \n",
       "3154                                     0.000   \n",
       "3155                                     0.000   \n",
       "\n",
       "      Supply Chain Emission Factors with Margins  Unnamed: 7  \\\n",
       "0                                          0.444         NaN   \n",
       "1                                          0.002         NaN   \n",
       "2                                          0.002         NaN   \n",
       "3                                          0.002         NaN   \n",
       "4                                          0.801         NaN   \n",
       "...                                          ...         ...   \n",
       "3151                                       0.008         NaN   \n",
       "3152                                       0.000         NaN   \n",
       "3153                                       0.000         NaN   \n",
       "3154                                       0.000         NaN   \n",
       "3155                                       0.000         NaN   \n",
       "\n",
       "      DQ ReliabilityScore of Factors without Margins  \\\n",
       "0                                                  4   \n",
       "1                                                  4   \n",
       "2                                                  4   \n",
       "3                                                  3   \n",
       "4                                                  4   \n",
       "...                                              ...   \n",
       "3151                                               4   \n",
       "3152                                               4   \n",
       "3153                                               4   \n",
       "3154                                               4   \n",
       "3155                                               4   \n",
       "\n",
       "      DQ TemporalCorrelation of Factors without Margins  \\\n",
       "0                                                     3   \n",
       "1                                                     3   \n",
       "2                                                     3   \n",
       "3                                                     3   \n",
       "4                                                     3   \n",
       "...                                                 ...   \n",
       "3151                                                  3   \n",
       "3152                                                  3   \n",
       "3153                                                  3   \n",
       "3154                                                  3   \n",
       "3155                                                  3   \n",
       "\n",
       "      DQ GeographicalCorrelation of Factors without Margins  \\\n",
       "0                                                     1       \n",
       "1                                                     1       \n",
       "2                                                     1       \n",
       "3                                                     1       \n",
       "4                                                     1       \n",
       "...                                                 ...       \n",
       "3151                                                  1       \n",
       "3152                                                  1       \n",
       "3153                                                  1       \n",
       "3154                                                  1       \n",
       "3155                                                  1       \n",
       "\n",
       "      DQ TechnologicalCorrelation of Factors without Margins  \\\n",
       "0                                                     4        \n",
       "1                                                     1        \n",
       "2                                                     4        \n",
       "3                                                     4        \n",
       "4                                                     4        \n",
       "...                                                 ...        \n",
       "3151                                                  5        \n",
       "3152                                                  5        \n",
       "3153                                                  5        \n",
       "3154                                                  5        \n",
       "3155                                                  5        \n",
       "\n",
       "      DQ DataCollection of Factors without Margins     Source  Year  \n",
       "0                                                1  Commodity  2013  \n",
       "1                                                1  Commodity  2013  \n",
       "2                                                1  Commodity  2013  \n",
       "3                                                1  Commodity  2013  \n",
       "4                                                1  Commodity  2013  \n",
       "...                                            ...        ...   ...  \n",
       "3151                                             1   Industry  2013  \n",
       "3152                                             1   Industry  2013  \n",
       "3153                                             1   Industry  2013  \n",
       "3154                                             1   Industry  2013  \n",
       "3155                                             1   Industry  2013  \n",
       "\n",
       "[3156 rows x 15 columns]"
      ]
     },
     "execution_count": 12,
     "metadata": {},
     "output_type": "execute_result"
    }
   ],
   "source": [
    "all_data[3]"
   ]
  },
  {
   "cell_type": "code",
   "execution_count": 13,
   "id": "2785839a",
   "metadata": {},
   "outputs": [
    {
     "data": {
      "text/plain": [
       "7"
      ]
     },
     "execution_count": 13,
     "metadata": {},
     "output_type": "execute_result"
    }
   ],
   "source": [
    "len(all_data)"
   ]
  },
  {
   "cell_type": "code",
   "execution_count": 14,
   "id": "75a335f2",
   "metadata": {},
   "outputs": [
    {
     "data": {
      "text/html": [
       "<div>\n",
       "<style scoped>\n",
       "    .dataframe tbody tr th:only-of-type {\n",
       "        vertical-align: middle;\n",
       "    }\n",
       "\n",
       "    .dataframe tbody tr th {\n",
       "        vertical-align: top;\n",
       "    }\n",
       "\n",
       "    .dataframe thead th {\n",
       "        text-align: right;\n",
       "    }\n",
       "</style>\n",
       "<table border=\"1\" class=\"dataframe\">\n",
       "  <thead>\n",
       "    <tr style=\"text-align: right;\">\n",
       "      <th></th>\n",
       "      <th>Code</th>\n",
       "      <th>Name</th>\n",
       "      <th>Substance</th>\n",
       "      <th>Unit</th>\n",
       "      <th>Supply Chain Emission Factors without Margins</th>\n",
       "      <th>Margins of Supply Chain Emission Factors</th>\n",
       "      <th>Supply Chain Emission Factors with Margins</th>\n",
       "      <th>Unnamed: 7</th>\n",
       "      <th>DQ ReliabilityScore of Factors without Margins</th>\n",
       "      <th>DQ TemporalCorrelation of Factors without Margins</th>\n",
       "      <th>DQ GeographicalCorrelation of Factors without Margins</th>\n",
       "      <th>DQ TechnologicalCorrelation of Factors without Margins</th>\n",
       "      <th>DQ DataCollection of Factors without Margins</th>\n",
       "      <th>Source</th>\n",
       "      <th>Year</th>\n",
       "    </tr>\n",
       "  </thead>\n",
       "  <tbody>\n",
       "    <tr>\n",
       "      <th>0</th>\n",
       "      <td>1111A0</td>\n",
       "      <td>Fresh soybeans, canola, flaxseeds, and other o...</td>\n",
       "      <td>carbon dioxide</td>\n",
       "      <td>kg/2018 USD, purchaser price</td>\n",
       "      <td>0.398</td>\n",
       "      <td>0.073</td>\n",
       "      <td>0.470</td>\n",
       "      <td>NaN</td>\n",
       "      <td>4</td>\n",
       "      <td>3</td>\n",
       "      <td>1</td>\n",
       "      <td>4</td>\n",
       "      <td>1</td>\n",
       "      <td>Commodity</td>\n",
       "      <td>2010</td>\n",
       "    </tr>\n",
       "    <tr>\n",
       "      <th>1</th>\n",
       "      <td>1111A0</td>\n",
       "      <td>Fresh soybeans, canola, flaxseeds, and other o...</td>\n",
       "      <td>methane</td>\n",
       "      <td>kg/2018 USD, purchaser price</td>\n",
       "      <td>0.001</td>\n",
       "      <td>0.001</td>\n",
       "      <td>0.002</td>\n",
       "      <td>NaN</td>\n",
       "      <td>4</td>\n",
       "      <td>3</td>\n",
       "      <td>1</td>\n",
       "      <td>1</td>\n",
       "      <td>1</td>\n",
       "      <td>Commodity</td>\n",
       "      <td>2010</td>\n",
       "    </tr>\n",
       "    <tr>\n",
       "      <th>2</th>\n",
       "      <td>1111A0</td>\n",
       "      <td>Fresh soybeans, canola, flaxseeds, and other o...</td>\n",
       "      <td>nitrous oxide</td>\n",
       "      <td>kg/2018 USD, purchaser price</td>\n",
       "      <td>0.002</td>\n",
       "      <td>0.000</td>\n",
       "      <td>0.002</td>\n",
       "      <td>NaN</td>\n",
       "      <td>4</td>\n",
       "      <td>3</td>\n",
       "      <td>1</td>\n",
       "      <td>4</td>\n",
       "      <td>1</td>\n",
       "      <td>Commodity</td>\n",
       "      <td>2010</td>\n",
       "    </tr>\n",
       "    <tr>\n",
       "      <th>3</th>\n",
       "      <td>1111A0</td>\n",
       "      <td>Fresh soybeans, canola, flaxseeds, and other o...</td>\n",
       "      <td>other GHGs</td>\n",
       "      <td>kg CO2e/2018 USD, purchaser price</td>\n",
       "      <td>0.002</td>\n",
       "      <td>0.000</td>\n",
       "      <td>0.002</td>\n",
       "      <td>NaN</td>\n",
       "      <td>3</td>\n",
       "      <td>3</td>\n",
       "      <td>1</td>\n",
       "      <td>3</td>\n",
       "      <td>1</td>\n",
       "      <td>Commodity</td>\n",
       "      <td>2010</td>\n",
       "    </tr>\n",
       "    <tr>\n",
       "      <th>4</th>\n",
       "      <td>1111B0</td>\n",
       "      <td>Fresh wheat, corn, rice, and other grains</td>\n",
       "      <td>carbon dioxide</td>\n",
       "      <td>kg/2018 USD, purchaser price</td>\n",
       "      <td>0.659</td>\n",
       "      <td>0.081</td>\n",
       "      <td>0.740</td>\n",
       "      <td>NaN</td>\n",
       "      <td>4</td>\n",
       "      <td>3</td>\n",
       "      <td>1</td>\n",
       "      <td>4</td>\n",
       "      <td>1</td>\n",
       "      <td>Commodity</td>\n",
       "      <td>2010</td>\n",
       "    </tr>\n",
       "  </tbody>\n",
       "</table>\n",
       "</div>"
      ],
      "text/plain": [
       "     Code                                               Name       Substance  \\\n",
       "0  1111A0  Fresh soybeans, canola, flaxseeds, and other o...  carbon dioxide   \n",
       "1  1111A0  Fresh soybeans, canola, flaxseeds, and other o...         methane   \n",
       "2  1111A0  Fresh soybeans, canola, flaxseeds, and other o...   nitrous oxide   \n",
       "3  1111A0  Fresh soybeans, canola, flaxseeds, and other o...      other GHGs   \n",
       "4  1111B0          Fresh wheat, corn, rice, and other grains  carbon dioxide   \n",
       "\n",
       "                                Unit  \\\n",
       "0       kg/2018 USD, purchaser price   \n",
       "1       kg/2018 USD, purchaser price   \n",
       "2       kg/2018 USD, purchaser price   \n",
       "3  kg CO2e/2018 USD, purchaser price   \n",
       "4       kg/2018 USD, purchaser price   \n",
       "\n",
       "   Supply Chain Emission Factors without Margins  \\\n",
       "0                                          0.398   \n",
       "1                                          0.001   \n",
       "2                                          0.002   \n",
       "3                                          0.002   \n",
       "4                                          0.659   \n",
       "\n",
       "   Margins of Supply Chain Emission Factors  \\\n",
       "0                                     0.073   \n",
       "1                                     0.001   \n",
       "2                                     0.000   \n",
       "3                                     0.000   \n",
       "4                                     0.081   \n",
       "\n",
       "   Supply Chain Emission Factors with Margins  Unnamed: 7  \\\n",
       "0                                       0.470         NaN   \n",
       "1                                       0.002         NaN   \n",
       "2                                       0.002         NaN   \n",
       "3                                       0.002         NaN   \n",
       "4                                       0.740         NaN   \n",
       "\n",
       "   DQ ReliabilityScore of Factors without Margins  \\\n",
       "0                                               4   \n",
       "1                                               4   \n",
       "2                                               4   \n",
       "3                                               3   \n",
       "4                                               4   \n",
       "\n",
       "   DQ TemporalCorrelation of Factors without Margins  \\\n",
       "0                                                  3   \n",
       "1                                                  3   \n",
       "2                                                  3   \n",
       "3                                                  3   \n",
       "4                                                  3   \n",
       "\n",
       "   DQ GeographicalCorrelation of Factors without Margins  \\\n",
       "0                                                  1       \n",
       "1                                                  1       \n",
       "2                                                  1       \n",
       "3                                                  1       \n",
       "4                                                  1       \n",
       "\n",
       "   DQ TechnologicalCorrelation of Factors without Margins  \\\n",
       "0                                                  4        \n",
       "1                                                  1        \n",
       "2                                                  4        \n",
       "3                                                  3        \n",
       "4                                                  4        \n",
       "\n",
       "   DQ DataCollection of Factors without Margins     Source  Year  \n",
       "0                                             1  Commodity  2010  \n",
       "1                                             1  Commodity  2010  \n",
       "2                                             1  Commodity  2010  \n",
       "3                                             1  Commodity  2010  \n",
       "4                                             1  Commodity  2010  "
      ]
     },
     "execution_count": 14,
     "metadata": {},
     "output_type": "execute_result"
    }
   ],
   "source": [
    "df = pd.concat(all_data, ignore_index=True)\n",
    "df.head()"
   ]
  },
  {
   "cell_type": "code",
   "execution_count": 15,
   "id": "e6c2c15c",
   "metadata": {},
   "outputs": [
    {
     "data": {
      "text/plain": [
       "22092"
      ]
     },
     "execution_count": 15,
     "metadata": {},
     "output_type": "execute_result"
    }
   ],
   "source": [
    "len(df)"
   ]
  },
  {
   "cell_type": "code",
   "execution_count": 16,
   "id": "a8ddcf9b",
   "metadata": {},
   "outputs": [
    {
     "data": {
      "text/plain": [
       "Index(['Code', 'Name', 'Substance', 'Unit',\n",
       "       'Supply Chain Emission Factors without Margins',\n",
       "       'Margins of Supply Chain Emission Factors',\n",
       "       'Supply Chain Emission Factors with Margins', 'Unnamed: 7',\n",
       "       'DQ ReliabilityScore of Factors without Margins',\n",
       "       'DQ TemporalCorrelation of Factors without Margins',\n",
       "       'DQ GeographicalCorrelation of Factors without Margins',\n",
       "       'DQ TechnologicalCorrelation of Factors without Margins',\n",
       "       'DQ DataCollection of Factors without Margins', 'Source', 'Year'],\n",
       "      dtype='object')"
      ]
     },
     "execution_count": 16,
     "metadata": {},
     "output_type": "execute_result"
    }
   ],
   "source": [
    "df.columns\n"
   ]
  },
  {
   "cell_type": "code",
   "execution_count": 17,
   "id": "31ac4f9a",
   "metadata": {},
   "outputs": [
    {
     "data": {
      "text/plain": [
       "Code                                                          0\n",
       "Name                                                          0\n",
       "Substance                                                     0\n",
       "Unit                                                          0\n",
       "Supply Chain Emission Factors without Margins                 0\n",
       "Margins of Supply Chain Emission Factors                      0\n",
       "Supply Chain Emission Factors with Margins                    0\n",
       "Unnamed: 7                                                22092\n",
       "DQ ReliabilityScore of Factors without Margins                0\n",
       "DQ TemporalCorrelation of Factors without Margins             0\n",
       "DQ GeographicalCorrelation of Factors without Margins         0\n",
       "DQ TechnologicalCorrelation of Factors without Margins        0\n",
       "DQ DataCollection of Factors without Margins                  0\n",
       "Source                                                        0\n",
       "Year                                                          0\n",
       "dtype: int64"
      ]
     },
     "execution_count": 17,
     "metadata": {},
     "output_type": "execute_result"
    }
   ],
   "source": [
    "df.isnull().sum()"
   ]
  },
  {
   "cell_type": "code",
   "execution_count": 18,
   "id": "2f77a4a4",
   "metadata": {},
   "outputs": [],
   "source": [
    "df.drop(columns=['Unnamed: 7'],inplace=True)"
   ]
  },
  {
   "cell_type": "code",
   "execution_count": 19,
   "id": "1d4a9b95",
   "metadata": {},
   "outputs": [
    {
     "data": {
      "text/plain": [
       "Index(['Code', 'Name', 'Substance', 'Unit',\n",
       "       'Supply Chain Emission Factors without Margins',\n",
       "       'Margins of Supply Chain Emission Factors',\n",
       "       'Supply Chain Emission Factors with Margins',\n",
       "       'DQ ReliabilityScore of Factors without Margins',\n",
       "       'DQ TemporalCorrelation of Factors without Margins',\n",
       "       'DQ GeographicalCorrelation of Factors without Margins',\n",
       "       'DQ TechnologicalCorrelation of Factors without Margins',\n",
       "       'DQ DataCollection of Factors without Margins', 'Source', 'Year'],\n",
       "      dtype='object')"
      ]
     },
     "execution_count": 19,
     "metadata": {},
     "output_type": "execute_result"
    }
   ],
   "source": [
    "df.columns"
   ]
  },
  {
   "cell_type": "code",
   "execution_count": 20,
   "id": "e785b151",
   "metadata": {},
   "outputs": [
    {
     "name": "stdout",
     "output_type": "stream",
     "text": [
      "<class 'pandas.core.frame.DataFrame'>\n",
      "RangeIndex: 22092 entries, 0 to 22091\n",
      "Data columns (total 14 columns):\n",
      " #   Column                                                  Non-Null Count  Dtype  \n",
      "---  ------                                                  --------------  -----  \n",
      " 0   Code                                                    22092 non-null  object \n",
      " 1   Name                                                    22092 non-null  object \n",
      " 2   Substance                                               22092 non-null  object \n",
      " 3   Unit                                                    22092 non-null  object \n",
      " 4   Supply Chain Emission Factors without Margins           22092 non-null  float64\n",
      " 5   Margins of Supply Chain Emission Factors                22092 non-null  float64\n",
      " 6   Supply Chain Emission Factors with Margins              22092 non-null  float64\n",
      " 7   DQ ReliabilityScore of Factors without Margins          22092 non-null  int64  \n",
      " 8   DQ TemporalCorrelation of Factors without Margins       22092 non-null  int64  \n",
      " 9   DQ GeographicalCorrelation of Factors without Margins   22092 non-null  int64  \n",
      " 10  DQ TechnologicalCorrelation of Factors without Margins  22092 non-null  int64  \n",
      " 11  DQ DataCollection of Factors without Margins            22092 non-null  int64  \n",
      " 12  Source                                                  22092 non-null  object \n",
      " 13  Year                                                    22092 non-null  int64  \n",
      "dtypes: float64(3), int64(6), object(5)\n",
      "memory usage: 2.4+ MB\n",
      "None\n"
     ]
    }
   ],
   "source": [
    "print(df.info())"
   ]
  },
  {
   "cell_type": "code",
   "execution_count": 21,
   "id": "8f8aeb1c",
   "metadata": {},
   "outputs": [
    {
     "data": {
      "text/html": [
       "<div>\n",
       "<style scoped>\n",
       "    .dataframe tbody tr th:only-of-type {\n",
       "        vertical-align: middle;\n",
       "    }\n",
       "\n",
       "    .dataframe tbody tr th {\n",
       "        vertical-align: top;\n",
       "    }\n",
       "\n",
       "    .dataframe thead th {\n",
       "        text-align: right;\n",
       "    }\n",
       "</style>\n",
       "<table border=\"1\" class=\"dataframe\">\n",
       "  <thead>\n",
       "    <tr style=\"text-align: right;\">\n",
       "      <th></th>\n",
       "      <th>count</th>\n",
       "      <th>mean</th>\n",
       "      <th>std</th>\n",
       "      <th>min</th>\n",
       "      <th>25%</th>\n",
       "      <th>50%</th>\n",
       "      <th>75%</th>\n",
       "      <th>max</th>\n",
       "    </tr>\n",
       "  </thead>\n",
       "  <tbody>\n",
       "    <tr>\n",
       "      <th>Supply Chain Emission Factors without Margins</th>\n",
       "      <td>22092.0</td>\n",
       "      <td>0.084807</td>\n",
       "      <td>0.267039</td>\n",
       "      <td>0.0</td>\n",
       "      <td>0.0</td>\n",
       "      <td>0.002</td>\n",
       "      <td>0.044</td>\n",
       "      <td>7.228</td>\n",
       "    </tr>\n",
       "    <tr>\n",
       "      <th>Margins of Supply Chain Emission Factors</th>\n",
       "      <td>22092.0</td>\n",
       "      <td>0.012857</td>\n",
       "      <td>0.078720</td>\n",
       "      <td>0.0</td>\n",
       "      <td>0.0</td>\n",
       "      <td>0.000</td>\n",
       "      <td>0.000</td>\n",
       "      <td>3.349</td>\n",
       "    </tr>\n",
       "    <tr>\n",
       "      <th>Supply Chain Emission Factors with Margins</th>\n",
       "      <td>22092.0</td>\n",
       "      <td>0.097681</td>\n",
       "      <td>0.288992</td>\n",
       "      <td>0.0</td>\n",
       "      <td>0.0</td>\n",
       "      <td>0.003</td>\n",
       "      <td>0.052</td>\n",
       "      <td>7.290</td>\n",
       "    </tr>\n",
       "    <tr>\n",
       "      <th>DQ ReliabilityScore of Factors without Margins</th>\n",
       "      <td>22092.0</td>\n",
       "      <td>3.308030</td>\n",
       "      <td>0.499643</td>\n",
       "      <td>2.0</td>\n",
       "      <td>3.0</td>\n",
       "      <td>3.000</td>\n",
       "      <td>4.000</td>\n",
       "      <td>4.000</td>\n",
       "    </tr>\n",
       "    <tr>\n",
       "      <th>DQ TemporalCorrelation of Factors without Margins</th>\n",
       "      <td>22092.0</td>\n",
       "      <td>2.571429</td>\n",
       "      <td>0.494883</td>\n",
       "      <td>2.0</td>\n",
       "      <td>2.0</td>\n",
       "      <td>3.000</td>\n",
       "      <td>3.000</td>\n",
       "      <td>3.000</td>\n",
       "    </tr>\n",
       "    <tr>\n",
       "      <th>DQ GeographicalCorrelation of Factors without Margins</th>\n",
       "      <td>22092.0</td>\n",
       "      <td>1.000000</td>\n",
       "      <td>0.000000</td>\n",
       "      <td>1.0</td>\n",
       "      <td>1.0</td>\n",
       "      <td>1.000</td>\n",
       "      <td>1.000</td>\n",
       "      <td>1.000</td>\n",
       "    </tr>\n",
       "    <tr>\n",
       "      <th>DQ TechnologicalCorrelation of Factors without Margins</th>\n",
       "      <td>22092.0</td>\n",
       "      <td>2.632129</td>\n",
       "      <td>1.135661</td>\n",
       "      <td>1.0</td>\n",
       "      <td>1.0</td>\n",
       "      <td>3.000</td>\n",
       "      <td>3.000</td>\n",
       "      <td>5.000</td>\n",
       "    </tr>\n",
       "    <tr>\n",
       "      <th>DQ DataCollection of Factors without Margins</th>\n",
       "      <td>22092.0</td>\n",
       "      <td>1.000000</td>\n",
       "      <td>0.000000</td>\n",
       "      <td>1.0</td>\n",
       "      <td>1.0</td>\n",
       "      <td>1.000</td>\n",
       "      <td>1.000</td>\n",
       "      <td>1.000</td>\n",
       "    </tr>\n",
       "    <tr>\n",
       "      <th>Year</th>\n",
       "      <td>22092.0</td>\n",
       "      <td>2013.000000</td>\n",
       "      <td>2.000045</td>\n",
       "      <td>2010.0</td>\n",
       "      <td>2011.0</td>\n",
       "      <td>2013.000</td>\n",
       "      <td>2015.000</td>\n",
       "      <td>2016.000</td>\n",
       "    </tr>\n",
       "  </tbody>\n",
       "</table>\n",
       "</div>"
      ],
      "text/plain": [
       "                                                      count         mean  \\\n",
       "Supply Chain Emission Factors without Margins       22092.0     0.084807   \n",
       "Margins of Supply Chain Emission Factors            22092.0     0.012857   \n",
       "Supply Chain Emission Factors with Margins          22092.0     0.097681   \n",
       "DQ ReliabilityScore of Factors without Margins      22092.0     3.308030   \n",
       "DQ TemporalCorrelation of Factors without Margins   22092.0     2.571429   \n",
       "DQ GeographicalCorrelation of Factors without M...  22092.0     1.000000   \n",
       "DQ TechnologicalCorrelation of Factors without ...  22092.0     2.632129   \n",
       "DQ DataCollection of Factors without Margins        22092.0     1.000000   \n",
       "Year                                                22092.0  2013.000000   \n",
       "\n",
       "                                                         std     min     25%  \\\n",
       "Supply Chain Emission Factors without Margins       0.267039     0.0     0.0   \n",
       "Margins of Supply Chain Emission Factors            0.078720     0.0     0.0   \n",
       "Supply Chain Emission Factors with Margins          0.288992     0.0     0.0   \n",
       "DQ ReliabilityScore of Factors without Margins      0.499643     2.0     3.0   \n",
       "DQ TemporalCorrelation of Factors without Margins   0.494883     2.0     2.0   \n",
       "DQ GeographicalCorrelation of Factors without M...  0.000000     1.0     1.0   \n",
       "DQ TechnologicalCorrelation of Factors without ...  1.135661     1.0     1.0   \n",
       "DQ DataCollection of Factors without Margins        0.000000     1.0     1.0   \n",
       "Year                                                2.000045  2010.0  2011.0   \n",
       "\n",
       "                                                         50%       75%  \\\n",
       "Supply Chain Emission Factors without Margins          0.002     0.044   \n",
       "Margins of Supply Chain Emission Factors               0.000     0.000   \n",
       "Supply Chain Emission Factors with Margins             0.003     0.052   \n",
       "DQ ReliabilityScore of Factors without Margins         3.000     4.000   \n",
       "DQ TemporalCorrelation of Factors without Margins      3.000     3.000   \n",
       "DQ GeographicalCorrelation of Factors without M...     1.000     1.000   \n",
       "DQ TechnologicalCorrelation of Factors without ...     3.000     3.000   \n",
       "DQ DataCollection of Factors without Margins           1.000     1.000   \n",
       "Year                                                2013.000  2015.000   \n",
       "\n",
       "                                                         max  \n",
       "Supply Chain Emission Factors without Margins          7.228  \n",
       "Margins of Supply Chain Emission Factors               3.349  \n",
       "Supply Chain Emission Factors with Margins             7.290  \n",
       "DQ ReliabilityScore of Factors without Margins         4.000  \n",
       "DQ TemporalCorrelation of Factors without Margins      3.000  \n",
       "DQ GeographicalCorrelation of Factors without M...     1.000  \n",
       "DQ TechnologicalCorrelation of Factors without ...     5.000  \n",
       "DQ DataCollection of Factors without Margins           1.000  \n",
       "Year                                                2016.000  "
      ]
     },
     "execution_count": 21,
     "metadata": {},
     "output_type": "execute_result"
    }
   ],
   "source": [
    "df.describe().T"
   ]
  },
  {
   "cell_type": "code",
   "execution_count": 22,
   "id": "c0c312c3",
   "metadata": {},
   "outputs": [
    {
     "data": {
      "text/plain": [
       "Code                                                      0\n",
       "Name                                                      0\n",
       "Substance                                                 0\n",
       "Unit                                                      0\n",
       "Supply Chain Emission Factors without Margins             0\n",
       "Margins of Supply Chain Emission Factors                  0\n",
       "Supply Chain Emission Factors with Margins                0\n",
       "DQ ReliabilityScore of Factors without Margins            0\n",
       "DQ TemporalCorrelation of Factors without Margins         0\n",
       "DQ GeographicalCorrelation of Factors without Margins     0\n",
       "DQ TechnologicalCorrelation of Factors without Margins    0\n",
       "DQ DataCollection of Factors without Margins              0\n",
       "Source                                                    0\n",
       "Year                                                      0\n",
       "dtype: int64"
      ]
     },
     "execution_count": 22,
     "metadata": {},
     "output_type": "execute_result"
    }
   ],
   "source": [
    "df.isnull().sum()"
   ]
  },
  {
   "cell_type": "code",
   "execution_count": 23,
   "id": "c27c4dd1",
   "metadata": {},
   "outputs": [
    {
     "data": {
      "image/png": "[encoded data removed]",
      "text/plain": [
       "<Figure size 640x480 with 1 Axes>"
      ]
     },
     "metadata": {},
     "output_type": "display_data"
    }
   ],
   "source": [
    "sns.histplot(df['Supply Chain Emission Factors with Margins'], bins=50, kde=True)\n",
    "plt.title('Target Variable Distribution')\n",
    "plt.show()"
   ]
  },
  {
   "cell_type": "code",
   "execution_count": 24,
   "id": "e6a57f2a",
   "metadata": {},
   "outputs": [
    {
     "name": "stdout",
     "output_type": "stream",
     "text": [
      "Substance\n",
      "carbon dioxide    5523\n",
      "methane           5523\n",
      "nitrous oxide     5523\n",
      "other GHGs        5523\n",
      "Name: count, dtype: int64\n"
     ]
    }
   ],
   "source": [
    "print(df['Substance'].value_counts())"
   ]
  },
  {
   "cell_type": "code",
   "execution_count": 25,
   "id": "13495c5b",
   "metadata": {},
   "outputs": [
    {
     "name": "stdout",
     "output_type": "stream",
     "text": [
      "Unit\n",
      "kg/2018 USD, purchaser price         16569\n",
      "kg CO2e/2018 USD, purchaser price     5523\n",
      "Name: count, dtype: int64\n"
     ]
    }
   ],
   "source": [
    "print(df['Unit'].value_counts())"
   ]
  },
  {
   "cell_type": "code",
   "execution_count": 26,
   "id": "14f8bc3d",
   "metadata": {},
   "outputs": [
    {
     "name": "stdout",
     "output_type": "stream",
     "text": [
      "['kg/2018 USD, purchaser price' 'kg CO2e/2018 USD, purchaser price']\n"
     ]
    }
   ],
   "source": [
    "print(df['Unit'].unique())"
   ]
  },
  {
   "cell_type": "code",
   "execution_count": 27,
   "id": "eb4c0eab",
   "metadata": {},
   "outputs": [
    {
     "name": "stdout",
     "output_type": "stream",
     "text": [
      "Source\n",
      "Industry     11060\n",
      "Commodity    11032\n",
      "Name: count, dtype: int64\n"
     ]
    }
   ],
   "source": [
    "print(df['Source'].value_counts())"
   ]
  },
  {
   "cell_type": "code",
   "execution_count": 28,
   "id": "a611ac88",
   "metadata": {},
   "outputs": [
    {
     "data": {
      "text/plain": [
       "array(['carbon dioxide', 'methane', 'nitrous oxide', 'other GHGs'],\n",
       "      dtype=object)"
      ]
     },
     "execution_count": 28,
     "metadata": {},
     "output_type": "execute_result"
    }
   ],
   "source": [
    "df['Substance'].unique()"
   ]
  },
  {
   "cell_type": "code",
   "execution_count": 29,
   "id": "2156208a",
   "metadata": {},
   "outputs": [
    {
     "data": {
      "text/plain": [
       "array([0, 1, 2, 3])"
      ]
     },
     "execution_count": 29,
     "metadata": {},
     "output_type": "execute_result"
    }
   ],
   "source": [
    "substance_map={'carbon dioxide':0, 'methane':1, 'nitrous oxide':2, 'other GHGs':3}\n",
    "df['Substance']=df['Substance'].map(substance_map)\n",
    "df['Substance'].unique()"
   ]
  },
  {
   "cell_type": "code",
   "execution_count": 30,
   "id": "33130b09",
   "metadata": {},
   "outputs": [
    {
     "name": "stdout",
     "output_type": "stream",
     "text": [
      "['kg/2018 USD, purchaser price' 'kg CO2e/2018 USD, purchaser price']\n",
      "[0 1]\n"
     ]
    }
   ],
   "source": [
    "print(df['Unit'].unique())\n",
    "unit_map={'kg/2018 USD, purchaser price':0, 'kg CO2e/2018 USD, purchaser price':1}\n",
    "df['Unit']=df['Unit'].map(unit_map)\n",
    "print(df['Unit'].unique())"
   ]
  },
  {
   "cell_type": "code",
   "execution_count": 31,
   "id": "163c949c",
   "metadata": {},
   "outputs": [
    {
     "name": "stdout",
     "output_type": "stream",
     "text": [
      "['Commodity' 'Industry']\n",
      "[0 1]\n"
     ]
    }
   ],
   "source": [
    "print(df['Source'].unique())\n",
    "source_map={'Commodity':0, 'Industry':1}\n",
    "df['Source']=df['Source'].map(source_map)\n",
    "print(df['Source'].unique())\n"
   ]
  },
  {
   "cell_type": "code",
   "execution_count": 32,
   "id": "892bb58d",
   "metadata": {},
   "outputs": [
    {
     "name": "stdout",
     "output_type": "stream",
     "text": [
      "<class 'pandas.core.frame.DataFrame'>\n",
      "RangeIndex: 22092 entries, 0 to 22091\n",
      "Data columns (total 14 columns):\n",
      " #   Column                                                  Non-Null Count  Dtype  \n",
      "---  ------                                                  --------------  -----  \n",
      " 0   Code                                                    22092 non-null  object \n",
      " 1   Name                                                    22092 non-null  object \n",
      " 2   Substance                                               22092 non-null  int64  \n",
      " 3   Unit                                                    22092 non-null  int64  \n",
      " 4   Supply Chain Emission Factors without Margins           22092 non-null  float64\n",
      " 5   Margins of Supply Chain Emission Factors                22092 non-null  float64\n",
      " 6   Supply Chain Emission Factors with Margins              22092 non-null  float64\n",
      " 7   DQ ReliabilityScore of Factors without Margins          22092 non-null  int64  \n",
      " 8   DQ TemporalCorrelation of Factors without Margins       22092 non-null  int64  \n",
      " 9   DQ GeographicalCorrelation of Factors without Margins   22092 non-null  int64  \n",
      " 10  DQ TechnologicalCorrelation of Factors without Margins  22092 non-null  int64  \n",
      " 11  DQ DataCollection of Factors without Margins            22092 non-null  int64  \n",
      " 12  Source                                                  22092 non-null  int64  \n",
      " 13  Year                                                    22092 non-null  int64  \n",
      "dtypes: float64(3), int64(9), object(2)\n",
      "memory usage: 2.4+ MB\n"
     ]
    }
   ],
   "source": [
    "df.info()"
   ]
  },
  {
   "cell_type": "code",
   "execution_count": 33,
   "id": "849847f5",
   "metadata": {},
   "outputs": [
    {
     "data": {
      "text/plain": [
       "array(['1111A0', '1111B0', '111200', '111300', '111400', '111900',\n",
       "       '112120', '1121A0', '112300', '112A00', '113000', '114000',\n",
       "       '115000', '211000', '212100', '212230', '2122A0', '212310',\n",
       "       '2123A0', '213111', '21311A', '221100', '221200', '221300',\n",
       "       '230301', '230302', '233210', '233230', '233240', '233262',\n",
       "       '2332A0', '2332C0', '2332D0', '233411', '233412', '2334A0',\n",
       "       '311111', '311119', '311210', '311221', '311224', '311225',\n",
       "       '311230', '311300', '311410', '311420', '311513', '311514',\n",
       "       '31151A', '311520', '311615', '31161A', '311700', '311810',\n",
       "       '3118A0', '311910', '311920', '311930', '311940', '311990',\n",
       "       '312110', '312120', '312130', '312140', '312200', '313100',\n",
       "       '313200', '313300', '314110', '314120', '314900', '315000',\n",
       "       '316000', '321100', '321200', '321910', '3219A0', '322110',\n",
       "       '322120', '322130', '322210', '322220', '322230', '322291',\n",
       "       '322299', '323110', '323120', '324110', '324121', '324122',\n",
       "       '324190', '325110', '325120', '325130', '325180', '325190',\n",
       "       '325211', '3252A0', '325310', '325320', '325411', '325412',\n",
       "       '325413', '325414', '325510', '325520', '325610', '325620',\n",
       "       '325910', '3259A0', '326110', '326120', '326130', '326140',\n",
       "       '326150', '326160', '326190', '326210', '326220', '326290',\n",
       "       '327100', '327200', '327310', '327320', '327330', '327390',\n",
       "       '327400', '327910', '327991', '327992', '327993', '327999',\n",
       "       '331110', '331200', '331313', '33131B', '331410', '331420',\n",
       "       '331490', '331510', '331520', '332114', '332119', '33211A',\n",
       "       '332200', '332310', '332320', '332410', '332420', '332430',\n",
       "       '332500', '332600', '332710', '332720', '332800', '332913',\n",
       "       '33291A', '332991', '332996', '332999', '33299A', '333111',\n",
       "       '333112', '333120', '333130', '333242', '33329A', '333314',\n",
       "       '333316', '333318', '333413', '333414', '333415', '333511',\n",
       "       '333514', '333517', '33351B', '333611', '333612', '333613',\n",
       "       '333618', '333912', '33391A', '333920', '333991', '333993',\n",
       "       '333994', '33399A', '33399B', '334111', '334112', '334118',\n",
       "       '334210', '334220', '334290', '334300', '334413', '334418',\n",
       "       '33441A', '334510', '334511', '334512', '334513', '334514',\n",
       "       '334515', '334516', '334517', '33451A', '334610', '335110',\n",
       "       '335120', '335210', '335221', '335222', '335224', '335228',\n",
       "       '335311', '335312', '335313', '335314', '335911', '335912',\n",
       "       '335920', '335930', '335991', '335999', '336111', '336112',\n",
       "       '336120', '336211', '336212', '336213', '336214', '336310',\n",
       "       '336320', '336350', '336360', '336370', '336390', '3363A0',\n",
       "       '336411', '336412', '336413', '336414', '33641A', '336500',\n",
       "       '336611', '336612', '336991', '336992', '336999', '337110',\n",
       "       '337121', '337122', '337127', '33712N', '337215', '33721A',\n",
       "       '337900', '339112', '339113', '339114', '339115', '339116',\n",
       "       '339910', '339920', '339930', '339940', '339950', '339990',\n",
       "       '4200ID', '423100', '423400', '423600', '423800', '423A00',\n",
       "       '424200', '424400', '424700', '424A00', '425000', '441000',\n",
       "       '444000', '445000', '446000', '447000', '448000', '452000',\n",
       "       '454000', '481000', '482000', '483000', '484000', '485000',\n",
       "       '486000', '48A000', '491000', '492000', '493000', '4B0000',\n",
       "       '511110', '511120', '511130', '5111A0', '511200', '512100',\n",
       "       '512200', '515100', '515200', '517110', '517210', '517A00',\n",
       "       '518200', '519130', '5191A0', '522A00', '523900', '523A00',\n",
       "       '524113', '5241XX', '524200', '525000', '52A000', '531HSO',\n",
       "       '531HST', '531ORE', '532100', '532400', '532A00', '533000',\n",
       "       '541100', '541200', '541300', '541400', '541511', '541512',\n",
       "       '54151A', '541610', '5416A0', '541700', '541800', '541920',\n",
       "       '541940', '5419A0', '550000', '561100', '561200', '561300',\n",
       "       '561400', '561500', '561600', '561700', '561900', '562000',\n",
       "       '611100', '611A00', '611B00', '621100', '621200', '621300',\n",
       "       '621400', '621500', '621600', '621900', '622000', '623A00',\n",
       "       '623B00', '624100', '624400', '624A00', '711100', '711200',\n",
       "       '711500', '711A00', '712000', '713100', '713200', '713900',\n",
       "       '721000', '722110', '722211', '722A00', '811100', '811200',\n",
       "       '811300', '811400', '812100', '812200', '812300', '812900',\n",
       "       '813100', '813A00', '813B00', '814000', '331314'], dtype=object)"
      ]
     },
     "execution_count": 33,
     "metadata": {},
     "output_type": "execute_result"
    }
   ],
   "source": [
    "df.Code.unique()"
   ]
  },
  {
   "cell_type": "code",
   "execution_count": 34,
   "id": "cebb107f",
   "metadata": {},
   "outputs": [
    {
     "data": {
      "text/plain": [
       "array(['Fresh soybeans, canola, flaxseeds, and other oilseeds',\n",
       "       'Fresh wheat, corn, rice, and other grains',\n",
       "       'Fresh vegetables, melons, and potatoes',\n",
       "       'Fresh fruits and tree nuts',\n",
       "       'Greenhouse crops, mushrooms, nurseries, and flowers',\n",
       "       'Tobacco, cotton, sugarcane, peanuts, sugar beets, herbs and spices, and other crops',\n",
       "       'Dairies', 'Cattle ranches and feedlots', 'Poultry farms',\n",
       "       'Animal farms and aquaculture ponds (except cattle and poultry)',\n",
       "       'Timber and raw forest products', 'Wild-caught fish and game',\n",
       "       'Agriculture and forestry support', 'Unrefined oil and gas',\n",
       "       'Coal', 'Copper, nickel, lead, and zinc',\n",
       "       'Iron, gold, silver, and other metal ores', 'Dimensional stone',\n",
       "       'Sand, gravel, clay, phosphate, other nonmetallic minerals',\n",
       "       'Well drilling', 'Other support activities for mining',\n",
       "       'Electricity', 'Natural gas',\n",
       "       'Drinking water and wastewater treatment',\n",
       "       'Nonresidential maintenance and repair',\n",
       "       'Residential maintenance and repair', 'Health care structures',\n",
       "       'Manufacturing structures', 'Power and communication structures',\n",
       "       'Educational and vocational structures',\n",
       "       'Commercial structures, including farm structures',\n",
       "       'Transportation structures and highways and streets',\n",
       "       'Other nonresidential structures',\n",
       "       'Single-family residential structures',\n",
       "       'Multifamily residential structures',\n",
       "       'Other residential structures', 'Dog and cat food',\n",
       "       'Other animal food', 'Flours and malts', 'Corn products',\n",
       "       'Soybean and other oilseed processing',\n",
       "       'Refined vegetable, olive, and seed oils', 'Breakfast cereals',\n",
       "       'Sugar, candy, and chocolate', 'Frozen food',\n",
       "       'Fruit and vegetable preservation', 'Cheese',\n",
       "       'Dry, condensed, and evaporated dairy', 'Fluid milk and butter',\n",
       "       'Ice cream and frozen desserts', 'Packaged poultry',\n",
       "       'Packaged meat (except poultry)', 'Seafood',\n",
       "       'Bread and other baked goods',\n",
       "       'Cookies, crackers, pastas, and tortillas', 'Snack foods',\n",
       "       'Coffee and tea', 'Flavored drink concentrates',\n",
       "       'Seasonings and dressings', 'All other foods',\n",
       "       'Soft drinks, bottled water, and ice', 'Breweries and beer',\n",
       "       'Wineries and wine', 'Distilleries and spirits',\n",
       "       'Tobacco products', 'Fiber, yarn, and thread', 'Fabric',\n",
       "       'Finished and coated fabric', 'Carpets and rugs',\n",
       "       'Curtains and linens', 'Other textiles', 'Clothing', 'Leather',\n",
       "       'Lumber and treated lumber', 'Plywood and veneer',\n",
       "       'Wooden windows, door, and flooring',\n",
       "       'Veneer, plywood, and engineered wood', 'Wood pulp', 'Paper',\n",
       "       'Cardboard', 'Cardboard containers', 'Paper bags and coated paper',\n",
       "       'Stationery', 'Sanitary paper (tissues, napkins, diapers, etc.)',\n",
       "       'All other converted paper products',\n",
       "       'Books, newspapers, magazines, and other print media',\n",
       "       'Printing support',\n",
       "       'Gasoline, fuels, and by-products of petroleum refining',\n",
       "       'Asphalt pavement', 'Asphalt shingles',\n",
       "       'Other petroleum and coal products', 'Petrochemicals',\n",
       "       'Compressed Gases', 'Synthetic dyes and pigments',\n",
       "       'Other basic inorganic chemicals', 'Other basic organic chemicals',\n",
       "       'Plastics', 'Synthetic rubber and artificial and synthetic fibers',\n",
       "       'Fertilizers', 'Pesticides', 'Medicinal and botanical ingredients',\n",
       "       'Pharmaceutical products (pills, powders, solutions, etc.)',\n",
       "       'Blood sugar, pregnancy, and other diagnostic test kits',\n",
       "       'Vaccines and other biological medical products',\n",
       "       'Paints and coatings', 'Adhesives', 'Soap and cleaning compounds',\n",
       "       'Toiletries', 'Ink and ink cartridges',\n",
       "       'Chemicals (except basic chemicals, agrichemicals, polymers, paints, pharmaceuticals,soaps, cleaning compounds)',\n",
       "       'Plastic bags, films, and sheets',\n",
       "       'Plastic pipe, fittings, and sausage casings',\n",
       "       'Laminated plastic plates and shapes', 'Polystyrene foam products',\n",
       "       'Urethane and other foam products', 'Plastic bottles',\n",
       "       'Other plastic products', 'Rubber tires',\n",
       "       'Rubber and plastic belts and hoses', 'Other rubber products',\n",
       "       'Clay and ceramic products', 'Glass and glass products', 'Cement',\n",
       "       'Ready-mix concrete', 'Concrete pipe, bricks, and blocks',\n",
       "       'Other concrete products', 'Lime and gypsum products',\n",
       "       'Abrasive products', 'Cut stone and stone products',\n",
       "       'Ground or treated minerals and earth', 'Mineral wool',\n",
       "       'Other nonmetallic mineral products',\n",
       "       'Primary iron, steel, and ferroalloy products',\n",
       "       'Secondary steel products',\n",
       "       'Alumina refining and primary aluminum production',\n",
       "       'Aluminum products',\n",
       "       'Nonferrous Metal (except Aluminum) Smelting and Refining',\n",
       "       'Secondary copper products',\n",
       "       'Other secondary nonferrous metal products', 'Cast iron and steel',\n",
       "       'Nonferrous metal casts', 'Custom metal rolls',\n",
       "       'Metal crown, closure, and other metal stamping (except automotive)',\n",
       "       'All other forging, stamping, and sintering',\n",
       "       'Cutlery and handtools', 'Metal structural products',\n",
       "       'Metal windows, doors, and architectural products',\n",
       "       'Power boilers and heat exchangers', 'Heavy gauge metal tanks',\n",
       "       'Light gauge metal cans, boxes, and containers',\n",
       "       'Metal hinges, keys, lock, and other hardware',\n",
       "       'Springs and wires', 'Machine shops', 'Screws, nuts, and bolts',\n",
       "       'Metal coatings, engravings, and heat treatments',\n",
       "       'Metal plumbing drains, faucets, valves, and other fittings',\n",
       "       'Valve and fittings (except for plumbing)',\n",
       "       'Ball and roller bearings', 'Fabricated pipe and pipe fittings',\n",
       "       'Other fabricated metal manufacturing',\n",
       "       'Ammunition, arms, ordnance, and related accessories',\n",
       "       'Farm machinery and equipment', 'Lawn and garden equipment',\n",
       "       'Construction machinery', 'Mining and oil/gas field machinery',\n",
       "       'Semiconductor machinery',\n",
       "       'Machinery for the paper, textile, food or other industries (except semiconductor machinery)',\n",
       "       'Optical instruments and lenses',\n",
       "       'Photography and photocopying equipment',\n",
       "       'Other commercial and service industry machinery',\n",
       "       'Industrial and commercial fan and blower and air purification equipment',\n",
       "       'Heating equipment other than warm air furnaces',\n",
       "       'Air conditioning, refrigeration, and warm air heating equipment',\n",
       "       'Industrial molds', 'Special tools, dies, jigs, and fixtures',\n",
       "       'Machine tool manufacturing',\n",
       "       'Cutting and machine tool accessory, rolling mill, and other metalworking machines',\n",
       "       'Turbines and turbine generator sets',\n",
       "       'Speed changers, industrial high-speed drives, and gears',\n",
       "       'Mechanical power transmission equipment',\n",
       "       'Other engine equipment', 'Air and gas compressors',\n",
       "       'Pumps and pumping equipment', 'Material handling equipment',\n",
       "       'Power tools', 'Packaging machinery',\n",
       "       'Industrial process furnaces and ovens',\n",
       "       'Welding and Soldering Equipment, Scales and Balances, and other general purpose machinery',\n",
       "       'Hydraulic pumps, motors, cylinders and actuators', 'Computers',\n",
       "       'Computer storage device readers',\n",
       "       'Computer terminals and other computer peripheral equipment',\n",
       "       'Telephones', 'Wireless communications',\n",
       "       'Communications equipment', 'Audio and video equipment',\n",
       "       'Semiconductors', 'Printed circuit and electronic assembly',\n",
       "       'Electronic capacitors, resistors, coils, transformers, connectors and other components (except  semiconductors and printed circuit assemblies)',\n",
       "       'Electromedical appartuses', 'Navigation instruments',\n",
       "       'Automatic controls for HVAC and refrigeration equipment',\n",
       "       'Industrial process variable instruments',\n",
       "       'Fluid meters and counting devices', 'Signal testing instruments',\n",
       "       'Analytical laboratory instruments', 'Irradiation apparatuses',\n",
       "       'Watches, clocks, and other measuring and controlling devices',\n",
       "       'External hard drives, CDs, other storage media', 'Light bulbs',\n",
       "       'Light fixtures', 'Small electrical appliances',\n",
       "       'Home cooking appliances', 'Home refrigerators and freezers',\n",
       "       'Home laundry machines',\n",
       "       'Major home appliances (except ovens, stoves, refrigerators and laundry machines)',\n",
       "       'Specialty transformers', 'Motors and generators',\n",
       "       'Switchgear and switchboards', 'Relay and industrial controls',\n",
       "       'Storage batteries', 'Primary batteries',\n",
       "       'Communication and energy wire and cable', 'Wiring devices',\n",
       "       'Carbon and graphite products',\n",
       "       'other miscellaneous electrical equipment and components',\n",
       "       'Automobiles', 'Pickup trucks, vans, and SUVs',\n",
       "       'Heavy duty trucks', 'Vehicle bodies', 'Truck trailers',\n",
       "       'Motor homes', 'Travel trailer and campers',\n",
       "       'Vehicle engines and engine parts',\n",
       "       'Vehicle electrical and electronic equipment',\n",
       "       'Transmission and power train parts',\n",
       "       'Vehicle seating and interior trim (upholstery)',\n",
       "       'Vehicle metal stamping', 'Other vehicle parts',\n",
       "       'Motor vehicle steering, suspension components (except spring), and brake systems',\n",
       "       'Aircraft', 'Aircraft engines and parts', 'Other aircraft parts',\n",
       "       'Guided missiles and space vehicles',\n",
       "       'Propulsion units and parts for space vehicles and guided missiles',\n",
       "       'Railroad rolling stock', 'Ships and ship repair', 'Boats',\n",
       "       'Motorcycle, bicycle, and parts',\n",
       "       'Military armored vehicles and tanks',\n",
       "       'Other transportation equipment',\n",
       "       'Wood kitchen cabinets and countertops',\n",
       "       'Home furniture - upholstered',\n",
       "       'Home furniture - wood, nonupholstered', 'Institutional furniture',\n",
       "       'Other household nonupholstered furniture', 'Shelving and lockers',\n",
       "       'Office furniture and custom architectural woodwork and millwork',\n",
       "       'Mattresses, blinds and shades',\n",
       "       'Surgical and medical instruments',\n",
       "       'Surgical appliance and supplies', 'Dental equipment and supplies',\n",
       "       'Ophthalmic goods', 'Dental laboratories',\n",
       "       'Jewelry and silverware', 'Sporting and athletic goods',\n",
       "       'Dolls, toys, and games', 'Office supplies (not paper)', 'Signs',\n",
       "       'Gaskets, seals, musical instruments, fasteners, brooms, brushes, mop and other misc. goods',\n",
       "       'Customs duties',\n",
       "       'Motor vehicle and motor vehicle parts and supplies',\n",
       "       'Professional and commercial equipment and supplies',\n",
       "       'Household appliances and electrical and electronic goods',\n",
       "       'Machinery, equipment, and supplies',\n",
       "       'Other durable goods merchant wholesalers',\n",
       "       'Drugs and druggists’ sundries',\n",
       "       'Grocery and related product wholesalers',\n",
       "       'Petroleum and petroleum products',\n",
       "       'Other nondurable goods merchant wholesalers',\n",
       "       'Wholesale electronic markets and agents and brokers',\n",
       "       'Vehicles and parts sales',\n",
       "       'Building material and garden equipment and supplies dealers',\n",
       "       'Food and beverage stores', 'Health and personal care stores',\n",
       "       'Gasoline stations', 'Clothing and clothing accessories stores',\n",
       "       'General merchandise stores', 'Nonstore retailers',\n",
       "       'Air transport', 'Rail transport',\n",
       "       'Water transport (boats, ships, ferries)', 'Truck transport',\n",
       "       'Passenger ground transport', 'Pipeline transport',\n",
       "       'Scenic and sightseeing transportation and support activities for transportation',\n",
       "       'Postal service', 'Couriers and messengers', 'Warehousing',\n",
       "       'All other retail', 'Newspapers', 'Magazines and journals',\n",
       "       'Books', 'Directory, mailing list, and other publishers',\n",
       "       'Software', 'Movies and film', 'Sound recording',\n",
       "       'Radio and television', 'Cable and subscription programming',\n",
       "       'Telecommunications', 'Wireless telecommunications',\n",
       "       'Satellite, telecommunications resellers, and all other telecommunications',\n",
       "       'Data processing and hosting',\n",
       "       'Internet publishing and broadcasting',\n",
       "       'News syndicates, libraries, archives, Internet publishing and all other information services',\n",
       "       'Nondepository credit intermediation and related activities',\n",
       "       'Investment advice, portfolio management, and other financial advising services',\n",
       "       'Securities and commodities brokerage and exchanges',\n",
       "       'Direct life insurance carriers',\n",
       "       'Insurance carriers, except direct life',\n",
       "       'Insurance agencies and brokerages',\n",
       "       'Funds, trusts, and financial vehicles',\n",
       "       'Monetary authorities and depository credit intermediation',\n",
       "       'Owner-occupied housing', 'Tenant-occupied housing',\n",
       "       'Other real estate', 'Vehicle rental and leasing',\n",
       "       'Commercial equipment rental',\n",
       "       'Consumer goods and general rental centers',\n",
       "       'Lessors of nonfinancial intangible assets', 'Legal services',\n",
       "       'Accounting, tax preparation, bookkeeping, and payroll',\n",
       "       'Architectural, engineering, and related services',\n",
       "       'Specialized design', 'Custom computer programming',\n",
       "       'Computer systems design',\n",
       "       'Other computer related services, including facilities management',\n",
       "       'Management consulting',\n",
       "       'Environmental and other technical consulting services',\n",
       "       'Scientific research and development',\n",
       "       'Advertising and public relations', 'Photographers',\n",
       "       'Veterinarians',\n",
       "       'Marketing research and all other miscellaneous professional, scientific, and technical services',\n",
       "       'Company and enterprise management', 'Office administration',\n",
       "       'Facilities support', 'Employment services', 'Business support',\n",
       "       'Travel arrangement and reservation', 'Investigation and security',\n",
       "       'Buildings and dwellings services', 'Other support services',\n",
       "       'Waste management and remediation',\n",
       "       'Elementary and secondary schools',\n",
       "       'Colleges, universities, junior colleges, and professional schools',\n",
       "       'Other educational services', 'Physicians', 'Dentists',\n",
       "       'Healthcare practitioners (except physicians and dentists)',\n",
       "       'Outpatient healthcare', 'Medical laboratories', 'Home healthcare',\n",
       "       'Ambulances', 'Hospitals', 'Nursing and community care facilities',\n",
       "       'Residential mental retardation, mental health, substance abuse and other facilities',\n",
       "       'Individual and family services', 'Child day care',\n",
       "       'Community food, housing, and other relief services, including rehabilitation services',\n",
       "       'Performances', 'Sports',\n",
       "       'Independent artists, writers, and performers',\n",
       "       'Promoters and agents',\n",
       "       'Museums, historical sites, zoos, and parks',\n",
       "       'Amusement parks and arcades',\n",
       "       'Gambling establishments (except casino hotels)',\n",
       "       'Golf courses, marinas, ski resorts, fitness and other rec centers and industries',\n",
       "       'Hotels and campgrounds', 'Full-service restaurants',\n",
       "       'Limited-service restaurants',\n",
       "       'All other food and drinking places', 'Vehicle repair',\n",
       "       'Electronic  equipment repair and maintenance',\n",
       "       'Commercial machinery repair', 'Household goods repair',\n",
       "       'Salons and barber shops', 'Funerary services',\n",
       "       'Dry-cleaning and laundry',\n",
       "       'Pet care, photofinishing, parking and other sundry services',\n",
       "       'Religious organizations',\n",
       "       'Grantmaking, giving, and social advocacy organizations',\n",
       "       'Civic, social, professional, and similar organizations',\n",
       "       'Household employees', 'Oilseed farming', 'Grain farming',\n",
       "       'Vegetable and melon farming', 'Fruit and tree nut farming',\n",
       "       'Greenhouse, nursery, and floriculture production',\n",
       "       'Other crop farming', 'Dairy cattle and milk production',\n",
       "       'Beef cattle ranching and farming, including feedlots and dual-purpose ranching and farming',\n",
       "       'Poultry and egg production',\n",
       "       'Animal production, except cattle and poultry and eggs',\n",
       "       'Forestry and logging', 'Fishing, hunting and trapping',\n",
       "       'Support activities for agriculture and forestry',\n",
       "       'Oil and gas extraction', 'Coal mining',\n",
       "       'Copper, nickel, lead, and zinc mining',\n",
       "       'Iron, gold, silver, and other metal ore mining',\n",
       "       'Stone mining and quarrying',\n",
       "       'Other nonmetallic mineral mining and quarrying',\n",
       "       'Drilling oil and gas wells',\n",
       "       'Electric power generation, transmission, and distribution',\n",
       "       'Natural gas distribution', 'Water, sewage and other systems',\n",
       "       'Office and commercial structures',\n",
       "       'Dog and cat food manufacturing',\n",
       "       'Other animal food manufacturing',\n",
       "       'Flour milling and malt manufacturing', 'Wet corn milling',\n",
       "       'Fats and oils refining and blending',\n",
       "       'Breakfast cereal manufacturing',\n",
       "       'Sugar and confectionery product manufacturing',\n",
       "       'Frozen food manufacturing',\n",
       "       'Fruit and vegetable canning, pickling, and drying',\n",
       "       'Cheese manufacturing',\n",
       "       'Dry, condensed, and evaporated dairy product manufacturing',\n",
       "       'Fluid milk and butter manufacturing',\n",
       "       'Ice cream and frozen dessert manufacturing', 'Poultry processing',\n",
       "       'Animal (except poultry) slaughtering, rendering, and processing',\n",
       "       'Seafood product preparation and packaging',\n",
       "       'Bread and bakery product manufacturing',\n",
       "       'Cookie, cracker, pasta, and tortilla manufacturing',\n",
       "       'Snack food manufacturing', 'Coffee and tea manufacturing',\n",
       "       'Flavoring syrup and concentrate manufacturing',\n",
       "       'Seasoning and dressing manufacturing',\n",
       "       'All other food manufacturing', 'Soft drink and ice manufacturing',\n",
       "       'Breweries', 'Wineries', 'Distilleries',\n",
       "       'Tobacco product manufacturing', 'Fiber, yarn, and thread mills',\n",
       "       'Fabric mills',\n",
       "       'Textile and fabric finishing and fabric coating mills',\n",
       "       'Carpet and rug mills', 'Curtain and linen mills',\n",
       "       'Other textile product mills', 'Apparel manufacturing',\n",
       "       'Leather and allied product manufacturing',\n",
       "       'Sawmills and wood preservation',\n",
       "       'Veneer, plywood, and engineered wood product manufacturing',\n",
       "       'Millwork', 'All other wood product manufacturing', 'Pulp mills',\n",
       "       'Paper mills', 'Paperboard mills',\n",
       "       'Paperboard container manufacturing',\n",
       "       'Paper Bag and Coated and Treated Paper Manufacturing',\n",
       "       'Stationery product manufacturing',\n",
       "       'Sanitary paper product manufacturing',\n",
       "       'All other converted paper product manufacturing', 'Printing',\n",
       "       'Support activities for printing', 'Petroleum refineries',\n",
       "       'Asphalt paving mixture and block manufacturing',\n",
       "       'Asphalt shingle and coating materials manufacturing',\n",
       "       'Other petroleum and coal products manufacturing',\n",
       "       'Petrochemical manufacturing', 'Industrial gas manufacturing',\n",
       "       'Synthetic dye and pigment manufacturing',\n",
       "       'Other Basic Inorganic Chemical Manufacturing',\n",
       "       'Other basic organic chemical manufacturing',\n",
       "       'Plastics material and resin manufacturing',\n",
       "       'Synthetic rubber and artificial and synthetic fibers and filaments manufacturing',\n",
       "       'Fertilizer manufacturing',\n",
       "       'Pesticide and other agricultural chemical manufacturing',\n",
       "       'Medicinal and botanical manufacturing',\n",
       "       'Pharmaceutical preparation manufacturing',\n",
       "       'In-vitro diagnostic substance manufacturing',\n",
       "       'Biological product (except diagnostic) manufacturing',\n",
       "       'Paint and coating manufacturing', 'Adhesive manufacturing',\n",
       "       'Soap and cleaning compound manufacturing',\n",
       "       'Toilet preparation manufacturing', 'Printing ink manufacturing',\n",
       "       'All other chemical product and preparation manufacturing',\n",
       "       'Plastics packaging materials and unlaminated film and sheet manufacturing',\n",
       "       'Plastics pipe, pipe fitting, and unlaminated profile shape manufacturing',\n",
       "       'Laminated plastics plate, sheet (except packaging), and shape manufacturing',\n",
       "       'Polystyrene foam product manufacturing',\n",
       "       'Urethane and other foam product (except polystyrene) manufacturing',\n",
       "       'Plastics bottle manufacturing',\n",
       "       'Other plastics product manufacturing', 'Tire manufacturing',\n",
       "       'Rubber and plastics hoses and belting manufacturing',\n",
       "       'Other rubber product manufacturing',\n",
       "       'Clay product and refractory manufacturing',\n",
       "       'Glass and glass product manufacturing', 'Cement manufacturing',\n",
       "       'Ready-mix concrete manufacturing',\n",
       "       'Concrete pipe, brick, and block manufacturing',\n",
       "       'Other concrete product manufacturing',\n",
       "       'Lime and gypsum product manufacturing',\n",
       "       'Abrasive product manufacturing',\n",
       "       'Cut stone and stone product manufacturing',\n",
       "       'Ground or treated mineral and earth manufacturing',\n",
       "       'Mineral wool manufacturing',\n",
       "       'Miscellaneous nonmetallic mineral products',\n",
       "       'Iron and steel mills and ferroalloy manufacturing',\n",
       "       'Steel product manufacturing from purchased steel',\n",
       "       'Secondary smelting and alloying of aluminum',\n",
       "       'Aluminum product manufacturing from purchased aluminum',\n",
       "       'Copper rolling, drawing, extruding and alloying',\n",
       "       'Nonferrous metal (except copper and aluminum) rolling, drawing, extruding and alloying',\n",
       "       'Ferrous metal foundries', 'Nonferrous metal foundries',\n",
       "       'Custom roll forming', 'Cutlery and handtool manufacturing',\n",
       "       'Plate work and fabricated structural product manufacturing',\n",
       "       'Ornamental and architectural metal products manufacturing',\n",
       "       'Power boiler and heat exchanger manufacturing',\n",
       "       'Metal tank (heavy gauge) manufacturing',\n",
       "       'Metal can, box, and other metal container (light gauge) manufacturing',\n",
       "       'Hardware manufacturing', 'Spring and wire product manufacturing',\n",
       "       'Turned product and screw, nut, and bolt manufacturing',\n",
       "       'Coating, engraving, heat treating and allied activities',\n",
       "       'Plumbing fixture fitting and trim manufacturing',\n",
       "       'Valve and fittings other than plumbing',\n",
       "       'Ball and roller bearing manufacturing',\n",
       "       'Fabricated pipe and pipe fitting manufacturing',\n",
       "       'Ammunition, arms, ordnance, and accessories manufacturing',\n",
       "       'Farm machinery and equipment manufacturing',\n",
       "       'Lawn and garden equipment manufacturing',\n",
       "       'Construction machinery manufacturing',\n",
       "       'Mining and oil and gas field machinery manufacturing',\n",
       "       'Semiconductor machinery manufacturing',\n",
       "       'Other industrial machinery manufacturing',\n",
       "       'Optical instrument and lens manufacturing',\n",
       "       'Photographic and photocopying equipment manufacturing',\n",
       "       'Other commercial and service industry machinery manufacturing',\n",
       "       'Industrial and commercial fan and blower and air purification equipment manufacturing',\n",
       "       'Heating equipment (except warm air furnaces) manufacturing',\n",
       "       'Air conditioning, refrigeration, and warm air heating equipment manufacturing',\n",
       "       'Industrial mold manufacturing',\n",
       "       'Special tool, die, jig, and fixture manufacturing',\n",
       "       'Cutting and machine tool accessory, rolling mill, and other metalworking machinery manufacturing',\n",
       "       'Turbine and turbine generator set units manufacturing',\n",
       "       'Speed changer, industrial high-speed drive, and gear manufacturing',\n",
       "       'Mechanical power transmission equipment manufacturing',\n",
       "       'Other engine equipment manufacturing',\n",
       "       'Air and gas compressor manufacturing',\n",
       "       'Pump and pumping equipment manufacturing',\n",
       "       'Material handling equipment manufacturing',\n",
       "       'Power-driven handtool manufacturing',\n",
       "       'Packaging machinery manufacturing',\n",
       "       'Industrial process furnace and oven manufacturing',\n",
       "       'Other general purpose machinery manufacturing',\n",
       "       'Fluid power process machinery',\n",
       "       'Electronic computer manufacturing',\n",
       "       'Computer storage device manufacturing',\n",
       "       'Computer terminals and other computer peripheral equipment manufacturing',\n",
       "       'Telephone apparatus manufacturing',\n",
       "       'Broadcast and wireless communications equipment',\n",
       "       'Other communications equipment manufacturing',\n",
       "       'Audio and video equipment manufacturing',\n",
       "       'Semiconductor and related device manufacturing',\n",
       "       'Printed circuit assembly (electronic assembly) manufacturing',\n",
       "       'Other electronic component manufacturing',\n",
       "       'Electromedical and electrotherapeutic apparatus manufacturing',\n",
       "       'Search, detection, and navigation instruments manufacturing',\n",
       "       'Automatic environmental control manufacturing',\n",
       "       'Industrial process variable instruments manufacturing',\n",
       "       'Totalizing fluid meter and counting device manufacturing',\n",
       "       'Electricity and signal testing instruments manufacturing',\n",
       "       'Analytical laboratory instrument manufacturing',\n",
       "       'Irradiation apparatus manufacturing',\n",
       "       'Watch, clock, and other measuring and controlling device manufacturing',\n",
       "       'Manufacturing and reproducing magnetic and optical media',\n",
       "       'Electric lamp bulb and part manufacturing',\n",
       "       'Lighting fixture manufacturing',\n",
       "       'Small electrical appliance manufacturing',\n",
       "       'Household cooking appliance manufacturing',\n",
       "       'Household refrigerator and home freezer manufacturing',\n",
       "       'Household laundry equipment manufacturing',\n",
       "       'Other major household appliance manufacturing',\n",
       "       'Power, distribution, and specialty transformer manufacturing',\n",
       "       'Motor and generator manufacturing',\n",
       "       'Switchgear and switchboard apparatus manufacturing',\n",
       "       'Relay and industrial control manufacturing',\n",
       "       'Storage battery manufacturing', 'Primary battery manufacturing',\n",
       "       'Communication and energy wire and cable manufacturing',\n",
       "       'Wiring device manufacturing',\n",
       "       'Carbon and graphite product manufacturing',\n",
       "       'All other miscellaneous electrical equipment and component manufacturing',\n",
       "       'Automobile manufacturing',\n",
       "       'Light truck and utility vehicle manufacturing',\n",
       "       'Heavy duty truck manufacturing',\n",
       "       'Motor vehicle body manufacturing', 'Truck trailer manufacturing',\n",
       "       'Motor home manufacturing',\n",
       "       'Travel trailer and camper manufacturing',\n",
       "       'Motor vehicle gasoline engine and engine parts manufacturing',\n",
       "       'Motor vehicle electrical and electronic equipment manufacturing',\n",
       "       'Motor vehicle transmission and power train parts manufacturing',\n",
       "       'Motor vehicle seating and interior trim manufacturing',\n",
       "       'Motor vehicle metal stamping',\n",
       "       'Other Motor Vehicle Parts Manufacturing',\n",
       "       'Motor vehicle steering, suspension component (except spring), and brake systems manufacturing',\n",
       "       'Aircraft manufacturing',\n",
       "       'Aircraft engine and engine parts manufacturing',\n",
       "       'Other aircraft parts and auxiliary equipment manufacturing',\n",
       "       'Guided missile and space vehicle manufacturing',\n",
       "       'Railroad rolling stock manufacturing',\n",
       "       'Ship building and repairing', 'Boat building',\n",
       "       'Motorcycle, bicycle, and parts manufacturing',\n",
       "       'Military armored vehicle, tank, and tank component manufacturing',\n",
       "       'All other transportation equipment manufacturing',\n",
       "       'Wood kitchen cabinet and countertop manufacturing',\n",
       "       'Upholstered household furniture manufacturing',\n",
       "       'Nonupholstered wood household furniture manufacturing',\n",
       "       'Institutional furniture manufacturing',\n",
       "       'Showcase, partition, shelving, and locker manufacturing',\n",
       "       'Office furniture and custom architectural woodwork and millwork manufacturing',\n",
       "       'Other furniture related product manufacturing',\n",
       "       'Surgical and medical instrument manufacturing',\n",
       "       'Surgical appliance and supplies manufacturing',\n",
       "       'Dental equipment and supplies manufacturing',\n",
       "       'Ophthalmic goods manufacturing',\n",
       "       'Jewelry and silverware manufacturing',\n",
       "       'Sporting and athletic goods manufacturing',\n",
       "       'Doll, toy, and game manufacturing',\n",
       "       'Office supplies (except paper) manufacturing',\n",
       "       'Sign manufacturing', 'All other miscellaneous manufacturing',\n",
       "       'Motor vehicle and parts dealers', 'Air transportation',\n",
       "       'Rail transportation', 'Water transportation',\n",
       "       'Truck transportation',\n",
       "       'Transit and ground passenger transportation',\n",
       "       'Pipeline transportation', 'Warehousing and storage',\n",
       "       'Newspaper publishers', 'Periodical Publishers', 'Book publishers',\n",
       "       'Software publishers', 'Motion picture and video industries',\n",
       "       'Sound recording industries', 'Radio and television broadcasting',\n",
       "       'Cable and other subscription programming',\n",
       "       'Wired telecommunications carriers',\n",
       "       'Wireless telecommunications carriers (except satellite)',\n",
       "       'Data processing, hosting, and related services',\n",
       "       'Internet publishing and broadcasting and Web search portals',\n",
       "       'News syndicates, libraries, archives and all other information services',\n",
       "       'Other financial investment activities',\n",
       "       'Securities and commodity contracts intermediation and brokerage',\n",
       "       'Insurance agencies, brokerages, and related activities',\n",
       "       'Funds, trusts, and other financial vehicles',\n",
       "       'Automotive equipment rental and leasing',\n",
       "       'Commercial and industrial machinery and equipment rental and leasing',\n",
       "       'General and consumer goods rental',\n",
       "       'Accounting, tax preparation, bookkeeping, and payroll services',\n",
       "       'Specialized design services',\n",
       "       'Custom computer programming services',\n",
       "       'Computer systems design services',\n",
       "       'Management consulting services',\n",
       "       'Scientific research and development services',\n",
       "       'Advertising, public relations, and related services',\n",
       "       'Photographic services', 'Veterinary services',\n",
       "       'All other miscellaneous professional, scientific, and technical services',\n",
       "       'Management of companies and enterprises',\n",
       "       'Office administrative services', 'Facilities support services',\n",
       "       'Business support services',\n",
       "       'Travel arrangement and reservation services',\n",
       "       'Investigation and security services',\n",
       "       'Services to buildings and dwellings',\n",
       "       'Waste management and remediation services',\n",
       "       'Junior colleges, colleges, universities, and professional schools',\n",
       "       'Offices of physicians', 'Offices of dentists',\n",
       "       'Offices of other health practitioners', 'Outpatient care centers',\n",
       "       'Medical and diagnostic laboratories', 'Home health care services',\n",
       "       'Other ambulatory health care services',\n",
       "       'Residential mental health, substance abuse, and other residential care facilities',\n",
       "       'Child day care services', 'Performing arts companies',\n",
       "       'Spectator sports',\n",
       "       'Promoters of performing arts and sports and agents for public figures',\n",
       "       'Gambling industries (except casino hotels)',\n",
       "       'Other amusement and recreation industries', 'Accommodation',\n",
       "       'Automotive repair and maintenance',\n",
       "       'Electronic and precision equipment repair and maintenance',\n",
       "       'Commercial and industrial machinery and equipment repair and maintenance',\n",
       "       'Personal and household goods repair and maintenance',\n",
       "       'Personal care services', 'Death care services',\n",
       "       'Dry-cleaning and laundry services', 'Other personal services',\n",
       "       'Private households'], dtype=object)"
      ]
     },
     "execution_count": 34,
     "metadata": {},
     "output_type": "execute_result"
    }
   ],
   "source": [
    "df.Name.unique()"
   ]
  },
  {
   "cell_type": "code",
   "execution_count": 35,
   "id": "f411e05f",
   "metadata": {},
   "outputs": [
    {
     "data": {
      "text/plain": [
       "713"
      ]
     },
     "execution_count": 35,
     "metadata": {},
     "output_type": "execute_result"
    }
   ],
   "source": [
    "len(df.Name.unique())"
   ]
  },
  {
   "cell_type": "code",
   "execution_count": 36,
   "id": "ce52a0cf",
   "metadata": {},
   "outputs": [
    {
     "data": {
      "text/html": [
       "<div>\n",
       "<style scoped>\n",
       "    .dataframe tbody tr th:only-of-type {\n",
       "        vertical-align: middle;\n",
       "    }\n",
       "\n",
       "    .dataframe tbody tr th {\n",
       "        vertical-align: top;\n",
       "    }\n",
       "\n",
       "    .dataframe thead th {\n",
       "        text-align: right;\n",
       "    }\n",
       "</style>\n",
       "<table border=\"1\" class=\"dataframe\">\n",
       "  <thead>\n",
       "    <tr style=\"text-align: right;\">\n",
       "      <th></th>\n",
       "      <th>Name</th>\n",
       "      <th>Supply Chain Emission Factors with Margins</th>\n",
       "    </tr>\n",
       "  </thead>\n",
       "  <tbody>\n",
       "    <tr>\n",
       "      <th>0</th>\n",
       "      <td>Cement manufacturing</td>\n",
       "      <td>1.686179</td>\n",
       "    </tr>\n",
       "    <tr>\n",
       "      <th>1</th>\n",
       "      <td>Cement</td>\n",
       "      <td>1.324964</td>\n",
       "    </tr>\n",
       "    <tr>\n",
       "      <th>2</th>\n",
       "      <td>Electric power generation, transmission, and d...</td>\n",
       "      <td>1.220357</td>\n",
       "    </tr>\n",
       "    <tr>\n",
       "      <th>3</th>\n",
       "      <td>Electricity</td>\n",
       "      <td>1.016143</td>\n",
       "    </tr>\n",
       "    <tr>\n",
       "      <th>4</th>\n",
       "      <td>Dolls, toys, and games</td>\n",
       "      <td>0.832179</td>\n",
       "    </tr>\n",
       "    <tr>\n",
       "      <th>5</th>\n",
       "      <td>Lime and gypsum products</td>\n",
       "      <td>0.816536</td>\n",
       "    </tr>\n",
       "    <tr>\n",
       "      <th>6</th>\n",
       "      <td>Lime and gypsum product manufacturing</td>\n",
       "      <td>0.799679</td>\n",
       "    </tr>\n",
       "    <tr>\n",
       "      <th>7</th>\n",
       "      <td>Industrial gas manufacturing</td>\n",
       "      <td>0.612929</td>\n",
       "    </tr>\n",
       "    <tr>\n",
       "      <th>8</th>\n",
       "      <td>Compressed Gases</td>\n",
       "      <td>0.539679</td>\n",
       "    </tr>\n",
       "    <tr>\n",
       "      <th>9</th>\n",
       "      <td>Clothing</td>\n",
       "      <td>0.468714</td>\n",
       "    </tr>\n",
       "  </tbody>\n",
       "</table>\n",
       "</div>"
      ],
      "text/plain": [
       "                                                Name  \\\n",
       "0                               Cement manufacturing   \n",
       "1                                             Cement   \n",
       "2  Electric power generation, transmission, and d...   \n",
       "3                                        Electricity   \n",
       "4                             Dolls, toys, and games   \n",
       "5                           Lime and gypsum products   \n",
       "6              Lime and gypsum product manufacturing   \n",
       "7                       Industrial gas manufacturing   \n",
       "8                                   Compressed Gases   \n",
       "9                                           Clothing   \n",
       "\n",
       "   Supply Chain Emission Factors with Margins  \n",
       "0                                    1.686179  \n",
       "1                                    1.324964  \n",
       "2                                    1.220357  \n",
       "3                                    1.016143  \n",
       "4                                    0.832179  \n",
       "5                                    0.816536  \n",
       "6                                    0.799679  \n",
       "7                                    0.612929  \n",
       "8                                    0.539679  \n",
       "9                                    0.468714  "
      ]
     },
     "execution_count": 36,
     "metadata": {},
     "output_type": "execute_result"
    }
   ],
   "source": [
    "top_emitters = df[['Name', 'Supply Chain Emission Factors with Margins']].groupby('Name').mean().sort_values(\n",
    "    'Supply Chain Emission Factors with Margins', ascending=False).head(10) \n",
    "\n",
    "# Resetting index for better plotting\n",
    "top_emitters = top_emitters.reset_index()\n",
    "top_emitters"
   ]
  },
  {
   "cell_type": "code",
   "execution_count": 37,
   "id": "900a83db",
   "metadata": {},
   "outputs": [
    {
     "data": {
      "image/png": "[encoded data removed]",
      "text/plain": [
       "<Figure size 1000x600 with 1 Axes>"
      ]
     },
     "metadata": {},
     "output_type": "display_data"
    }
   ],
   "source": [
    "plt.figure(figsize=(10,6))\n",
    "# Example: Top emitting industries (already grouped)\n",
    "sns.barplot(\n",
    "    x='Supply Chain Emission Factors with Margins',\n",
    "    y='Name',\n",
    "    data=top_emitters,\n",
    "    hue='Name',\n",
    "    palette='pastel'  # Use 'Blues', 'viridis', etc., for other color maps\n",
    ")\n",
    "\n",
    "# Add ranking labels (1, 2, 3...) next to bars\n",
    "for i, (value, name) in enumerate(zip(top_emitters['Supply Chain Emission Factors with Margins'], top_emitters.index), start=1):\n",
    "    plt.text(value + 0.01, i - 1, f'#{i}', va='center', fontsize=11, fontweight='bold', color='black')\n",
    "\n",
    "plt.title('Top 10 Emitting Industries', fontsize=14, fontweight='bold') # Title of the plot \n",
    "plt.xlabel('Emission Factor (kg CO2e/unit)') # X-axis label\n",
    "plt.ylabel('Industry') # Y-axis label\n",
    "plt.grid(axis='x', linestyle='--', alpha=0.6) # Adding grid lines for better readability\n",
    "plt.tight_layout() # Adjust layout to prevent overlap\n",
    "\n",
    "plt.show()"
   ]
  },
  {
   "cell_type": "code",
   "execution_count": 38,
   "id": "e18d13d0",
   "metadata": {},
   "outputs": [
    {
     "data": {
      "text/html": [
       "<div>\n",
       "<style scoped>\n",
       "    .dataframe tbody tr th:only-of-type {\n",
       "        vertical-align: middle;\n",
       "    }\n",
       "\n",
       "    .dataframe tbody tr th {\n",
       "        vertical-align: top;\n",
       "    }\n",
       "\n",
       "    .dataframe thead th {\n",
       "        text-align: right;\n",
       "    }\n",
       "</style>\n",
       "<table border=\"1\" class=\"dataframe\">\n",
       "  <thead>\n",
       "    <tr style=\"text-align: right;\">\n",
       "      <th></th>\n",
       "      <th>Substance</th>\n",
       "      <th>Unit</th>\n",
       "      <th>Supply Chain Emission Factors without Margins</th>\n",
       "      <th>Margins of Supply Chain Emission Factors</th>\n",
       "      <th>Supply Chain Emission Factors with Margins</th>\n",
       "      <th>DQ ReliabilityScore of Factors without Margins</th>\n",
       "      <th>DQ TemporalCorrelation of Factors without Margins</th>\n",
       "      <th>DQ GeographicalCorrelation of Factors without Margins</th>\n",
       "      <th>DQ TechnologicalCorrelation of Factors without Margins</th>\n",
       "      <th>DQ DataCollection of Factors without Margins</th>\n",
       "      <th>Source</th>\n",
       "    </tr>\n",
       "  </thead>\n",
       "  <tbody>\n",
       "    <tr>\n",
       "      <th>0</th>\n",
       "      <td>0</td>\n",
       "      <td>0</td>\n",
       "      <td>0.398</td>\n",
       "      <td>0.073</td>\n",
       "      <td>0.47</td>\n",
       "      <td>4</td>\n",
       "      <td>3</td>\n",
       "      <td>1</td>\n",
       "      <td>4</td>\n",
       "      <td>1</td>\n",
       "      <td>0</td>\n",
       "    </tr>\n",
       "  </tbody>\n",
       "</table>\n",
       "</div>"
      ],
      "text/plain": [
       "   Substance  Unit  Supply Chain Emission Factors without Margins  \\\n",
       "0          0     0                                          0.398   \n",
       "\n",
       "   Margins of Supply Chain Emission Factors  \\\n",
       "0                                     0.073   \n",
       "\n",
       "   Supply Chain Emission Factors with Margins  \\\n",
       "0                                        0.47   \n",
       "\n",
       "   DQ ReliabilityScore of Factors without Margins  \\\n",
       "0                                               4   \n",
       "\n",
       "   DQ TemporalCorrelation of Factors without Margins  \\\n",
       "0                                                  3   \n",
       "\n",
       "   DQ GeographicalCorrelation of Factors without Margins  \\\n",
       "0                                                  1       \n",
       "\n",
       "   DQ TechnologicalCorrelation of Factors without Margins  \\\n",
       "0                                                  4        \n",
       "\n",
       "   DQ DataCollection of Factors without Margins  Source  \n",
       "0                                             1       0  "
      ]
     },
     "execution_count": 38,
     "metadata": {},
     "output_type": "execute_result"
    }
   ],
   "source": [
    "df.drop(columns=['Name','Code','Year'], inplace=True)\n",
    "df.head(1)"
   ]
  },
  {
   "cell_type": "code",
   "execution_count": 41,
   "id": "44ee471e",
   "metadata": {},
   "outputs": [
    {
     "data": {
      "text/plain": [
       "(22092, 11)"
      ]
     },
     "execution_count": 41,
     "metadata": {},
     "output_type": "execute_result"
    }
   ],
   "source": [
    "df.shape"
   ]
  },
  {
   "cell_type": "code",
   "execution_count": 43,
   "id": "8f9fc4f9",
   "metadata": {},
   "outputs": [
    {
     "data": {
      "text/html": [
       "<div>\n",
       "<style scoped>\n",
       "    .dataframe tbody tr th:only-of-type {\n",
       "        vertical-align: middle;\n",
       "    }\n",
       "\n",
       "    .dataframe tbody tr th {\n",
       "        vertical-align: top;\n",
       "    }\n",
       "\n",
       "    .dataframe thead th {\n",
       "        text-align: right;\n",
       "    }\n",
       "</style>\n",
       "<table border=\"1\" class=\"dataframe\">\n",
       "  <thead>\n",
       "    <tr style=\"text-align: right;\">\n",
       "      <th></th>\n",
       "      <th>Substance</th>\n",
       "      <th>Unit</th>\n",
       "      <th>Supply Chain Emission Factors without Margins</th>\n",
       "      <th>Margins of Supply Chain Emission Factors</th>\n",
       "      <th>DQ ReliabilityScore of Factors without Margins</th>\n",
       "      <th>DQ TemporalCorrelation of Factors without Margins</th>\n",
       "      <th>DQ GeographicalCorrelation of Factors without Margins</th>\n",
       "      <th>DQ TechnologicalCorrelation of Factors without Margins</th>\n",
       "      <th>DQ DataCollection of Factors without Margins</th>\n",
       "      <th>Source</th>\n",
       "    </tr>\n",
       "  </thead>\n",
       "  <tbody>\n",
       "    <tr>\n",
       "      <th>0</th>\n",
       "      <td>0</td>\n",
       "      <td>0</td>\n",
       "      <td>0.398</td>\n",
       "      <td>0.073</td>\n",
       "      <td>4</td>\n",
       "      <td>3</td>\n",
       "      <td>1</td>\n",
       "      <td>4</td>\n",
       "      <td>1</td>\n",
       "      <td>0</td>\n",
       "    </tr>\n",
       "    <tr>\n",
       "      <th>1</th>\n",
       "      <td>1</td>\n",
       "      <td>0</td>\n",
       "      <td>0.001</td>\n",
       "      <td>0.001</td>\n",
       "      <td>4</td>\n",
       "      <td>3</td>\n",
       "      <td>1</td>\n",
       "      <td>1</td>\n",
       "      <td>1</td>\n",
       "      <td>0</td>\n",
       "    </tr>\n",
       "    <tr>\n",
       "      <th>2</th>\n",
       "      <td>2</td>\n",
       "      <td>0</td>\n",
       "      <td>0.002</td>\n",
       "      <td>0.000</td>\n",
       "      <td>4</td>\n",
       "      <td>3</td>\n",
       "      <td>1</td>\n",
       "      <td>4</td>\n",
       "      <td>1</td>\n",
       "      <td>0</td>\n",
       "    </tr>\n",
       "    <tr>\n",
       "      <th>3</th>\n",
       "      <td>3</td>\n",
       "      <td>1</td>\n",
       "      <td>0.002</td>\n",
       "      <td>0.000</td>\n",
       "      <td>3</td>\n",
       "      <td>3</td>\n",
       "      <td>1</td>\n",
       "      <td>3</td>\n",
       "      <td>1</td>\n",
       "      <td>0</td>\n",
       "    </tr>\n",
       "    <tr>\n",
       "      <th>4</th>\n",
       "      <td>0</td>\n",
       "      <td>0</td>\n",
       "      <td>0.659</td>\n",
       "      <td>0.081</td>\n",
       "      <td>4</td>\n",
       "      <td>3</td>\n",
       "      <td>1</td>\n",
       "      <td>4</td>\n",
       "      <td>1</td>\n",
       "      <td>0</td>\n",
       "    </tr>\n",
       "  </tbody>\n",
       "</table>\n",
       "</div>"
      ],
      "text/plain": [
       "   Substance  Unit  Supply Chain Emission Factors without Margins  \\\n",
       "0          0     0                                          0.398   \n",
       "1          1     0                                          0.001   \n",
       "2          2     0                                          0.002   \n",
       "3          3     1                                          0.002   \n",
       "4          0     0                                          0.659   \n",
       "\n",
       "   Margins of Supply Chain Emission Factors  \\\n",
       "0                                     0.073   \n",
       "1                                     0.001   \n",
       "2                                     0.000   \n",
       "3                                     0.000   \n",
       "4                                     0.081   \n",
       "\n",
       "   DQ ReliabilityScore of Factors without Margins  \\\n",
       "0                                               4   \n",
       "1                                               4   \n",
       "2                                               4   \n",
       "3                                               3   \n",
       "4                                               4   \n",
       "\n",
       "   DQ TemporalCorrelation of Factors without Margins  \\\n",
       "0                                                  3   \n",
       "1                                                  3   \n",
       "2                                                  3   \n",
       "3                                                  3   \n",
       "4                                                  3   \n",
       "\n",
       "   DQ GeographicalCorrelation of Factors without Margins  \\\n",
       "0                                                  1       \n",
       "1                                                  1       \n",
       "2                                                  1       \n",
       "3                                                  1       \n",
       "4                                                  1       \n",
       "\n",
       "   DQ TechnologicalCorrelation of Factors without Margins  \\\n",
       "0                                                  4        \n",
       "1                                                  1        \n",
       "2                                                  4        \n",
       "3                                                  3        \n",
       "4                                                  4        \n",
       "\n",
       "   DQ DataCollection of Factors without Margins  Source  \n",
       "0                                             1       0  \n",
       "1                                             1       0  \n",
       "2                                             1       0  \n",
       "3                                             1       0  \n",
       "4                                             1       0  "
      ]
     },
     "execution_count": 43,
     "metadata": {},
     "output_type": "execute_result"
    }
   ],
   "source": [
    "X = df.drop(columns=['Supply Chain Emission Factors with Margins']) # Feature set excluding the target variable\n",
    "y = df['Supply Chain Emission Factors with Margins'] # Target variable \n",
    "X.head()"
   ]
  },
  {
   "cell_type": "code",
   "execution_count": 44,
   "id": "c600fd6e",
   "metadata": {},
   "outputs": [
    {
     "data": {
      "text/plain": [
       "0    0.470\n",
       "1    0.002\n",
       "2    0.002\n",
       "3    0.002\n",
       "4    0.740\n",
       "Name: Supply Chain Emission Factors with Margins, dtype: float64"
      ]
     },
     "execution_count": 44,
     "metadata": {},
     "output_type": "execute_result"
    }
   ],
   "source": [
    "y.head()"
   ]
  },
  {
   "cell_type": "code",
   "execution_count": 45,
   "id": "978c8e9b",
   "metadata": {},
   "outputs": [
    {
     "data": {
      "image/png": "[encoded data removed]",
      "text/plain": [
       "<Figure size 600x300 with 1 Axes>"
      ]
     },
     "metadata": {},
     "output_type": "display_data"
    }
   ],
   "source": [
    "plt.figure(figsize=(6, 3))\n",
    "sns.countplot(x=df[\"Substance\"])\n",
    "plt.title(\"Count Plot: Substance\")\n",
    "plt.xticks()\n",
    "plt.tight_layout()\n",
    "plt.show()"
   ]
  },
  {
   "cell_type": "code",
   "execution_count": 46,
   "id": "a4a10f70",
   "metadata": {},
   "outputs": [
    {
     "data": {
      "image/png": "[encoded data removed]",
      "text/plain": [
       "<Figure size 600x300 with 1 Axes>"
      ]
     },
     "metadata": {},
     "output_type": "display_data"
    }
   ],
   "source": [
    "# Count plot for Unit\n",
    "plt.figure(figsize=(6, 3))\n",
    "sns.countplot(x=df[\"Unit\"])\n",
    "plt.title(\"Count Plot: Unit\")\n",
    "plt.tight_layout()\n",
    "plt.show()"
   ]
  },
  {
   "cell_type": "code",
   "execution_count": 47,
   "id": "8e30339b",
   "metadata": {},
   "outputs": [
    {
     "data": {
      "image/png": "[encoded data removed]",
      "text/plain": [
       "<Figure size 600x400 with 1 Axes>"
      ]
     },
     "metadata": {},
     "output_type": "display_data"
    }
   ],
   "source": [
    "# Count plot for Source\n",
    "plt.figure(figsize=(6, 4))\n",
    "sns.countplot(x=df[\"Source\"])\n",
    "plt.title(\"Count Plot: Source (Industry vs Commodity)\")\n",
    "plt.tight_layout()\n",
    "plt.show()"
   ]
  },
  {
   "cell_type": "code",
   "execution_count": 48,
   "id": "f6683fa3",
   "metadata": {},
   "outputs": [
    {
     "data": {
      "text/plain": [
       "Index(['Substance', 'Unit', 'Supply Chain Emission Factors without Margins',\n",
       "       'Margins of Supply Chain Emission Factors',\n",
       "       'Supply Chain Emission Factors with Margins',\n",
       "       'DQ ReliabilityScore of Factors without Margins',\n",
       "       'DQ TemporalCorrelation of Factors without Margins',\n",
       "       'DQ GeographicalCorrelation of Factors without Margins',\n",
       "       'DQ TechnologicalCorrelation of Factors without Margins',\n",
       "       'DQ DataCollection of Factors without Margins', 'Source'],\n",
       "      dtype='object')"
      ]
     },
     "execution_count": 48,
     "metadata": {},
     "output_type": "execute_result"
    }
   ],
   "source": [
    "df.columns"
   ]
  },
  {
   "cell_type": "code",
   "execution_count": 49,
   "id": "c162e4a5",
   "metadata": {},
   "outputs": [
    {
     "data": {
      "text/html": [
       "<div>\n",
       "<style scoped>\n",
       "    .dataframe tbody tr th:only-of-type {\n",
       "        vertical-align: middle;\n",
       "    }\n",
       "\n",
       "    .dataframe tbody tr th {\n",
       "        vertical-align: top;\n",
       "    }\n",
       "\n",
       "    .dataframe thead th {\n",
       "        text-align: right;\n",
       "    }\n",
       "</style>\n",
       "<table border=\"1\" class=\"dataframe\">\n",
       "  <thead>\n",
       "    <tr style=\"text-align: right;\">\n",
       "      <th></th>\n",
       "      <th>Substance</th>\n",
       "      <th>Unit</th>\n",
       "      <th>Supply Chain Emission Factors without Margins</th>\n",
       "      <th>Margins of Supply Chain Emission Factors</th>\n",
       "      <th>Supply Chain Emission Factors with Margins</th>\n",
       "      <th>DQ ReliabilityScore of Factors without Margins</th>\n",
       "      <th>DQ TemporalCorrelation of Factors without Margins</th>\n",
       "      <th>DQ GeographicalCorrelation of Factors without Margins</th>\n",
       "      <th>DQ TechnologicalCorrelation of Factors without Margins</th>\n",
       "      <th>DQ DataCollection of Factors without Margins</th>\n",
       "      <th>Source</th>\n",
       "    </tr>\n",
       "  </thead>\n",
       "  <tbody>\n",
       "    <tr>\n",
       "      <th>Substance</th>\n",
       "      <td>1.000000e+00</td>\n",
       "      <td>7.745967e-01</td>\n",
       "      <td>-0.391851</td>\n",
       "      <td>-0.218400</td>\n",
       "      <td>-0.421603</td>\n",
       "      <td>0.095092</td>\n",
       "      <td>-3.667637e-15</td>\n",
       "      <td>NaN</td>\n",
       "      <td>0.198415</td>\n",
       "      <td>NaN</td>\n",
       "      <td>4.273306e-16</td>\n",
       "    </tr>\n",
       "    <tr>\n",
       "      <th>Unit</th>\n",
       "      <td>7.745967e-01</td>\n",
       "      <td>1.000000e+00</td>\n",
       "      <td>-0.155859</td>\n",
       "      <td>-0.094300</td>\n",
       "      <td>-0.169741</td>\n",
       "      <td>-0.025159</td>\n",
       "      <td>-3.173071e-17</td>\n",
       "      <td>NaN</td>\n",
       "      <td>0.286990</td>\n",
       "      <td>NaN</td>\n",
       "      <td>-1.545892e-17</td>\n",
       "    </tr>\n",
       "    <tr>\n",
       "      <th>Supply Chain Emission Factors without Margins</th>\n",
       "      <td>-3.918505e-01</td>\n",
       "      <td>-1.558594e-01</td>\n",
       "      <td>1.000000</td>\n",
       "      <td>0.143005</td>\n",
       "      <td>0.962971</td>\n",
       "      <td>-0.098000</td>\n",
       "      <td>9.283870e-03</td>\n",
       "      <td>NaN</td>\n",
       "      <td>0.148410</td>\n",
       "      <td>NaN</td>\n",
       "      <td>2.713112e-02</td>\n",
       "    </tr>\n",
       "    <tr>\n",
       "      <th>Margins of Supply Chain Emission Factors</th>\n",
       "      <td>-2.184002e-01</td>\n",
       "      <td>-9.429989e-02</td>\n",
       "      <td>0.143005</td>\n",
       "      <td>1.000000</td>\n",
       "      <td>0.404541</td>\n",
       "      <td>-0.069598</td>\n",
       "      <td>7.953109e-03</td>\n",
       "      <td>NaN</td>\n",
       "      <td>0.086335</td>\n",
       "      <td>NaN</td>\n",
       "      <td>-6.750426e-02</td>\n",
       "    </tr>\n",
       "    <tr>\n",
       "      <th>Supply Chain Emission Factors with Margins</th>\n",
       "      <td>-4.216032e-01</td>\n",
       "      <td>-1.697410e-01</td>\n",
       "      <td>0.962971</td>\n",
       "      <td>0.404541</td>\n",
       "      <td>1.000000</td>\n",
       "      <td>-0.109494</td>\n",
       "      <td>1.074848e-02</td>\n",
       "      <td>NaN</td>\n",
       "      <td>0.160574</td>\n",
       "      <td>NaN</td>\n",
       "      <td>6.687828e-03</td>\n",
       "    </tr>\n",
       "    <tr>\n",
       "      <th>DQ ReliabilityScore of Factors without Margins</th>\n",
       "      <td>9.509190e-02</td>\n",
       "      <td>-2.515938e-02</td>\n",
       "      <td>-0.098000</td>\n",
       "      <td>-0.069598</td>\n",
       "      <td>-0.109494</td>\n",
       "      <td>1.000000</td>\n",
       "      <td>-2.170715e-02</td>\n",
       "      <td>NaN</td>\n",
       "      <td>0.073583</td>\n",
       "      <td>NaN</td>\n",
       "      <td>-1.228726e-02</td>\n",
       "    </tr>\n",
       "    <tr>\n",
       "      <th>DQ TemporalCorrelation of Factors without Margins</th>\n",
       "      <td>-3.667637e-15</td>\n",
       "      <td>-3.173071e-17</td>\n",
       "      <td>0.009284</td>\n",
       "      <td>0.007953</td>\n",
       "      <td>0.010748</td>\n",
       "      <td>-0.021707</td>\n",
       "      <td>1.000000e+00</td>\n",
       "      <td>NaN</td>\n",
       "      <td>-0.030607</td>\n",
       "      <td>NaN</td>\n",
       "      <td>-2.909814e-15</td>\n",
       "    </tr>\n",
       "    <tr>\n",
       "      <th>DQ GeographicalCorrelation of Factors without Margins</th>\n",
       "      <td>NaN</td>\n",
       "      <td>NaN</td>\n",
       "      <td>NaN</td>\n",
       "      <td>NaN</td>\n",
       "      <td>NaN</td>\n",
       "      <td>NaN</td>\n",
       "      <td>NaN</td>\n",
       "      <td>NaN</td>\n",
       "      <td>NaN</td>\n",
       "      <td>NaN</td>\n",
       "      <td>NaN</td>\n",
       "    </tr>\n",
       "    <tr>\n",
       "      <th>DQ TechnologicalCorrelation of Factors without Margins</th>\n",
       "      <td>1.984154e-01</td>\n",
       "      <td>2.869901e-01</td>\n",
       "      <td>0.148410</td>\n",
       "      <td>0.086335</td>\n",
       "      <td>0.160574</td>\n",
       "      <td>0.073583</td>\n",
       "      <td>-3.060675e-02</td>\n",
       "      <td>NaN</td>\n",
       "      <td>1.000000</td>\n",
       "      <td>NaN</td>\n",
       "      <td>2.827202e-02</td>\n",
       "    </tr>\n",
       "    <tr>\n",
       "      <th>DQ DataCollection of Factors without Margins</th>\n",
       "      <td>NaN</td>\n",
       "      <td>NaN</td>\n",
       "      <td>NaN</td>\n",
       "      <td>NaN</td>\n",
       "      <td>NaN</td>\n",
       "      <td>NaN</td>\n",
       "      <td>NaN</td>\n",
       "      <td>NaN</td>\n",
       "      <td>NaN</td>\n",
       "      <td>NaN</td>\n",
       "      <td>NaN</td>\n",
       "    </tr>\n",
       "    <tr>\n",
       "      <th>Source</th>\n",
       "      <td>4.273306e-16</td>\n",
       "      <td>-1.545892e-17</td>\n",
       "      <td>0.027131</td>\n",
       "      <td>-0.067504</td>\n",
       "      <td>0.006688</td>\n",
       "      <td>-0.012287</td>\n",
       "      <td>-2.909814e-15</td>\n",
       "      <td>NaN</td>\n",
       "      <td>0.028272</td>\n",
       "      <td>NaN</td>\n",
       "      <td>1.000000e+00</td>\n",
       "    </tr>\n",
       "  </tbody>\n",
       "</table>\n",
       "</div>"
      ],
      "text/plain": [
       "                                                       Substance  \\\n",
       "Substance                                           1.000000e+00   \n",
       "Unit                                                7.745967e-01   \n",
       "Supply Chain Emission Factors without Margins      -3.918505e-01   \n",
       "Margins of Supply Chain Emission Factors           -2.184002e-01   \n",
       "Supply Chain Emission Factors with Margins         -4.216032e-01   \n",
       "DQ ReliabilityScore of Factors without Margins      9.509190e-02   \n",
       "DQ TemporalCorrelation of Factors without Margins  -3.667637e-15   \n",
       "DQ GeographicalCorrelation of Factors without M...           NaN   \n",
       "DQ TechnologicalCorrelation of Factors without ...  1.984154e-01   \n",
       "DQ DataCollection of Factors without Margins                 NaN   \n",
       "Source                                              4.273306e-16   \n",
       "\n",
       "                                                            Unit  \\\n",
       "Substance                                           7.745967e-01   \n",
       "Unit                                                1.000000e+00   \n",
       "Supply Chain Emission Factors without Margins      -1.558594e-01   \n",
       "Margins of Supply Chain Emission Factors           -9.429989e-02   \n",
       "Supply Chain Emission Factors with Margins         -1.697410e-01   \n",
       "DQ ReliabilityScore of Factors without Margins     -2.515938e-02   \n",
       "DQ TemporalCorrelation of Factors without Margins  -3.173071e-17   \n",
       "DQ GeographicalCorrelation of Factors without M...           NaN   \n",
       "DQ TechnologicalCorrelation of Factors without ...  2.869901e-01   \n",
       "DQ DataCollection of Factors without Margins                 NaN   \n",
       "Source                                             -1.545892e-17   \n",
       "\n",
       "                                                    Supply Chain Emission Factors without Margins  \\\n",
       "Substance                                                                               -0.391851   \n",
       "Unit                                                                                    -0.155859   \n",
       "Supply Chain Emission Factors without Margins                                            1.000000   \n",
       "Margins of Supply Chain Emission Factors                                                 0.143005   \n",
       "Supply Chain Emission Factors with Margins                                               0.962971   \n",
       "DQ ReliabilityScore of Factors without Margins                                          -0.098000   \n",
       "DQ TemporalCorrelation of Factors without Margins                                        0.009284   \n",
       "DQ GeographicalCorrelation of Factors without M...                                            NaN   \n",
       "DQ TechnologicalCorrelation of Factors without ...                                       0.148410   \n",
       "DQ DataCollection of Factors without Margins                                                  NaN   \n",
       "Source                                                                                   0.027131   \n",
       "\n",
       "                                                    Margins of Supply Chain Emission Factors  \\\n",
       "Substance                                                                          -0.218400   \n",
       "Unit                                                                               -0.094300   \n",
       "Supply Chain Emission Factors without Margins                                       0.143005   \n",
       "Margins of Supply Chain Emission Factors                                            1.000000   \n",
       "Supply Chain Emission Factors with Margins                                          0.404541   \n",
       "DQ ReliabilityScore of Factors without Margins                                     -0.069598   \n",
       "DQ TemporalCorrelation of Factors without Margins                                   0.007953   \n",
       "DQ GeographicalCorrelation of Factors without M...                                       NaN   \n",
       "DQ TechnologicalCorrelation of Factors without ...                                  0.086335   \n",
       "DQ DataCollection of Factors without Margins                                             NaN   \n",
       "Source                                                                             -0.067504   \n",
       "\n",
       "                                                    Supply Chain Emission Factors with Margins  \\\n",
       "Substance                                                                            -0.421603   \n",
       "Unit                                                                                 -0.169741   \n",
       "Supply Chain Emission Factors without Margins                                         0.962971   \n",
       "Margins of Supply Chain Emission Factors                                              0.404541   \n",
       "Supply Chain Emission Factors with Margins                                            1.000000   \n",
       "DQ ReliabilityScore of Factors without Margins                                       -0.109494   \n",
       "DQ TemporalCorrelation of Factors without Margins                                     0.010748   \n",
       "DQ GeographicalCorrelation of Factors without M...                                         NaN   \n",
       "DQ TechnologicalCorrelation of Factors without ...                                    0.160574   \n",
       "DQ DataCollection of Factors without Margins                                               NaN   \n",
       "Source                                                                                0.006688   \n",
       "\n",
       "                                                    DQ ReliabilityScore of Factors without Margins  \\\n",
       "Substance                                                                                 0.095092   \n",
       "Unit                                                                                     -0.025159   \n",
       "Supply Chain Emission Factors without Margins                                            -0.098000   \n",
       "Margins of Supply Chain Emission Factors                                                 -0.069598   \n",
       "Supply Chain Emission Factors with Margins                                               -0.109494   \n",
       "DQ ReliabilityScore of Factors without Margins                                            1.000000   \n",
       "DQ TemporalCorrelation of Factors without Margins                                        -0.021707   \n",
       "DQ GeographicalCorrelation of Factors without M...                                             NaN   \n",
       "DQ TechnologicalCorrelation of Factors without ...                                        0.073583   \n",
       "DQ DataCollection of Factors without Margins                                                   NaN   \n",
       "Source                                                                                   -0.012287   \n",
       "\n",
       "                                                    DQ TemporalCorrelation of Factors without Margins  \\\n",
       "Substance                                                                               -3.667637e-15   \n",
       "Unit                                                                                    -3.173071e-17   \n",
       "Supply Chain Emission Factors without Margins                                            9.283870e-03   \n",
       "Margins of Supply Chain Emission Factors                                                 7.953109e-03   \n",
       "Supply Chain Emission Factors with Margins                                               1.074848e-02   \n",
       "DQ ReliabilityScore of Factors without Margins                                          -2.170715e-02   \n",
       "DQ TemporalCorrelation of Factors without Margins                                        1.000000e+00   \n",
       "DQ GeographicalCorrelation of Factors without M...                                                NaN   \n",
       "DQ TechnologicalCorrelation of Factors without ...                                      -3.060675e-02   \n",
       "DQ DataCollection of Factors without Margins                                                      NaN   \n",
       "Source                                                                                  -2.909814e-15   \n",
       "\n",
       "                                                    DQ GeographicalCorrelation of Factors without Margins  \\\n",
       "Substance                                                                                         NaN       \n",
       "Unit                                                                                              NaN       \n",
       "Supply Chain Emission Factors without Margins                                                     NaN       \n",
       "Margins of Supply Chain Emission Factors                                                          NaN       \n",
       "Supply Chain Emission Factors with Margins                                                        NaN       \n",
       "DQ ReliabilityScore of Factors without Margins                                                    NaN       \n",
       "DQ TemporalCorrelation of Factors without Margins                                                 NaN       \n",
       "DQ GeographicalCorrelation of Factors without M...                                                NaN       \n",
       "DQ TechnologicalCorrelation of Factors without ...                                                NaN       \n",
       "DQ DataCollection of Factors without Margins                                                      NaN       \n",
       "Source                                                                                            NaN       \n",
       "\n",
       "                                                    DQ TechnologicalCorrelation of Factors without Margins  \\\n",
       "Substance                                                                                    0.198415        \n",
       "Unit                                                                                         0.286990        \n",
       "Supply Chain Emission Factors without Margins                                                0.148410        \n",
       "Margins of Supply Chain Emission Factors                                                     0.086335        \n",
       "Supply Chain Emission Factors with Margins                                                   0.160574        \n",
       "DQ ReliabilityScore of Factors without Margins                                               0.073583        \n",
       "DQ TemporalCorrelation of Factors without Margins                                           -0.030607        \n",
       "DQ GeographicalCorrelation of Factors without M...                                                NaN        \n",
       "DQ TechnologicalCorrelation of Factors without ...                                           1.000000        \n",
       "DQ DataCollection of Factors without Margins                                                      NaN        \n",
       "Source                                                                                       0.028272        \n",
       "\n",
       "                                                    DQ DataCollection of Factors without Margins  \\\n",
       "Substance                                                                                    NaN   \n",
       "Unit                                                                                         NaN   \n",
       "Supply Chain Emission Factors without Margins                                                NaN   \n",
       "Margins of Supply Chain Emission Factors                                                     NaN   \n",
       "Supply Chain Emission Factors with Margins                                                   NaN   \n",
       "DQ ReliabilityScore of Factors without Margins                                               NaN   \n",
       "DQ TemporalCorrelation of Factors without Margins                                            NaN   \n",
       "DQ GeographicalCorrelation of Factors without M...                                           NaN   \n",
       "DQ TechnologicalCorrelation of Factors without ...                                           NaN   \n",
       "DQ DataCollection of Factors without Margins                                                 NaN   \n",
       "Source                                                                                       NaN   \n",
       "\n",
       "                                                          Source  \n",
       "Substance                                           4.273306e-16  \n",
       "Unit                                               -1.545892e-17  \n",
       "Supply Chain Emission Factors without Margins       2.713112e-02  \n",
       "Margins of Supply Chain Emission Factors           -6.750426e-02  \n",
       "Supply Chain Emission Factors with Margins          6.687828e-03  \n",
       "DQ ReliabilityScore of Factors without Margins     -1.228726e-02  \n",
       "DQ TemporalCorrelation of Factors without Margins  -2.909814e-15  \n",
       "DQ GeographicalCorrelation of Factors without M...           NaN  \n",
       "DQ TechnologicalCorrelation of Factors without ...  2.827202e-02  \n",
       "DQ DataCollection of Factors without Margins                 NaN  \n",
       "Source                                              1.000000e+00  "
      ]
     },
     "execution_count": 49,
     "metadata": {},
     "output_type": "execute_result"
    }
   ],
   "source": [
    "df.select_dtypes(include=np.number).corr()"
   ]
  },
  {
   "cell_type": "code",
   "execution_count": 50,
   "id": "bb5be57f",
   "metadata": {},
   "outputs": [
    {
     "name": "stdout",
     "output_type": "stream",
     "text": [
      "<class 'pandas.core.frame.DataFrame'>\n",
      "RangeIndex: 22092 entries, 0 to 22091\n",
      "Data columns (total 11 columns):\n",
      " #   Column                                                  Non-Null Count  Dtype  \n",
      "---  ------                                                  --------------  -----  \n",
      " 0   Substance                                               22092 non-null  int64  \n",
      " 1   Unit                                                    22092 non-null  int64  \n",
      " 2   Supply Chain Emission Factors without Margins           22092 non-null  float64\n",
      " 3   Margins of Supply Chain Emission Factors                22092 non-null  float64\n",
      " 4   Supply Chain Emission Factors with Margins              22092 non-null  float64\n",
      " 5   DQ ReliabilityScore of Factors without Margins          22092 non-null  int64  \n",
      " 6   DQ TemporalCorrelation of Factors without Margins       22092 non-null  int64  \n",
      " 7   DQ GeographicalCorrelation of Factors without Margins   22092 non-null  int64  \n",
      " 8   DQ TechnologicalCorrelation of Factors without Margins  22092 non-null  int64  \n",
      " 9   DQ DataCollection of Factors without Margins            22092 non-null  int64  \n",
      " 10  Source                                                  22092 non-null  int64  \n",
      "dtypes: float64(3), int64(8)\n",
      "memory usage: 1.9 MB\n"
     ]
    }
   ],
   "source": [
    "df.info()"
   ]
  },
  {
   "cell_type": "code",
   "execution_count": 51,
   "id": "1c7bcf99",
   "metadata": {},
   "outputs": [
    {
     "data": {
      "image/png": "[encoded data removed]",
      "text/plain": [
       "<Figure size 1200x800 with 2 Axes>"
      ]
     },
     "metadata": {},
     "output_type": "display_data"
    }
   ],
   "source": [
    "plt.figure(figsize=(12, 8))\n",
    "sns.heatmap(df.select_dtypes(include=np.number).corr(), annot=True, cmap=\"coolwarm\")\n",
    "plt.title(\"Correlation Heatmap\")\n",
    "plt.show()"
   ]
  },
  {
   "cell_type": "code",
   "execution_count": 52,
   "id": "2dc7658e",
   "metadata": {},
   "outputs": [
    {
     "data": {
      "text/html": [
       "<div>\n",
       "<style scoped>\n",
       "    .dataframe tbody tr th:only-of-type {\n",
       "        vertical-align: middle;\n",
       "    }\n",
       "\n",
       "    .dataframe tbody tr th {\n",
       "        vertical-align: top;\n",
       "    }\n",
       "\n",
       "    .dataframe thead th {\n",
       "        text-align: right;\n",
       "    }\n",
       "</style>\n",
       "<table border=\"1\" class=\"dataframe\">\n",
       "  <thead>\n",
       "    <tr style=\"text-align: right;\">\n",
       "      <th></th>\n",
       "      <th>count</th>\n",
       "      <th>mean</th>\n",
       "      <th>std</th>\n",
       "      <th>min</th>\n",
       "      <th>25%</th>\n",
       "      <th>50%</th>\n",
       "      <th>75%</th>\n",
       "      <th>max</th>\n",
       "    </tr>\n",
       "  </thead>\n",
       "  <tbody>\n",
       "    <tr>\n",
       "      <th>Substance</th>\n",
       "      <td>22092.0</td>\n",
       "      <td>1.500000</td>\n",
       "      <td>1.118059</td>\n",
       "      <td>0.0</td>\n",
       "      <td>0.75</td>\n",
       "      <td>1.500</td>\n",
       "      <td>2.250</td>\n",
       "      <td>3.000</td>\n",
       "    </tr>\n",
       "    <tr>\n",
       "      <th>Unit</th>\n",
       "      <td>22092.0</td>\n",
       "      <td>0.250000</td>\n",
       "      <td>0.433023</td>\n",
       "      <td>0.0</td>\n",
       "      <td>0.00</td>\n",
       "      <td>0.000</td>\n",
       "      <td>0.250</td>\n",
       "      <td>1.000</td>\n",
       "    </tr>\n",
       "    <tr>\n",
       "      <th>Supply Chain Emission Factors without Margins</th>\n",
       "      <td>22092.0</td>\n",
       "      <td>0.084807</td>\n",
       "      <td>0.267039</td>\n",
       "      <td>0.0</td>\n",
       "      <td>0.00</td>\n",
       "      <td>0.002</td>\n",
       "      <td>0.044</td>\n",
       "      <td>7.228</td>\n",
       "    </tr>\n",
       "    <tr>\n",
       "      <th>Margins of Supply Chain Emission Factors</th>\n",
       "      <td>22092.0</td>\n",
       "      <td>0.012857</td>\n",
       "      <td>0.078720</td>\n",
       "      <td>0.0</td>\n",
       "      <td>0.00</td>\n",
       "      <td>0.000</td>\n",
       "      <td>0.000</td>\n",
       "      <td>3.349</td>\n",
       "    </tr>\n",
       "    <tr>\n",
       "      <th>DQ ReliabilityScore of Factors without Margins</th>\n",
       "      <td>22092.0</td>\n",
       "      <td>3.308030</td>\n",
       "      <td>0.499643</td>\n",
       "      <td>2.0</td>\n",
       "      <td>3.00</td>\n",
       "      <td>3.000</td>\n",
       "      <td>4.000</td>\n",
       "      <td>4.000</td>\n",
       "    </tr>\n",
       "    <tr>\n",
       "      <th>DQ TemporalCorrelation of Factors without Margins</th>\n",
       "      <td>22092.0</td>\n",
       "      <td>2.571429</td>\n",
       "      <td>0.494883</td>\n",
       "      <td>2.0</td>\n",
       "      <td>2.00</td>\n",
       "      <td>3.000</td>\n",
       "      <td>3.000</td>\n",
       "      <td>3.000</td>\n",
       "    </tr>\n",
       "    <tr>\n",
       "      <th>DQ GeographicalCorrelation of Factors without Margins</th>\n",
       "      <td>22092.0</td>\n",
       "      <td>1.000000</td>\n",
       "      <td>0.000000</td>\n",
       "      <td>1.0</td>\n",
       "      <td>1.00</td>\n",
       "      <td>1.000</td>\n",
       "      <td>1.000</td>\n",
       "      <td>1.000</td>\n",
       "    </tr>\n",
       "    <tr>\n",
       "      <th>DQ TechnologicalCorrelation of Factors without Margins</th>\n",
       "      <td>22092.0</td>\n",
       "      <td>2.632129</td>\n",
       "      <td>1.135661</td>\n",
       "      <td>1.0</td>\n",
       "      <td>1.00</td>\n",
       "      <td>3.000</td>\n",
       "      <td>3.000</td>\n",
       "      <td>5.000</td>\n",
       "    </tr>\n",
       "    <tr>\n",
       "      <th>DQ DataCollection of Factors without Margins</th>\n",
       "      <td>22092.0</td>\n",
       "      <td>1.000000</td>\n",
       "      <td>0.000000</td>\n",
       "      <td>1.0</td>\n",
       "      <td>1.00</td>\n",
       "      <td>1.000</td>\n",
       "      <td>1.000</td>\n",
       "      <td>1.000</td>\n",
       "    </tr>\n",
       "    <tr>\n",
       "      <th>Source</th>\n",
       "      <td>22092.0</td>\n",
       "      <td>0.500634</td>\n",
       "      <td>0.500011</td>\n",
       "      <td>0.0</td>\n",
       "      <td>0.00</td>\n",
       "      <td>1.000</td>\n",
       "      <td>1.000</td>\n",
       "      <td>1.000</td>\n",
       "    </tr>\n",
       "  </tbody>\n",
       "</table>\n",
       "</div>"
      ],
      "text/plain": [
       "                                                      count      mean  \\\n",
       "Substance                                           22092.0  1.500000   \n",
       "Unit                                                22092.0  0.250000   \n",
       "Supply Chain Emission Factors without Margins       22092.0  0.084807   \n",
       "Margins of Supply Chain Emission Factors            22092.0  0.012857   \n",
       "DQ ReliabilityScore of Factors without Margins      22092.0  3.308030   \n",
       "DQ TemporalCorrelation of Factors without Margins   22092.0  2.571429   \n",
       "DQ GeographicalCorrelation of Factors without M...  22092.0  1.000000   \n",
       "DQ TechnologicalCorrelation of Factors without ...  22092.0  2.632129   \n",
       "DQ DataCollection of Factors without Margins        22092.0  1.000000   \n",
       "Source                                              22092.0  0.500634   \n",
       "\n",
       "                                                         std  min   25%  \\\n",
       "Substance                                           1.118059  0.0  0.75   \n",
       "Unit                                                0.433023  0.0  0.00   \n",
       "Supply Chain Emission Factors without Margins       0.267039  0.0  0.00   \n",
       "Margins of Supply Chain Emission Factors            0.078720  0.0  0.00   \n",
       "DQ ReliabilityScore of Factors without Margins      0.499643  2.0  3.00   \n",
       "DQ TemporalCorrelation of Factors without Margins   0.494883  2.0  2.00   \n",
       "DQ GeographicalCorrelation of Factors without M...  0.000000  1.0  1.00   \n",
       "DQ TechnologicalCorrelation of Factors without ...  1.135661  1.0  1.00   \n",
       "DQ DataCollection of Factors without Margins        0.000000  1.0  1.00   \n",
       "Source                                              0.500011  0.0  0.00   \n",
       "\n",
       "                                                      50%    75%    max  \n",
       "Substance                                           1.500  2.250  3.000  \n",
       "Unit                                                0.000  0.250  1.000  \n",
       "Supply Chain Emission Factors without Margins       0.002  0.044  7.228  \n",
       "Margins of Supply Chain Emission Factors            0.000  0.000  3.349  \n",
       "DQ ReliabilityScore of Factors without Margins      3.000  4.000  4.000  \n",
       "DQ TemporalCorrelation of Factors without Margins   3.000  3.000  3.000  \n",
       "DQ GeographicalCorrelation of Factors without M...  1.000  1.000  1.000  \n",
       "DQ TechnologicalCorrelation of Factors without ...  3.000  3.000  5.000  \n",
       "DQ DataCollection of Factors without Margins        1.000  1.000  1.000  \n",
       "Source                                              1.000  1.000  1.000  "
      ]
     },
     "execution_count": 52,
     "metadata": {},
     "output_type": "execute_result"
    }
   ],
   "source": [
    "X.describe().T"
   ]
  },
  {
   "cell_type": "code",
   "execution_count": 53,
   "id": "9c53433d",
   "metadata": {},
   "outputs": [
    {
     "data": {
      "text/plain": [
       "(np.float64(-1.3416407864998738), np.float64(1.3849614361966767))"
      ]
     },
     "execution_count": 53,
     "metadata": {},
     "output_type": "execute_result"
    }
   ],
   "source": [
    "scaler = StandardScaler()\n",
    "X_scaled = scaler.fit_transform(X)\n",
    "X_scaled[0].min(),X_scaled[0].max()"
   ]
  },
  {
   "cell_type": "code",
   "execution_count": 54,
   "id": "b7221406",
   "metadata": {},
   "outputs": [
    {
     "data": {
      "text/plain": [
       "(np.float64(-0.0), np.float64(1.0))"
      ]
     },
     "execution_count": 54,
     "metadata": {},
     "output_type": "execute_result"
    }
   ],
   "source": [
    "np.round(X_scaled.mean()),np.round(X_scaled.std())"
   ]
  },
  {
   "cell_type": "code",
   "execution_count": 55,
   "id": "65d9ec27",
   "metadata": {},
   "outputs": [
    {
     "data": {
      "text/plain": [
       "(22092, 10)"
      ]
     },
     "execution_count": 55,
     "metadata": {},
     "output_type": "execute_result"
    }
   ],
   "source": [
    "X.shape"
   ]
  },
  {
   "cell_type": "code",
   "execution_count": 56,
   "id": "fc3d08c4",
   "metadata": {},
   "outputs": [
    {
     "data": {
      "text/plain": [
       "(17673, 10)"
      ]
     },
     "execution_count": 56,
     "metadata": {},
     "output_type": "execute_result"
    }
   ],
   "source": [
    "X_train, X_test, y_train, y_test = train_test_split(X_scaled, y, test_size=0.2, random_state=42)\n",
    "X_train.shape"
   ]
  },
  {
   "cell_type": "code",
   "execution_count": 57,
   "id": "79b25e98",
   "metadata": {},
   "outputs": [
    {
     "data": {
      "text/plain": [
       "(4419, 10)"
      ]
     },
     "execution_count": 57,
     "metadata": {},
     "output_type": "execute_result"
    }
   ],
   "source": [
    "X_test.shape"
   ]
  },
  {
   "cell_type": "code",
   "execution_count": 58,
   "id": "48f2edb0",
   "metadata": {},
   "outputs": [],
   "source": [
    "RF_model = RandomForestRegressor(random_state=42)"
   ]
  },
  {
   "cell_type": "code",
   "execution_count": 59,
   "id": "416b8eff",
   "metadata": {},
   "outputs": [
    {
     "data": {
      "text/html": [
       "<style>#sk-container-id-1 {\n",
       "  /* Definition of color scheme common for light and dark mode */\n",
       "  --sklearn-color-text: #000;\n",
       "  --sklearn-color-text-muted: #666;\n",
       "  --sklearn-color-line: gray;\n",
       "  /* Definition of color scheme for unfitted estimators */\n",
       "  --sklearn-color-unfitted-level-0: #fff5e6;\n",
       "  --sklearn-color-unfitted-level-1: #f6e4d2;\n",
       "  --sklearn-color-unfitted-level-2: #ffe0b3;\n",
       "  --sklearn-color-unfitted-level-3: chocolate;\n",
       "  /* Definition of color scheme for fitted estimators */\n",
       "  --sklearn-color-fitted-level-0: #f0f8ff;\n",
       "  --sklearn-color-fitted-level-1: #d4ebff;\n",
       "  --sklearn-color-fitted-level-2: #b3dbfd;\n",
       "  --sklearn-color-fitted-level-3: cornflowerblue;\n",
       "\n",
       "  /* Specific color for light theme */\n",
       "  --sklearn-color-text-on-default-background: var(--sg-text-color, var(--theme-code-foreground, var(--jp-content-font-color1, black)));\n",
       "  --sklearn-color-background: var(--sg-background-color, var(--theme-background, var(--jp-layout-color0, white)));\n",
       "  --sklearn-color-border-box: var(--sg-text-color, var(--theme-code-foreground, var(--jp-content-font-color1, black)));\n",
       "  --sklearn-color-icon: #696969;\n",
       "\n",
       "  @media (prefers-color-scheme: dark) {\n",
       "    /* Redefinition of color scheme for dark theme */\n",
       "    --sklearn-color-text-on-default-background: var(--sg-text-color, var(--theme-code-foreground, var(--jp-content-font-color1, white)));\n",
       "    --sklearn-color-background: var(--sg-background-color, var(--theme-background, var(--jp-layout-color0, #111)));\n",
       "    --sklearn-color-border-box: var(--sg-text-color, var(--theme-code-foreground, var(--jp-content-font-color1, white)));\n",
       "    --sklearn-color-icon: #878787;\n",
       "  }\n",
       "}\n",
       "\n",
       "#sk-container-id-1 {\n",
       "  color: var(--sklearn-color-text);\n",
       "}\n",
       "\n",
       "#sk-container-id-1 pre {\n",
       "  padding: 0;\n",
       "}\n",
       "\n",
       "#sk-container-id-1 input.sk-hidden--visually {\n",
       "  border: 0;\n",
       "  clip: rect(1px 1px 1px 1px);\n",
       "  clip: rect(1px, 1px, 1px, 1px);\n",
       "  height: 1px;\n",
       "  margin: -1px;\n",
       "  overflow: hidden;\n",
       "  padding: 0;\n",
       "  position: absolute;\n",
       "  width: 1px;\n",
       "}\n",
       "\n",
       "#sk-container-id-1 div.sk-dashed-wrapped {\n",
       "  border: 1px dashed var(--sklearn-color-line);\n",
       "  margin: 0 0.4em 0.5em 0.4em;\n",
       "  box-sizing: border-box;\n",
       "  padding-bottom: 0.4em;\n",
       "  background-color: var(--sklearn-color-background);\n",
       "}\n",
       "\n",
       "#sk-container-id-1 div.sk-container {\n",
       "  /* jupyter's `normalize.less` sets `[hidden] { display: none; }`\n",
       "     but bootstrap.min.css set `[hidden] { display: none !important; }`\n",
       "     so we also need the `!important` here to be able to override the\n",
       "     default hidden behavior on the sphinx rendered scikit-learn.org.\n",
       "     See: https://github.com/scikit-learn/scikit-learn/issues/21755 */\n",
       "  display: inline-block !important;\n",
       "  position: relative;\n",
       "}\n",
       "\n",
       "#sk-container-id-1 div.sk-text-repr-fallback {\n",
       "  display: none;\n",
       "}\n",
       "\n",
       "div.sk-parallel-item,\n",
       "div.sk-serial,\n",
       "div.sk-item {\n",
       "  /* draw centered vertical line to link estimators */\n",
       "  background-image: linear-gradient(var(--sklearn-color-text-on-default-background), var(--sklearn-color-text-on-default-background));\n",
       "  background-size: 2px 100%;\n",
       "  background-repeat: no-repeat;\n",
       "  background-position: center center;\n",
       "}\n",
       "\n",
       "/* Parallel-specific style estimator block */\n",
       "\n",
       "#sk-container-id-1 div.sk-parallel-item::after {\n",
       "  content: \"\";\n",
       "  width: 100%;\n",
       "  border-bottom: 2px solid var(--sklearn-color-text-on-default-background);\n",
       "  flex-grow: 1;\n",
       "}\n",
       "\n",
       "#sk-container-id-1 div.sk-parallel {\n",
       "  display: flex;\n",
       "  align-items: stretch;\n",
       "  justify-content: center;\n",
       "  background-color: var(--sklearn-color-background);\n",
       "  position: relative;\n",
       "}\n",
       "\n",
       "#sk-container-id-1 div.sk-parallel-item {\n",
       "  display: flex;\n",
       "  flex-direction: column;\n",
       "}\n",
       "\n",
       "#sk-container-id-1 div.sk-parallel-item:first-child::after {\n",
       "  align-self: flex-end;\n",
       "  width: 50%;\n",
       "}\n",
       "\n",
       "#sk-container-id-1 div.sk-parallel-item:last-child::after {\n",
       "  align-self: flex-start;\n",
       "  width: 50%;\n",
       "}\n",
       "\n",
       "#sk-container-id-1 div.sk-parallel-item:only-child::after {\n",
       "  width: 0;\n",
       "}\n",
       "\n",
       "/* Serial-specific style estimator block */\n",
       "\n",
       "#sk-container-id-1 div.sk-serial {\n",
       "  display: flex;\n",
       "  flex-direction: column;\n",
       "  align-items: center;\n",
       "  background-color: var(--sklearn-color-background);\n",
       "  padding-right: 1em;\n",
       "  padding-left: 1em;\n",
       "}\n",
       "\n",
       "\n",
       "/* Toggleable style: style used for estimator/Pipeline/ColumnTransformer box that is\n",
       "clickable and can be expanded/collapsed.\n",
       "- Pipeline and ColumnTransformer use this feature and define the default style\n",
       "- Estimators will overwrite some part of the style using the `sk-estimator` class\n",
       "*/\n",
       "\n",
       "/* Pipeline and ColumnTransformer style (default) */\n",
       "\n",
       "#sk-container-id-1 div.sk-toggleable {\n",
       "  /* Default theme specific background. It is overwritten whether we have a\n",
       "  specific estimator or a Pipeline/ColumnTransformer */\n",
       "  background-color: var(--sklearn-color-background);\n",
       "}\n",
       "\n",
       "/* Toggleable label */\n",
       "#sk-container-id-1 label.sk-toggleable__label {\n",
       "  cursor: pointer;\n",
       "  display: flex;\n",
       "  width: 100%;\n",
       "  margin-bottom: 0;\n",
       "  padding: 0.5em;\n",
       "  box-sizing: border-box;\n",
       "  text-align: center;\n",
       "  align-items: start;\n",
       "  justify-content: space-between;\n",
       "  gap: 0.5em;\n",
       "}\n",
       "\n",
       "#sk-container-id-1 label.sk-toggleable__label .caption {\n",
       "  font-size: 0.6rem;\n",
       "  font-weight: lighter;\n",
       "  color: var(--sklearn-color-text-muted);\n",
       "}\n",
       "\n",
       "#sk-container-id-1 label.sk-toggleable__label-arrow:before {\n",
       "  /* Arrow on the left of the label */\n",
       "  content: \"▸\";\n",
       "  float: left;\n",
       "  margin-right: 0.25em;\n",
       "  color: var(--sklearn-color-icon);\n",
       "}\n",
       "\n",
       "#sk-container-id-1 label.sk-toggleable__label-arrow:hover:before {\n",
       "  color: var(--sklearn-color-text);\n",
       "}\n",
       "\n",
       "/* Toggleable content - dropdown */\n",
       "\n",
       "#sk-container-id-1 div.sk-toggleable__content {\n",
       "  max-height: 0;\n",
       "  max-width: 0;\n",
       "  overflow: hidden;\n",
       "  text-align: left;\n",
       "  /* unfitted */\n",
       "  background-color: var(--sklearn-color-unfitted-level-0);\n",
       "}\n",
       "\n",
       "#sk-container-id-1 div.sk-toggleable__content.fitted {\n",
       "  /* fitted */\n",
       "  background-color: var(--sklearn-color-fitted-level-0);\n",
       "}\n",
       "\n",
       "#sk-container-id-1 div.sk-toggleable__content pre {\n",
       "  margin: 0.2em;\n",
       "  border-radius: 0.25em;\n",
       "  color: var(--sklearn-color-text);\n",
       "  /* unfitted */\n",
       "  background-color: var(--sklearn-color-unfitted-level-0);\n",
       "}\n",
       "\n",
       "#sk-container-id-1 div.sk-toggleable__content.fitted pre {\n",
       "  /* unfitted */\n",
       "  background-color: var(--sklearn-color-fitted-level-0);\n",
       "}\n",
       "\n",
       "#sk-container-id-1 input.sk-toggleable__control:checked~div.sk-toggleable__content {\n",
       "  /* Expand drop-down */\n",
       "  max-height: 200px;\n",
       "  max-width: 100%;\n",
       "  overflow: auto;\n",
       "}\n",
       "\n",
       "#sk-container-id-1 input.sk-toggleable__control:checked~label.sk-toggleable__label-arrow:before {\n",
       "  content: \"▾\";\n",
       "}\n",
       "\n",
       "/* Pipeline/ColumnTransformer-specific style */\n",
       "\n",
       "#sk-container-id-1 div.sk-label input.sk-toggleable__control:checked~label.sk-toggleable__label {\n",
       "  color: var(--sklearn-color-text);\n",
       "  background-color: var(--sklearn-color-unfitted-level-2);\n",
       "}\n",
       "\n",
       "#sk-container-id-1 div.sk-label.fitted input.sk-toggleable__control:checked~label.sk-toggleable__label {\n",
       "  background-color: var(--sklearn-color-fitted-level-2);\n",
       "}\n",
       "\n",
       "/* Estimator-specific style */\n",
       "\n",
       "/* Colorize estimator box */\n",
       "#sk-container-id-1 div.sk-estimator input.sk-toggleable__control:checked~label.sk-toggleable__label {\n",
       "  /* unfitted */\n",
       "  background-color: var(--sklearn-color-unfitted-level-2);\n",
       "}\n",
       "\n",
       "#sk-container-id-1 div.sk-estimator.fitted input.sk-toggleable__control:checked~label.sk-toggleable__label {\n",
       "  /* fitted */\n",
       "  background-color: var(--sklearn-color-fitted-level-2);\n",
       "}\n",
       "\n",
       "#sk-container-id-1 div.sk-label label.sk-toggleable__label,\n",
       "#sk-container-id-1 div.sk-label label {\n",
       "  /* The background is the default theme color */\n",
       "  color: var(--sklearn-color-text-on-default-background);\n",
       "}\n",
       "\n",
       "/* On hover, darken the color of the background */\n",
       "#sk-container-id-1 div.sk-label:hover label.sk-toggleable__label {\n",
       "  color: var(--sklearn-color-text);\n",
       "  background-color: var(--sklearn-color-unfitted-level-2);\n",
       "}\n",
       "\n",
       "/* Label box, darken color on hover, fitted */\n",
       "#sk-container-id-1 div.sk-label.fitted:hover label.sk-toggleable__label.fitted {\n",
       "  color: var(--sklearn-color-text);\n",
       "  background-color: var(--sklearn-color-fitted-level-2);\n",
       "}\n",
       "\n",
       "/* Estimator label */\n",
       "\n",
       "#sk-container-id-1 div.sk-label label {\n",
       "  font-family: monospace;\n",
       "  font-weight: bold;\n",
       "  display: inline-block;\n",
       "  line-height: 1.2em;\n",
       "}\n",
       "\n",
       "#sk-container-id-1 div.sk-label-container {\n",
       "  text-align: center;\n",
       "}\n",
       "\n",
       "/* Estimator-specific */\n",
       "#sk-container-id-1 div.sk-estimator {\n",
       "  font-family: monospace;\n",
       "  border: 1px dotted var(--sklearn-color-border-box);\n",
       "  border-radius: 0.25em;\n",
       "  box-sizing: border-box;\n",
       "  margin-bottom: 0.5em;\n",
       "  /* unfitted */\n",
       "  background-color: var(--sklearn-color-unfitted-level-0);\n",
       "}\n",
       "\n",
       "#sk-container-id-1 div.sk-estimator.fitted {\n",
       "  /* fitted */\n",
       "  background-color: var(--sklearn-color-fitted-level-0);\n",
       "}\n",
       "\n",
       "/* on hover */\n",
       "#sk-container-id-1 div.sk-estimator:hover {\n",
       "  /* unfitted */\n",
       "  background-color: var(--sklearn-color-unfitted-level-2);\n",
       "}\n",
       "\n",
       "#sk-container-id-1 div.sk-estimator.fitted:hover {\n",
       "  /* fitted */\n",
       "  background-color: var(--sklearn-color-fitted-level-2);\n",
       "}\n",
       "\n",
       "/* Specification for estimator info (e.g. \"i\" and \"?\") */\n",
       "\n",
       "/* Common style for \"i\" and \"?\" */\n",
       "\n",
       ".sk-estimator-doc-link,\n",
       "a:link.sk-estimator-doc-link,\n",
       "a:visited.sk-estimator-doc-link {\n",
       "  float: right;\n",
       "  font-size: smaller;\n",
       "  line-height: 1em;\n",
       "  font-family: monospace;\n",
       "  background-color: var(--sklearn-color-background);\n",
       "  border-radius: 1em;\n",
       "  height: 1em;\n",
       "  width: 1em;\n",
       "  text-decoration: none !important;\n",
       "  margin-left: 0.5em;\n",
       "  text-align: center;\n",
       "  /* unfitted */\n",
       "  border: var(--sklearn-color-unfitted-level-1) 1pt solid;\n",
       "  color: var(--sklearn-color-unfitted-level-1);\n",
       "}\n",
       "\n",
       ".sk-estimator-doc-link.fitted,\n",
       "a:link.sk-estimator-doc-link.fitted,\n",
       "a:visited.sk-estimator-doc-link.fitted {\n",
       "  /* fitted */\n",
       "  border: var(--sklearn-color-fitted-level-1) 1pt solid;\n",
       "  color: var(--sklearn-color-fitted-level-1);\n",
       "}\n",
       "\n",
       "/* On hover */\n",
       "div.sk-estimator:hover .sk-estimator-doc-link:hover,\n",
       ".sk-estimator-doc-link:hover,\n",
       "div.sk-label-container:hover .sk-estimator-doc-link:hover,\n",
       ".sk-estimator-doc-link:hover {\n",
       "  /* unfitted */\n",
       "  background-color: var(--sklearn-color-unfitted-level-3);\n",
       "  color: var(--sklearn-color-background);\n",
       "  text-decoration: none;\n",
       "}\n",
       "\n",
       "div.sk-estimator.fitted:hover .sk-estimator-doc-link.fitted:hover,\n",
       ".sk-estimator-doc-link.fitted:hover,\n",
       "div.sk-label-container:hover .sk-estimator-doc-link.fitted:hover,\n",
       ".sk-estimator-doc-link.fitted:hover {\n",
       "  /* fitted */\n",
       "  background-color: var(--sklearn-color-fitted-level-3);\n",
       "  color: var(--sklearn-color-background);\n",
       "  text-decoration: none;\n",
       "}\n",
       "\n",
       "/* Span, style for the box shown on hovering the info icon */\n",
       ".sk-estimator-doc-link span {\n",
       "  display: none;\n",
       "  z-index: 9999;\n",
       "  position: relative;\n",
       "  font-weight: normal;\n",
       "  right: .2ex;\n",
       "  padding: .5ex;\n",
       "  margin: .5ex;\n",
       "  width: min-content;\n",
       "  min-width: 20ex;\n",
       "  max-width: 50ex;\n",
       "  color: var(--sklearn-color-text);\n",
       "  box-shadow: 2pt 2pt 4pt #999;\n",
       "  /* unfitted */\n",
       "  background: var(--sklearn-color-unfitted-level-0);\n",
       "  border: .5pt solid var(--sklearn-color-unfitted-level-3);\n",
       "}\n",
       "\n",
       ".sk-estimator-doc-link.fitted span {\n",
       "  /* fitted */\n",
       "  background: var(--sklearn-color-fitted-level-0);\n",
       "  border: var(--sklearn-color-fitted-level-3);\n",
       "}\n",
       "\n",
       ".sk-estimator-doc-link:hover span {\n",
       "  display: block;\n",
       "}\n",
       "\n",
       "/* \"?\"-specific style due to the `<a>` HTML tag */\n",
       "\n",
       "#sk-container-id-1 a.estimator_doc_link {\n",
       "  float: right;\n",
       "  font-size: 1rem;\n",
       "  line-height: 1em;\n",
       "  font-family: monospace;\n",
       "  background-color: var(--sklearn-color-background);\n",
       "  border-radius: 1rem;\n",
       "  height: 1rem;\n",
       "  width: 1rem;\n",
       "  text-decoration: none;\n",
       "  /* unfitted */\n",
       "  color: var(--sklearn-color-unfitted-level-1);\n",
       "  border: var(--sklearn-color-unfitted-level-1) 1pt solid;\n",
       "}\n",
       "\n",
       "#sk-container-id-1 a.estimator_doc_link.fitted {\n",
       "  /* fitted */\n",
       "  border: var(--sklearn-color-fitted-level-1) 1pt solid;\n",
       "  color: var(--sklearn-color-fitted-level-1);\n",
       "}\n",
       "\n",
       "/* On hover */\n",
       "#sk-container-id-1 a.estimator_doc_link:hover {\n",
       "  /* unfitted */\n",
       "  background-color: var(--sklearn-color-unfitted-level-3);\n",
       "  color: var(--sklearn-color-background);\n",
       "  text-decoration: none;\n",
       "}\n",
       "\n",
       "#sk-container-id-1 a.estimator_doc_link.fitted:hover {\n",
       "  /* fitted */\n",
       "  background-color: var(--sklearn-color-fitted-level-3);\n",
       "}\n",
       "</style><div id=\"sk-container-id-1\" class=\"sk-top-container\"><div class=\"sk-text-repr-fallback\"><pre>RandomForestRegressor(random_state=42)</pre><b>In a Jupyter environment, please rerun this cell to show the HTML representation or trust the notebook. <br />On GitHub, the HTML representation is unable to render, please try loading this page with nbviewer.org.</b></div><div class=\"sk-container\" hidden><div class=\"sk-item\"><div class=\"sk-estimator fitted sk-toggleable\"><input class=\"sk-toggleable__control sk-hidden--visually\" id=\"sk-estimator-id-1\" type=\"checkbox\" checked><label for=\"sk-estimator-id-1\" class=\"sk-toggleable__label fitted sk-toggleable__label-arrow\"><div><div>RandomForestRegressor</div></div><div><a class=\"sk-estimator-doc-link fitted\" rel=\"noreferrer\" target=\"_blank\" href=\"https://scikit-learn.org/1.6/modules/generated/sklearn.ensemble.RandomForestRegressor.html\">?<span>Documentation for RandomForestRegressor</span></a><span class=\"sk-estimator-doc-link fitted\">i<span>Fitted</span></span></div></label><div class=\"sk-toggleable__content fitted\"><pre>RandomForestRegressor(random_state=42)</pre></div> </div></div></div></div>"
      ],
      "text/plain": [
       "RandomForestRegressor(random_state=42)"
      ]
     },
     "execution_count": 59,
     "metadata": {},
     "output_type": "execute_result"
    }
   ],
   "source": [
    "RF_model.fit(X_train, y_train)"
   ]
  },
  {
   "cell_type": "code",
   "execution_count": 60,
   "id": "f5010d9d",
   "metadata": {},
   "outputs": [
    {
     "data": {
      "text/plain": [
       "array([2.93080000e-01, 1.00000000e-03, 1.21122793e-03, 1.16130018e-03,\n",
       "       0.00000000e+00, 4.00000000e-03, 1.24555977e-04, 2.20009044e-03,\n",
       "       2.00000000e-03, 3.94080000e-01, 0.00000000e+00, 1.40000000e-02,\n",
       "       4.08395607e-03, 7.00000000e-03, 2.15970231e-03, 2.89160331e-04,\n",
       "       1.02821706e-03, 3.15790000e-01, 9.00000000e-03, 0.00000000e+00])"
      ]
     },
     "execution_count": 60,
     "metadata": {},
     "output_type": "execute_result"
    }
   ],
   "source": [
    "RF_y_pred = RF_model.predict(X_test)\n",
    "RF_y_pred[:20]"
   ]
  },
  {
   "cell_type": "code",
   "execution_count": 61,
   "id": "c347de1c",
   "metadata": {},
   "outputs": [
    {
     "name": "stdout",
     "output_type": "stream",
     "text": [
      "RMSE: 0.006143789217304181\n",
      "R² Score: 0.9993280085696331\n"
     ]
    }
   ],
   "source": [
    "RF_mse = mean_squared_error(y_test, RF_y_pred) # Calculating Mean Squared Error (MSE)\n",
    "RF_rmse = np.sqrt(RF_mse) # Calculating Root Mean Squared Error (RMSE)\n",
    "# Calculating R² score\n",
    "RF_r2 = r2_score(y_test, RF_y_pred)\n",
    "\n",
    "print(f'RMSE: {RF_rmse}')\n",
    "print(f'R² Score: {RF_r2}')"
   ]
  },
  {
   "cell_type": "code",
   "execution_count": 62,
   "id": "774cc9b4",
   "metadata": {},
   "outputs": [
    {
     "name": "stdout",
     "output_type": "stream",
     "text": [
      "RMSE: 0.00028073792916286924\n",
      "R² Score: 0.9999985968848819\n"
     ]
    }
   ],
   "source": [
    "from sklearn.linear_model import LinearRegression # Importing Linear Regression model \n",
    "LR_model = LinearRegression() # Initializing Linear Regression model\n",
    "# Fitting the Linear Regression model on training data\n",
    "\n",
    "LR_model.fit(X_train, y_train)\n",
    "\n",
    "LR_y_pred = LR_model.predict(X_test) # Making predictions on the test set using Linear Regression model \n",
    "\n",
    "\n",
    "LR_mse = mean_squared_error(y_test, LR_y_pred) # Calculating Mean Squared Error (MSE) for Linear Regression model\n",
    "LR_rmse = np.sqrt(LR_mse) # Calculating Root Mean Squared Error (RMSE) for Linear Regression model \n",
    "LR_r2 = r2_score(y_test, LR_y_pred) # Calculating R² score for Linear Regression model \n",
    "\n",
    "print(f'RMSE: {LR_rmse}')\n",
    "print(f'R² Score: {LR_r2}')"
   ]
  },
  {
   "cell_type": "code",
   "execution_count": 63,
   "id": "e0cfba6a",
   "metadata": {},
   "outputs": [
    {
     "name": "stdout",
     "output_type": "stream",
     "text": [
      "Best Parameters: {'max_depth': 20, 'min_samples_split': 2, 'n_estimators': 100}\n"
     ]
    }
   ],
   "source": [
    "param_grid = {\n",
    "    'n_estimators': [100, 200],\n",
    "    'max_depth': [None, 10, 20],\n",
    "    'min_samples_split': [2, 5]\n",
    "}\n",
    "\n",
    "# Perform grid search with cross-validation to find the best hyperparameters \n",
    "grid_search = GridSearchCV(RandomForestRegressor(random_state=42), param_grid, cv=3, n_jobs=-1)\n",
    "\n",
    "# Fit the grid search model on the training data \n",
    "grid_search.fit(X_train, y_train)\n",
    "\n",
    "# Best model from grid search\n",
    "best_model = grid_search.best_estimator_\n",
    "print(\"Best Parameters:\", grid_search.best_params_)"
   ]
  },
  {
   "cell_type": "code",
   "execution_count": 64,
   "id": "1208e4a0",
   "metadata": {},
   "outputs": [
    {
     "name": "stdout",
     "output_type": "stream",
     "text": [
      "RMSE: 0.005948528382514106\n",
      "R² Score: 0.9993700440298772\n"
     ]
    }
   ],
   "source": [
    "y_pred_best = best_model.predict(X_test)\n",
    "\n",
    "\n",
    "HP_mse = mean_squared_error(y_test, y_pred_best)\n",
    "HP_rmse = np.sqrt(HP_mse)\n",
    "HP_r2 = r2_score(y_test, y_pred_best)\n",
    "\n",
    "print(f'RMSE: {HP_rmse}')\n",
    "print(f'R² Score: {HP_r2}')"
   ]
  },
  {
   "cell_type": "code",
   "execution_count": 65,
   "id": "8a8a442a",
   "metadata": {},
   "outputs": [
    {
     "name": "stdout",
     "output_type": "stream",
     "text": [
      "                     Model           MSE      RMSE        R2\n",
      "0  Random Forest (Default)  3.774615e-05  0.006144  0.999328\n",
      "1        Linear Regression  7.881378e-08  0.000281  0.999999\n",
      "2    Random Forest (Tuned)  3.538499e-05  0.005949  0.999370\n"
     ]
    }
   ],
   "source": [
    "results = {\n",
    "    'Model': ['Random Forest (Default)', 'Linear Regression', 'Random Forest (Tuned)'],\n",
    "    'MSE': [RF_mse, LR_mse, HP_mse],\n",
    "    'RMSE': [RF_rmse, LR_rmse, HP_rmse],\n",
    "    'R2': [RF_r2, LR_r2, HP_r2]\n",
    "}\n",
    "\n",
    "# Create a DataFrame to compare the results of different models\n",
    "comparison_df = pd.DataFrame(results)\n",
    "print(comparison_df)"
   ]
  },
  {
   "cell_type": "code",
   "execution_count": 66,
   "id": "09e8a2b5",
   "metadata": {},
   "outputs": [
    {
     "data": {
      "text/plain": [
       "['models/scaler.pkl']"
      ]
     },
     "execution_count": 66,
     "metadata": {},
     "output_type": "execute_result"
    }
   ],
   "source": [
    "!mkdir models \n",
    "joblib.dump(best_model, 'models/LR_model.pkl')    # Save the best model \n",
    "joblib.dump(scaler, 'models/scaler.pkl') # Save the scaler used for normalization"
   ]
  },
  {
   "cell_type": "code",
   "execution_count": 67,
   "id": "c2b976d1",
   "metadata": {},
   "outputs": [
    {
     "name": "stdout",
     "output_type": "stream",
     "text": [
      "Collecting nbformat\n",
      "  Using cached nbformat-5.10.4-py3-none-any.whl.metadata (3.6 kB)\n",
      "Collecting fastjsonschema>=2.15 (from nbformat)\n",
      "  Using cached fastjsonschema-2.21.1-py3-none-any.whl.metadata (2.2 kB)\n",
      "Requirement already satisfied: jsonschema>=2.6 in c:\\users\\yashi\\.android\\new\\envs\\myenv\\lib\\site-packages (from nbformat) (4.24.0)\n",
      "Requirement already satisfied: jupyter-core!=5.0.*,>=4.12 in c:\\users\\yashi\\.android\\new\\envs\\myenv\\lib\\site-packages (from nbformat) (5.7.2)\n",
      "Requirement already satisfied: traitlets>=5.1 in c:\\users\\yashi\\.android\\new\\envs\\myenv\\lib\\site-packages (from nbformat) (5.14.3)\n",
      "Requirement already satisfied: attrs>=22.2.0 in c:\\users\\yashi\\.android\\new\\envs\\myenv\\lib\\site-packages (from jsonschema>=2.6->nbformat) (25.3.0)\n",
      "Requirement already satisfied: jsonschema-specifications>=2023.03.6 in c:\\users\\yashi\\.android\\new\\envs\\myenv\\lib\\site-packages (from jsonschema>=2.6->nbformat) (2025.4.1)\n",
      "Requirement already satisfied: referencing>=0.28.4 in c:\\users\\yashi\\.android\\new\\envs\\myenv\\lib\\site-packages (from jsonschema>=2.6->nbformat) (0.36.2)\n",
      "Requirement already satisfied: rpds-py>=0.7.1 in c:\\users\\yashi\\.android\\new\\envs\\myenv\\lib\\site-packages (from jsonschema>=2.6->nbformat) (0.25.1)\n",
      "Requirement already satisfied: platformdirs>=2.5 in c:\\users\\yashi\\.android\\new\\envs\\myenv\\lib\\site-packages (from jupyter-core!=5.0.*,>=4.12->nbformat) (4.3.8)\n",
      "Requirement already satisfied: pywin32>=300 in c:\\users\\yashi\\.android\\new\\envs\\myenv\\lib\\site-packages (from jupyter-core!=5.0.*,>=4.12->nbformat) (308)\n",
      "Requirement already satisfied: typing-extensions>=4.4.0 in c:\\users\\yashi\\.android\\new\\envs\\myenv\\lib\\site-packages (from referencing>=0.28.4->jsonschema>=2.6->nbformat) (4.14.0)\n",
      "Using cached nbformat-5.10.4-py3-none-any.whl (78 kB)\n",
      "Using cached fastjsonschema-2.21.1-py3-none-any.whl (23 kB)\n",
      "Installing collected packages: fastjsonschema, nbformat\n",
      "Successfully installed fastjsonschema-2.21.1 nbformat-5.10.4\n",
      "Note: you may need to restart the kernel to use updated packages.\n"
     ]
    }
   ],
   "source": [
    "pip install nbformat\n"
   ]
  },
  {
   "cell_type": "code",
   "execution_count": 70,
   "id": "726fe005",
   "metadata": {},
   "outputs": [
    {
     "name": "stdout",
     "output_type": "stream",
     "text": [
      "Notebook is valid ✅\n"
     ]
    }
   ],
   "source": [
    "import nbformat\n",
    "\n",
    "try:\n",
    "    with open(\"ghg_emissions.ipynb\", \"r\", encoding=\"utf-8\") as f:\n",
    "        nb = nbformat.read(f, as_version=4)\n",
    "    print(\"Notebook is valid ✅\")\n",
    "except Exception as e:\n",
    "    print(\"Invalid notebook ❌:\", e)\n"
   ]
  },
  {
   "cell_type": "code",
   "execution_count": 76,
   "id": "c1796f47",
   "metadata": {},
   "outputs": [
    {
     "name": "stdout",
     "output_type": "stream",
     "text": [
      "['Substance', 'Unit', 'Supply Chain Emission Factors without Margins', 'Margins of Supply Chain Emission Factors', 'Supply Chain Emission Factors with Margins', 'DQ ReliabilityScore of Factors without Margins', 'DQ TemporalCorrelation of Factors without Margins', 'DQ GeographicalCorrelation of Factors without Margins', 'DQ TechnologicalCorrelation of Factors without Margins', 'DQ DataCollection of Factors without Margins', 'Source']\n"
     ]
    }
   ],
   "source": [
    "print(df.columns.tolist())\n"
   ]
  },
  {
   "cell_type": "code",
   "execution_count": 77,
   "id": "3e4981ee",
   "metadata": {},
   "outputs": [
    {
     "data": {
      "application/vnd.plotly.v1+json": {
       "config": {
        "plotlyServerURL": "https://plot.ly"
       },
       "data": [
        {
         "hovertemplate": "Supply Chain Emission Factors with Margins=%{x}<br>Substance=%{y}<extra></extra>",
         "legendgroup": "",
         "marker": {
          "color": "#636efa",
          "pattern": {
           "shape": ""
          }
         },
         "name": "",
         "orientation": "h",
         "showlegend": false,
         "textposition": "auto",
         "type": "bar",
         "x": {
          "bdata": "jZduEsMuoEAAAAAAAJBRQMdLN4lBoC9ASgwCK4cW4T8=",
          "dtype": "f8"
         },
         "xaxis": "x",
         "y": {
          "bdata": "AAMBAg==",
          "dtype": "i1"
         },
         "yaxis": "y"
        }
       ],
       "layout": {
        "barmode": "relative",
        "legend": {
         "tracegroupgap": 0
        },
        "template": {
         "data": {
          "bar": [
           {
            "error_x": {
             "color": "#2a3f5f"
            },
            "error_y": {
             "color": "#2a3f5f"
            },
            "marker": {
             "line": {
              "color": "#E5ECF6",
              "width": 0.5
             },
             "pattern": {
              "fillmode": "overlay",
              "size": 10,
              "solidity": 0.2
             }
            },
            "type": "bar"
           }
          ],
          "barpolar": [
           {
            "marker": {
             "line": {
              "color": "#E5ECF6",
              "width": 0.5
             },
             "pattern": {
              "fillmode": "overlay",
              "size": 10,
              "solidity": 0.2
             }
            },
            "type": "barpolar"
           }
          ],
          "carpet": [
           {
            "aaxis": {
             "endlinecolor": "#2a3f5f",
             "gridcolor": "white",
             "linecolor": "white",
             "minorgridcolor": "white",
             "startlinecolor": "#2a3f5f"
            },
            "baxis": {
             "endlinecolor": "#2a3f5f",
             "gridcolor": "white",
             "linecolor": "white",
             "minorgridcolor": "white",
             "startlinecolor": "#2a3f5f"
            },
            "type": "carpet"
           }
          ],
          "choropleth": [
           {
            "colorbar": {
             "outlinewidth": 0,
             "ticks": ""
            },
            "type": "choropleth"
           }
          ],
          "contour": [
           {
            "colorbar": {
             "outlinewidth": 0,
             "ticks": ""
            },
            "colorscale": [
             [
              0,
              "#0d0887"
             ],
             [
              0.1111111111111111,
              "#46039f"
             ],
             [
              0.2222222222222222,
              "#7201a8"
             ],
             [
              0.3333333333333333,
              "#9c179e"
             ],
             [
              0.4444444444444444,
              "#bd3786"
             ],
             [
              0.5555555555555556,
              "#d8576b"
             ],
             [
              0.6666666666666666,
              "#ed7953"
             ],
             [
              0.7777777777777778,
              "#fb9f3a"
             ],
             [
              0.8888888888888888,
              "#fdca26"
             ],
             [
              1,
              "#f0f921"
             ]
            ],
            "type": "contour"
           }
          ],
          "contourcarpet": [
           {
            "colorbar": {
             "outlinewidth": 0,
             "ticks": ""
            },
            "type": "contourcarpet"
           }
          ],
          "heatmap": [
           {
            "colorbar": {
             "outlinewidth": 0,
             "ticks": ""
            },
            "colorscale": [
             [
              0,
              "#0d0887"
             ],
             [
              0.1111111111111111,
              "#46039f"
             ],
             [
              0.2222222222222222,
              "#7201a8"
             ],
             [
              0.3333333333333333,
              "#9c179e"
             ],
             [
              0.4444444444444444,
              "#bd3786"
             ],
             [
              0.5555555555555556,
              "#d8576b"
             ],
             [
              0.6666666666666666,
              "#ed7953"
             ],
             [
              0.7777777777777778,
              "#fb9f3a"
             ],
             [
              0.8888888888888888,
              "#fdca26"
             ],
             [
              1,
              "#f0f921"
             ]
            ],
            "type": "heatmap"
           }
          ],
          "histogram": [
           {
            "marker": {
             "pattern": {
              "fillmode": "overlay",
              "size": 10,
              "solidity": 0.2
             }
            },
            "type": "histogram"
           }
          ],
          "histogram2d": [
           {
            "colorbar": {
             "outlinewidth": 0,
             "ticks": ""
            },
            "colorscale": [
             [
              0,
              "#0d0887"
             ],
             [
              0.1111111111111111,
              "#46039f"
             ],
             [
              0.2222222222222222,
              "#7201a8"
             ],
             [
              0.3333333333333333,
              "#9c179e"
             ],
             [
              0.4444444444444444,
              "#bd3786"
             ],
             [
              0.5555555555555556,
              "#d8576b"
             ],
             [
              0.6666666666666666,
              "#ed7953"
             ],
             [
              0.7777777777777778,
              "#fb9f3a"
             ],
             [
              0.8888888888888888,
              "#fdca26"
             ],
             [
              1,
              "#f0f921"
             ]
            ],
            "type": "histogram2d"
           }
          ],
          "histogram2dcontour": [
           {
            "colorbar": {
             "outlinewidth": 0,
             "ticks": ""
            },
            "colorscale": [
             [
              0,
              "#0d0887"
             ],
             [
              0.1111111111111111,
              "#46039f"
             ],
             [
              0.2222222222222222,
              "#7201a8"
             ],
             [
              0.3333333333333333,
              "#9c179e"
             ],
             [
              0.4444444444444444,
              "#bd3786"
             ],
             [
              0.5555555555555556,
              "#d8576b"
             ],
             [
              0.6666666666666666,
              "#ed7953"
             ],
             [
              0.7777777777777778,
              "#fb9f3a"
             ],
             [
              0.8888888888888888,
              "#fdca26"
             ],
             [
              1,
              "#f0f921"
             ]
            ],
            "type": "histogram2dcontour"
           }
          ],
          "mesh3d": [
           {
            "colorbar": {
             "outlinewidth": 0,
             "ticks": ""
            },
            "type": "mesh3d"
           }
          ],
          "parcoords": [
           {
            "line": {
             "colorbar": {
              "outlinewidth": 0,
              "ticks": ""
             }
            },
            "type": "parcoords"
           }
          ],
          "pie": [
           {
            "automargin": true,
            "type": "pie"
           }
          ],
          "scatter": [
           {
            "fillpattern": {
             "fillmode": "overlay",
             "size": 10,
             "solidity": 0.2
            },
            "type": "scatter"
           }
          ],
          "scatter3d": [
           {
            "line": {
             "colorbar": {
              "outlinewidth": 0,
              "ticks": ""
             }
            },
            "marker": {
             "colorbar": {
              "outlinewidth": 0,
              "ticks": ""
             }
            },
            "type": "scatter3d"
           }
          ],
          "scattercarpet": [
           {
            "marker": {
             "colorbar": {
              "outlinewidth": 0,
              "ticks": ""
             }
            },
            "type": "scattercarpet"
           }
          ],
          "scattergeo": [
           {
            "marker": {
             "colorbar": {
              "outlinewidth": 0,
              "ticks": ""
             }
            },
            "type": "scattergeo"
           }
          ],
          "scattergl": [
           {
            "marker": {
             "colorbar": {
              "outlinewidth": 0,
              "ticks": ""
             }
            },
            "type": "scattergl"
           }
          ],
          "scattermap": [
           {
            "marker": {
             "colorbar": {
              "outlinewidth": 0,
              "ticks": ""
             }
            },
            "type": "scattermap"
           }
          ],
          "scattermapbox": [
           {
            "marker": {
             "colorbar": {
              "outlinewidth": 0,
              "ticks": ""
             }
            },
            "type": "scattermapbox"
           }
          ],
          "scatterpolar": [
           {
            "marker": {
             "colorbar": {
              "outlinewidth": 0,
              "ticks": ""
             }
            },
            "type": "scatterpolar"
           }
          ],
          "scatterpolargl": [
           {
            "marker": {
             "colorbar": {
              "outlinewidth": 0,
              "ticks": ""
             }
            },
            "type": "scatterpolargl"
           }
          ],
          "scatterternary": [
           {
            "marker": {
             "colorbar": {
              "outlinewidth": 0,
              "ticks": ""
             }
            },
            "type": "scatterternary"
           }
          ],
          "surface": [
           {
            "colorbar": {
             "outlinewidth": 0,
             "ticks": ""
            },
            "colorscale": [
             [
              0,
              "#0d0887"
             ],
             [
              0.1111111111111111,
              "#46039f"
             ],
             [
              0.2222222222222222,
              "#7201a8"
             ],
             [
              0.3333333333333333,
              "#9c179e"
             ],
             [
              0.4444444444444444,
              "#bd3786"
             ],
             [
              0.5555555555555556,
              "#d8576b"
             ],
             [
              0.6666666666666666,
              "#ed7953"
             ],
             [
              0.7777777777777778,
              "#fb9f3a"
             ],
             [
              0.8888888888888888,
              "#fdca26"
             ],
             [
              1,
              "#f0f921"
             ]
            ],
            "type": "surface"
           }
          ],
          "table": [
           {
            "cells": {
             "fill": {
              "color": "#EBF0F8"
             },
             "line": {
              "color": "white"
             }
            },
            "header": {
             "fill": {
              "color": "#C8D4E3"
             },
             "line": {
              "color": "white"
             }
            },
            "type": "table"
           }
          ]
         },
         "layout": {
          "annotationdefaults": {
           "arrowcolor": "#2a3f5f",
           "arrowhead": 0,
           "arrowwidth": 1
          },
          "autotypenumbers": "strict",
          "coloraxis": {
           "colorbar": {
            "outlinewidth": 0,
            "ticks": ""
           }
          },
          "colorscale": {
           "diverging": [
            [
             0,
             "#8e0152"
            ],
            [
             0.1,
             "#c51b7d"
            ],
            [
             0.2,
             "#de77ae"
            ],
            [
             0.3,
             "#f1b6da"
            ],
            [
             0.4,
             "#fde0ef"
            ],
            [
             0.5,
             "#f7f7f7"
            ],
            [
             0.6,
             "#e6f5d0"
            ],
            [
             0.7,
             "#b8e186"
            ],
            [
             0.8,
             "#7fbc41"
            ],
            [
             0.9,
             "#4d9221"
            ],
            [
             1,
             "#276419"
            ]
           ],
           "sequential": [
            [
             0,
             "#0d0887"
            ],
            [
             0.1111111111111111,
             "#46039f"
            ],
            [
             0.2222222222222222,
             "#7201a8"
            ],
            [
             0.3333333333333333,
             "#9c179e"
            ],
            [
             0.4444444444444444,
             "#bd3786"
            ],
            [
             0.5555555555555556,
             "#d8576b"
            ],
            [
             0.6666666666666666,
             "#ed7953"
            ],
            [
             0.7777777777777778,
             "#fb9f3a"
            ],
            [
             0.8888888888888888,
             "#fdca26"
            ],
            [
             1,
             "#f0f921"
            ]
           ],
           "sequentialminus": [
            [
             0,
             "#0d0887"
            ],
            [
             0.1111111111111111,
             "#46039f"
            ],
            [
             0.2222222222222222,
             "#7201a8"
            ],
            [
             0.3333333333333333,
             "#9c179e"
            ],
            [
             0.4444444444444444,
             "#bd3786"
            ],
            [
             0.5555555555555556,
             "#d8576b"
            ],
            [
             0.6666666666666666,
             "#ed7953"
            ],
            [
             0.7777777777777778,
             "#fb9f3a"
            ],
            [
             0.8888888888888888,
             "#fdca26"
            ],
            [
             1,
             "#f0f921"
            ]
           ]
          },
          "colorway": [
           "#636efa",
           "#EF553B",
           "#00cc96",
           "#ab63fa",
           "#FFA15A",
           "#19d3f3",
           "#FF6692",
           "#B6E880",
           "#FF97FF",
           "#FECB52"
          ],
          "font": {
           "color": "#2a3f5f"
          },
          "geo": {
           "bgcolor": "white",
           "lakecolor": "white",
           "landcolor": "#E5ECF6",
           "showlakes": true,
           "showland": true,
           "subunitcolor": "white"
          },
          "hoverlabel": {
           "align": "left"
          },
          "hovermode": "closest",
          "mapbox": {
           "style": "light"
          },
          "paper_bgcolor": "white",
          "plot_bgcolor": "#E5ECF6",
          "polar": {
           "angularaxis": {
            "gridcolor": "white",
            "linecolor": "white",
            "ticks": ""
           },
           "bgcolor": "#E5ECF6",
           "radialaxis": {
            "gridcolor": "white",
            "linecolor": "white",
            "ticks": ""
           }
          },
          "scene": {
           "xaxis": {
            "backgroundcolor": "#E5ECF6",
            "gridcolor": "white",
            "gridwidth": 2,
            "linecolor": "white",
            "showbackground": true,
            "ticks": "",
            "zerolinecolor": "white"
           },
           "yaxis": {
            "backgroundcolor": "#E5ECF6",
            "gridcolor": "white",
            "gridwidth": 2,
            "linecolor": "white",
            "showbackground": true,
            "ticks": "",
            "zerolinecolor": "white"
           },
           "zaxis": {
            "backgroundcolor": "#E5ECF6",
            "gridcolor": "white",
            "gridwidth": 2,
            "linecolor": "white",
            "showbackground": true,
            "ticks": "",
            "zerolinecolor": "white"
           }
          },
          "shapedefaults": {
           "line": {
            "color": "#2a3f5f"
           }
          },
          "ternary": {
           "aaxis": {
            "gridcolor": "white",
            "linecolor": "white",
            "ticks": ""
           },
           "baxis": {
            "gridcolor": "white",
            "linecolor": "white",
            "ticks": ""
           },
           "bgcolor": "#E5ECF6",
           "caxis": {
            "gridcolor": "white",
            "linecolor": "white",
            "ticks": ""
           }
          },
          "title": {
           "x": 0.05
          },
          "xaxis": {
           "automargin": true,
           "gridcolor": "white",
           "linecolor": "white",
           "ticks": "",
           "title": {
            "standoff": 15
           },
           "zerolinecolor": "white",
           "zerolinewidth": 2
          },
          "yaxis": {
           "automargin": true,
           "gridcolor": "white",
           "linecolor": "white",
           "ticks": "",
           "title": {
            "standoff": 15
           },
           "zerolinecolor": "white",
           "zerolinewidth": 2
          }
         }
        },
        "title": {
         "text": "Top 10 Emitting Substances"
        },
        "xaxis": {
         "anchor": "y",
         "domain": [
          0,
          1
         ],
         "title": {
          "text": "Supply Chain Emission Factors with Margins"
         }
        },
        "yaxis": {
         "anchor": "x",
         "domain": [
          0,
          1
         ],
         "title": {
          "text": "Substance"
         }
        }
       }
      }
     },
     "metadata": {},
     "output_type": "display_data"
    }
   ],
   "source": [
    "top_substances = df.groupby('Substance')['Supply Chain Emission Factors with Margins'] \\\n",
    "                   .sum().sort_values(ascending=False).head(10)\n",
    "\n",
    "fig = px.bar(top_substances.reset_index(),\n",
    "             x='Supply Chain Emission Factors with Margins',\n",
    "             y='Substance',\n",
    "             orientation='h',\n",
    "             title='Top 10 Emitting Substances')\n",
    "fig.show()\n",
    "\n"
   ]
  },
  {
   "cell_type": "code",
   "execution_count": 78,
   "id": "153806ca",
   "metadata": {},
   "outputs": [
    {
     "data": {
      "application/vnd.plotly.v1+json": {
       "config": {
        "plotlyServerURL": "https://plot.ly"
       },
       "data": [
        {
         "hovertemplate": "Supply Chain Emission Factors with Margins=%{x}<br>Unit=%{y}<extra></extra>",
         "legendgroup": "",
         "marker": {
          "color": "#636efa",
          "pattern": {
           "shape": ""
          }
         },
         "name": "",
         "orientation": "h",
         "showlegend": false,
         "textposition": "auto",
         "type": "bar",
         "x": {
          "bdata": "+n5qvHRPoEAAAAAAAJBRQA==",
          "dtype": "f8"
         },
         "xaxis": "x",
         "y": {
          "bdata": "AAE=",
          "dtype": "i1"
         },
         "yaxis": "y"
        }
       ],
       "layout": {
        "barmode": "relative",
        "legend": {
         "tracegroupgap": 0
        },
        "template": {
         "data": {
          "bar": [
           {
            "error_x": {
             "color": "#2a3f5f"
            },
            "error_y": {
             "color": "#2a3f5f"
            },
            "marker": {
             "line": {
              "color": "#E5ECF6",
              "width": 0.5
             },
             "pattern": {
              "fillmode": "overlay",
              "size": 10,
              "solidity": 0.2
             }
            },
            "type": "bar"
           }
          ],
          "barpolar": [
           {
            "marker": {
             "line": {
              "color": "#E5ECF6",
              "width": 0.5
             },
             "pattern": {
              "fillmode": "overlay",
              "size": 10,
              "solidity": 0.2
             }
            },
            "type": "barpolar"
           }
          ],
          "carpet": [
           {
            "aaxis": {
             "endlinecolor": "#2a3f5f",
             "gridcolor": "white",
             "linecolor": "white",
             "minorgridcolor": "white",
             "startlinecolor": "#2a3f5f"
            },
            "baxis": {
             "endlinecolor": "#2a3f5f",
             "gridcolor": "white",
             "linecolor": "white",
             "minorgridcolor": "white",
             "startlinecolor": "#2a3f5f"
            },
            "type": "carpet"
           }
          ],
          "choropleth": [
           {
            "colorbar": {
             "outlinewidth": 0,
             "ticks": ""
            },
            "type": "choropleth"
           }
          ],
          "contour": [
           {
            "colorbar": {
             "outlinewidth": 0,
             "ticks": ""
            },
            "colorscale": [
             [
              0,
              "#0d0887"
             ],
             [
              0.1111111111111111,
              "#46039f"
             ],
             [
              0.2222222222222222,
              "#7201a8"
             ],
             [
              0.3333333333333333,
              "#9c179e"
             ],
             [
              0.4444444444444444,
              "#bd3786"
             ],
             [
              0.5555555555555556,
              "#d8576b"
             ],
             [
              0.6666666666666666,
              "#ed7953"
             ],
             [
              0.7777777777777778,
              "#fb9f3a"
             ],
             [
              0.8888888888888888,
              "#fdca26"
             ],
             [
              1,
              "#f0f921"
             ]
            ],
            "type": "contour"
           }
          ],
          "contourcarpet": [
           {
            "colorbar": {
             "outlinewidth": 0,
             "ticks": ""
            },
            "type": "contourcarpet"
           }
          ],
          "heatmap": [
           {
            "colorbar": {
             "outlinewidth": 0,
             "ticks": ""
            },
            "colorscale": [
             [
              0,
              "#0d0887"
             ],
             [
              0.1111111111111111,
              "#46039f"
             ],
             [
              0.2222222222222222,
              "#7201a8"
             ],
             [
              0.3333333333333333,
              "#9c179e"
             ],
             [
              0.4444444444444444,
              "#bd3786"
             ],
             [
              0.5555555555555556,
              "#d8576b"
             ],
             [
              0.6666666666666666,
              "#ed7953"
             ],
             [
              0.7777777777777778,
              "#fb9f3a"
             ],
             [
              0.8888888888888888,
              "#fdca26"
             ],
             [
              1,
              "#f0f921"
             ]
            ],
            "type": "heatmap"
           }
          ],
          "histogram": [
           {
            "marker": {
             "pattern": {
              "fillmode": "overlay",
              "size": 10,
              "solidity": 0.2
             }
            },
            "type": "histogram"
           }
          ],
          "histogram2d": [
           {
            "colorbar": {
             "outlinewidth": 0,
             "ticks": ""
            },
            "colorscale": [
             [
              0,
              "#0d0887"
             ],
             [
              0.1111111111111111,
              "#46039f"
             ],
             [
              0.2222222222222222,
              "#7201a8"
             ],
             [
              0.3333333333333333,
              "#9c179e"
             ],
             [
              0.4444444444444444,
              "#bd3786"
             ],
             [
              0.5555555555555556,
              "#d8576b"
             ],
             [
              0.6666666666666666,
              "#ed7953"
             ],
             [
              0.7777777777777778,
              "#fb9f3a"
             ],
             [
              0.8888888888888888,
              "#fdca26"
             ],
             [
              1,
              "#f0f921"
             ]
            ],
            "type": "histogram2d"
           }
          ],
          "histogram2dcontour": [
           {
            "colorbar": {
             "outlinewidth": 0,
             "ticks": ""
            },
            "colorscale": [
             [
              0,
              "#0d0887"
             ],
             [
              0.1111111111111111,
              "#46039f"
             ],
             [
              0.2222222222222222,
              "#7201a8"
             ],
             [
              0.3333333333333333,
              "#9c179e"
             ],
             [
              0.4444444444444444,
              "#bd3786"
             ],
             [
              0.5555555555555556,
              "#d8576b"
             ],
             [
              0.6666666666666666,
              "#ed7953"
             ],
             [
              0.7777777777777778,
              "#fb9f3a"
             ],
             [
              0.8888888888888888,
              "#fdca26"
             ],
             [
              1,
              "#f0f921"
             ]
            ],
            "type": "histogram2dcontour"
           }
          ],
          "mesh3d": [
           {
            "colorbar": {
             "outlinewidth": 0,
             "ticks": ""
            },
            "type": "mesh3d"
           }
          ],
          "parcoords": [
           {
            "line": {
             "colorbar": {
              "outlinewidth": 0,
              "ticks": ""
             }
            },
            "type": "parcoords"
           }
          ],
          "pie": [
           {
            "automargin": true,
            "type": "pie"
           }
          ],
          "scatter": [
           {
            "fillpattern": {
             "fillmode": "overlay",
             "size": 10,
             "solidity": 0.2
            },
            "type": "scatter"
           }
          ],
          "scatter3d": [
           {
            "line": {
             "colorbar": {
              "outlinewidth": 0,
              "ticks": ""
             }
            },
            "marker": {
             "colorbar": {
              "outlinewidth": 0,
              "ticks": ""
             }
            },
            "type": "scatter3d"
           }
          ],
          "scattercarpet": [
           {
            "marker": {
             "colorbar": {
              "outlinewidth": 0,
              "ticks": ""
             }
            },
            "type": "scattercarpet"
           }
          ],
          "scattergeo": [
           {
            "marker": {
             "colorbar": {
              "outlinewidth": 0,
              "ticks": ""
             }
            },
            "type": "scattergeo"
           }
          ],
          "scattergl": [
           {
            "marker": {
             "colorbar": {
              "outlinewidth": 0,
              "ticks": ""
             }
            },
            "type": "scattergl"
           }
          ],
          "scattermap": [
           {
            "marker": {
             "colorbar": {
              "outlinewidth": 0,
              "ticks": ""
             }
            },
            "type": "scattermap"
           }
          ],
          "scattermapbox": [
           {
            "marker": {
             "colorbar": {
              "outlinewidth": 0,
              "ticks": ""
             }
            },
            "type": "scattermapbox"
           }
          ],
          "scatterpolar": [
           {
            "marker": {
             "colorbar": {
              "outlinewidth": 0,
              "ticks": ""
             }
            },
            "type": "scatterpolar"
           }
          ],
          "scatterpolargl": [
           {
            "marker": {
             "colorbar": {
              "outlinewidth": 0,
              "ticks": ""
             }
            },
            "type": "scatterpolargl"
           }
          ],
          "scatterternary": [
           {
            "marker": {
             "colorbar": {
              "outlinewidth": 0,
              "ticks": ""
             }
            },
            "type": "scatterternary"
           }
          ],
          "surface": [
           {
            "colorbar": {
             "outlinewidth": 0,
             "ticks": ""
            },
            "colorscale": [
             [
              0,
              "#0d0887"
             ],
             [
              0.1111111111111111,
              "#46039f"
             ],
             [
              0.2222222222222222,
              "#7201a8"
             ],
             [
              0.3333333333333333,
              "#9c179e"
             ],
             [
              0.4444444444444444,
              "#bd3786"
             ],
             [
              0.5555555555555556,
              "#d8576b"
             ],
             [
              0.6666666666666666,
              "#ed7953"
             ],
             [
              0.7777777777777778,
              "#fb9f3a"
             ],
             [
              0.8888888888888888,
              "#fdca26"
             ],
             [
              1,
              "#f0f921"
             ]
            ],
            "type": "surface"
           }
          ],
          "table": [
           {
            "cells": {
             "fill": {
              "color": "#EBF0F8"
             },
             "line": {
              "color": "white"
             }
            },
            "header": {
             "fill": {
              "color": "#C8D4E3"
             },
             "line": {
              "color": "white"
             }
            },
            "type": "table"
           }
          ]
         },
         "layout": {
          "annotationdefaults": {
           "arrowcolor": "#2a3f5f",
           "arrowhead": 0,
           "arrowwidth": 1
          },
          "autotypenumbers": "strict",
          "coloraxis": {
           "colorbar": {
            "outlinewidth": 0,
            "ticks": ""
           }
          },
          "colorscale": {
           "diverging": [
            [
             0,
             "#8e0152"
            ],
            [
             0.1,
             "#c51b7d"
            ],
            [
             0.2,
             "#de77ae"
            ],
            [
             0.3,
             "#f1b6da"
            ],
            [
             0.4,
             "#fde0ef"
            ],
            [
             0.5,
             "#f7f7f7"
            ],
            [
             0.6,
             "#e6f5d0"
            ],
            [
             0.7,
             "#b8e186"
            ],
            [
             0.8,
             "#7fbc41"
            ],
            [
             0.9,
             "#4d9221"
            ],
            [
             1,
             "#276419"
            ]
           ],
           "sequential": [
            [
             0,
             "#0d0887"
            ],
            [
             0.1111111111111111,
             "#46039f"
            ],
            [
             0.2222222222222222,
             "#7201a8"
            ],
            [
             0.3333333333333333,
             "#9c179e"
            ],
            [
             0.4444444444444444,
             "#bd3786"
            ],
            [
             0.5555555555555556,
             "#d8576b"
            ],
            [
             0.6666666666666666,
             "#ed7953"
            ],
            [
             0.7777777777777778,
             "#fb9f3a"
            ],
            [
             0.8888888888888888,
             "#fdca26"
            ],
            [
             1,
             "#f0f921"
            ]
           ],
           "sequentialminus": [
            [
             0,
             "#0d0887"
            ],
            [
             0.1111111111111111,
             "#46039f"
            ],
            [
             0.2222222222222222,
             "#7201a8"
            ],
            [
             0.3333333333333333,
             "#9c179e"
            ],
            [
             0.4444444444444444,
             "#bd3786"
            ],
            [
             0.5555555555555556,
             "#d8576b"
            ],
            [
             0.6666666666666666,
             "#ed7953"
            ],
            [
             0.7777777777777778,
             "#fb9f3a"
            ],
            [
             0.8888888888888888,
             "#fdca26"
            ],
            [
             1,
             "#f0f921"
            ]
           ]
          },
          "colorway": [
           "#636efa",
           "#EF553B",
           "#00cc96",
           "#ab63fa",
           "#FFA15A",
           "#19d3f3",
           "#FF6692",
           "#B6E880",
           "#FF97FF",
           "#FECB52"
          ],
          "font": {
           "color": "#2a3f5f"
          },
          "geo": {
           "bgcolor": "white",
           "lakecolor": "white",
           "landcolor": "#E5ECF6",
           "showlakes": true,
           "showland": true,
           "subunitcolor": "white"
          },
          "hoverlabel": {
           "align": "left"
          },
          "hovermode": "closest",
          "mapbox": {
           "style": "light"
          },
          "paper_bgcolor": "white",
          "plot_bgcolor": "#E5ECF6",
          "polar": {
           "angularaxis": {
            "gridcolor": "white",
            "linecolor": "white",
            "ticks": ""
           },
           "bgcolor": "#E5ECF6",
           "radialaxis": {
            "gridcolor": "white",
            "linecolor": "white",
            "ticks": ""
           }
          },
          "scene": {
           "xaxis": {
            "backgroundcolor": "#E5ECF6",
            "gridcolor": "white",
            "gridwidth": 2,
            "linecolor": "white",
            "showbackground": true,
            "ticks": "",
            "zerolinecolor": "white"
           },
           "yaxis": {
            "backgroundcolor": "#E5ECF6",
            "gridcolor": "white",
            "gridwidth": 2,
            "linecolor": "white",
            "showbackground": true,
            "ticks": "",
            "zerolinecolor": "white"
           },
           "zaxis": {
            "backgroundcolor": "#E5ECF6",
            "gridcolor": "white",
            "gridwidth": 2,
            "linecolor": "white",
            "showbackground": true,
            "ticks": "",
            "zerolinecolor": "white"
           }
          },
          "shapedefaults": {
           "line": {
            "color": "#2a3f5f"
           }
          },
          "ternary": {
           "aaxis": {
            "gridcolor": "white",
            "linecolor": "white",
            "ticks": ""
           },
           "baxis": {
            "gridcolor": "white",
            "linecolor": "white",
            "ticks": ""
           },
           "bgcolor": "#E5ECF6",
           "caxis": {
            "gridcolor": "white",
            "linecolor": "white",
            "ticks": ""
           }
          },
          "title": {
           "x": 0.05
          },
          "xaxis": {
           "automargin": true,
           "gridcolor": "white",
           "linecolor": "white",
           "ticks": "",
           "title": {
            "standoff": 15
           },
           "zerolinecolor": "white",
           "zerolinewidth": 2
          },
          "yaxis": {
           "automargin": true,
           "gridcolor": "white",
           "linecolor": "white",
           "ticks": "",
           "title": {
            "standoff": 15
           },
           "zerolinecolor": "white",
           "zerolinewidth": 2
          }
         }
        },
        "title": {
         "text": "Top 10 Emitting units"
        },
        "xaxis": {
         "anchor": "y",
         "domain": [
          0,
          1
         ],
         "title": {
          "text": "Supply Chain Emission Factors with Margins"
         }
        },
        "yaxis": {
         "anchor": "x",
         "domain": [
          0,
          1
         ],
         "title": {
          "text": "Unit"
         }
        }
       }
      }
     },
     "metadata": {},
     "output_type": "display_data"
    }
   ],
   "source": [
    "top_substances = df.groupby('Unit')['Supply Chain Emission Factors with Margins'] \\\n",
    "                   .sum().sort_values(ascending=False).head(10)\n",
    "\n",
    "fig = px.bar(top_substances.reset_index(),\n",
    "             x='Supply Chain Emission Factors with Margins',\n",
    "             y='Unit',\n",
    "             orientation='h',\n",
    "             title='Top 10 Emitting units')\n",
    "fig.show()\n"
   ]
  },
  {
   "cell_type": "code",
   "execution_count": 79,
   "id": "87d1ae55",
   "metadata": {},
   "outputs": [
    {
     "data": {
      "application/vnd.plotly.v1+json": {
       "config": {
        "plotlyServerURL": "https://plot.ly"
       },
       "data": [
        {
         "hovertemplate": "Supply Chain Emission Factors with Margins=%{x}<br>Source=%{y}<extra></extra>",
         "legendgroup": "",
         "marker": {
          "color": "#636efa",
          "pattern": {
           "shape": ""
          }
         },
         "name": "",
         "orientation": "h",
         "showlegend": false,
         "textposition": "auto",
         "type": "bar",
         "x": {
          "bdata": "uB6F69E2kUA730+NF4GQQA==",
          "dtype": "f8"
         },
         "xaxis": "x",
         "y": {
          "bdata": "AQA=",
          "dtype": "i1"
         },
         "yaxis": "y"
        }
       ],
       "layout": {
        "barmode": "relative",
        "legend": {
         "tracegroupgap": 0
        },
        "template": {
         "data": {
          "bar": [
           {
            "error_x": {
             "color": "#2a3f5f"
            },
            "error_y": {
             "color": "#2a3f5f"
            },
            "marker": {
             "line": {
              "color": "#E5ECF6",
              "width": 0.5
             },
             "pattern": {
              "fillmode": "overlay",
              "size": 10,
              "solidity": 0.2
             }
            },
            "type": "bar"
           }
          ],
          "barpolar": [
           {
            "marker": {
             "line": {
              "color": "#E5ECF6",
              "width": 0.5
             },
             "pattern": {
              "fillmode": "overlay",
              "size": 10,
              "solidity": 0.2
             }
            },
            "type": "barpolar"
           }
          ],
          "carpet": [
           {
            "aaxis": {
             "endlinecolor": "#2a3f5f",
             "gridcolor": "white",
             "linecolor": "white",
             "minorgridcolor": "white",
             "startlinecolor": "#2a3f5f"
            },
            "baxis": {
             "endlinecolor": "#2a3f5f",
             "gridcolor": "white",
             "linecolor": "white",
             "minorgridcolor": "white",
             "startlinecolor": "#2a3f5f"
            },
            "type": "carpet"
           }
          ],
          "choropleth": [
           {
            "colorbar": {
             "outlinewidth": 0,
             "ticks": ""
            },
            "type": "choropleth"
           }
          ],
          "contour": [
           {
            "colorbar": {
             "outlinewidth": 0,
             "ticks": ""
            },
            "colorscale": [
             [
              0,
              "#0d0887"
             ],
             [
              0.1111111111111111,
              "#46039f"
             ],
             [
              0.2222222222222222,
              "#7201a8"
             ],
             [
              0.3333333333333333,
              "#9c179e"
             ],
             [
              0.4444444444444444,
              "#bd3786"
             ],
             [
              0.5555555555555556,
              "#d8576b"
             ],
             [
              0.6666666666666666,
              "#ed7953"
             ],
             [
              0.7777777777777778,
              "#fb9f3a"
             ],
             [
              0.8888888888888888,
              "#fdca26"
             ],
             [
              1,
              "#f0f921"
             ]
            ],
            "type": "contour"
           }
          ],
          "contourcarpet": [
           {
            "colorbar": {
             "outlinewidth": 0,
             "ticks": ""
            },
            "type": "contourcarpet"
           }
          ],
          "heatmap": [
           {
            "colorbar": {
             "outlinewidth": 0,
             "ticks": ""
            },
            "colorscale": [
             [
              0,
              "#0d0887"
             ],
             [
              0.1111111111111111,
              "#46039f"
             ],
             [
              0.2222222222222222,
              "#7201a8"
             ],
             [
              0.3333333333333333,
              "#9c179e"
             ],
             [
              0.4444444444444444,
              "#bd3786"
             ],
             [
              0.5555555555555556,
              "#d8576b"
             ],
             [
              0.6666666666666666,
              "#ed7953"
             ],
             [
              0.7777777777777778,
              "#fb9f3a"
             ],
             [
              0.8888888888888888,
              "#fdca26"
             ],
             [
              1,
              "#f0f921"
             ]
            ],
            "type": "heatmap"
           }
          ],
          "histogram": [
           {
            "marker": {
             "pattern": {
              "fillmode": "overlay",
              "size": 10,
              "solidity": 0.2
             }
            },
            "type": "histogram"
           }
          ],
          "histogram2d": [
           {
            "colorbar": {
             "outlinewidth": 0,
             "ticks": ""
            },
            "colorscale": [
             [
              0,
              "#0d0887"
             ],
             [
              0.1111111111111111,
              "#46039f"
             ],
             [
              0.2222222222222222,
              "#7201a8"
             ],
             [
              0.3333333333333333,
              "#9c179e"
             ],
             [
              0.4444444444444444,
              "#bd3786"
             ],
             [
              0.5555555555555556,
              "#d8576b"
             ],
             [
              0.6666666666666666,
              "#ed7953"
             ],
             [
              0.7777777777777778,
              "#fb9f3a"
             ],
             [
              0.8888888888888888,
              "#fdca26"
             ],
             [
              1,
              "#f0f921"
             ]
            ],
            "type": "histogram2d"
           }
          ],
          "histogram2dcontour": [
           {
            "colorbar": {
             "outlinewidth": 0,
             "ticks": ""
            },
            "colorscale": [
             [
              0,
              "#0d0887"
             ],
             [
              0.1111111111111111,
              "#46039f"
             ],
             [
              0.2222222222222222,
              "#7201a8"
             ],
             [
              0.3333333333333333,
              "#9c179e"
             ],
             [
              0.4444444444444444,
              "#bd3786"
             ],
             [
              0.5555555555555556,
              "#d8576b"
             ],
             [
              0.6666666666666666,
              "#ed7953"
             ],
             [
              0.7777777777777778,
              "#fb9f3a"
             ],
             [
              0.8888888888888888,
              "#fdca26"
             ],
             [
              1,
              "#f0f921"
             ]
            ],
            "type": "histogram2dcontour"
           }
          ],
          "mesh3d": [
           {
            "colorbar": {
             "outlinewidth": 0,
             "ticks": ""
            },
            "type": "mesh3d"
           }
          ],
          "parcoords": [
           {
            "line": {
             "colorbar": {
              "outlinewidth": 0,
              "ticks": ""
             }
            },
            "type": "parcoords"
           }
          ],
          "pie": [
           {
            "automargin": true,
            "type": "pie"
           }
          ],
          "scatter": [
           {
            "fillpattern": {
             "fillmode": "overlay",
             "size": 10,
             "solidity": 0.2
            },
            "type": "scatter"
           }
          ],
          "scatter3d": [
           {
            "line": {
             "colorbar": {
              "outlinewidth": 0,
              "ticks": ""
             }
            },
            "marker": {
             "colorbar": {
              "outlinewidth": 0,
              "ticks": ""
             }
            },
            "type": "scatter3d"
           }
          ],
          "scattercarpet": [
           {
            "marker": {
             "colorbar": {
              "outlinewidth": 0,
              "ticks": ""
             }
            },
            "type": "scattercarpet"
           }
          ],
          "scattergeo": [
           {
            "marker": {
             "colorbar": {
              "outlinewidth": 0,
              "ticks": ""
             }
            },
            "type": "scattergeo"
           }
          ],
          "scattergl": [
           {
            "marker": {
             "colorbar": {
              "outlinewidth": 0,
              "ticks": ""
             }
            },
            "type": "scattergl"
           }
          ],
          "scattermap": [
           {
            "marker": {
             "colorbar": {
              "outlinewidth": 0,
              "ticks": ""
             }
            },
            "type": "scattermap"
           }
          ],
          "scattermapbox": [
           {
            "marker": {
             "colorbar": {
              "outlinewidth": 0,
              "ticks": ""
             }
            },
            "type": "scattermapbox"
           }
          ],
          "scatterpolar": [
           {
            "marker": {
             "colorbar": {
              "outlinewidth": 0,
              "ticks": ""
             }
            },
            "type": "scatterpolar"
           }
          ],
          "scatterpolargl": [
           {
            "marker": {
             "colorbar": {
              "outlinewidth": 0,
              "ticks": ""
             }
            },
            "type": "scatterpolargl"
           }
          ],
          "scatterternary": [
           {
            "marker": {
             "colorbar": {
              "outlinewidth": 0,
              "ticks": ""
             }
            },
            "type": "scatterternary"
           }
          ],
          "surface": [
           {
            "colorbar": {
             "outlinewidth": 0,
             "ticks": ""
            },
            "colorscale": [
             [
              0,
              "#0d0887"
             ],
             [
              0.1111111111111111,
              "#46039f"
             ],
             [
              0.2222222222222222,
              "#7201a8"
             ],
             [
              0.3333333333333333,
              "#9c179e"
             ],
             [
              0.4444444444444444,
              "#bd3786"
             ],
             [
              0.5555555555555556,
              "#d8576b"
             ],
             [
              0.6666666666666666,
              "#ed7953"
             ],
             [
              0.7777777777777778,
              "#fb9f3a"
             ],
             [
              0.8888888888888888,
              "#fdca26"
             ],
             [
              1,
              "#f0f921"
             ]
            ],
            "type": "surface"
           }
          ],
          "table": [
           {
            "cells": {
             "fill": {
              "color": "#EBF0F8"
             },
             "line": {
              "color": "white"
             }
            },
            "header": {
             "fill": {
              "color": "#C8D4E3"
             },
             "line": {
              "color": "white"
             }
            },
            "type": "table"
           }
          ]
         },
         "layout": {
          "annotationdefaults": {
           "arrowcolor": "#2a3f5f",
           "arrowhead": 0,
           "arrowwidth": 1
          },
          "autotypenumbers": "strict",
          "coloraxis": {
           "colorbar": {
            "outlinewidth": 0,
            "ticks": ""
           }
          },
          "colorscale": {
           "diverging": [
            [
             0,
             "#8e0152"
            ],
            [
             0.1,
             "#c51b7d"
            ],
            [
             0.2,
             "#de77ae"
            ],
            [
             0.3,
             "#f1b6da"
            ],
            [
             0.4,
             "#fde0ef"
            ],
            [
             0.5,
             "#f7f7f7"
            ],
            [
             0.6,
             "#e6f5d0"
            ],
            [
             0.7,
             "#b8e186"
            ],
            [
             0.8,
             "#7fbc41"
            ],
            [
             0.9,
             "#4d9221"
            ],
            [
             1,
             "#276419"
            ]
           ],
           "sequential": [
            [
             0,
             "#0d0887"
            ],
            [
             0.1111111111111111,
             "#46039f"
            ],
            [
             0.2222222222222222,
             "#7201a8"
            ],
            [
             0.3333333333333333,
             "#9c179e"
            ],
            [
             0.4444444444444444,
             "#bd3786"
            ],
            [
             0.5555555555555556,
             "#d8576b"
            ],
            [
             0.6666666666666666,
             "#ed7953"
            ],
            [
             0.7777777777777778,
             "#fb9f3a"
            ],
            [
             0.8888888888888888,
             "#fdca26"
            ],
            [
             1,
             "#f0f921"
            ]
           ],
           "sequentialminus": [
            [
             0,
             "#0d0887"
            ],
            [
             0.1111111111111111,
             "#46039f"
            ],
            [
             0.2222222222222222,
             "#7201a8"
            ],
            [
             0.3333333333333333,
             "#9c179e"
            ],
            [
             0.4444444444444444,
             "#bd3786"
            ],
            [
             0.5555555555555556,
             "#d8576b"
            ],
            [
             0.6666666666666666,
             "#ed7953"
            ],
            [
             0.7777777777777778,
             "#fb9f3a"
            ],
            [
             0.8888888888888888,
             "#fdca26"
            ],
            [
             1,
             "#f0f921"
            ]
           ]
          },
          "colorway": [
           "#636efa",
           "#EF553B",
           "#00cc96",
           "#ab63fa",
           "#FFA15A",
           "#19d3f3",
           "#FF6692",
           "#B6E880",
           "#FF97FF",
           "#FECB52"
          ],
          "font": {
           "color": "#2a3f5f"
          },
          "geo": {
           "bgcolor": "white",
           "lakecolor": "white",
           "landcolor": "#E5ECF6",
           "showlakes": true,
           "showland": true,
           "subunitcolor": "white"
          },
          "hoverlabel": {
           "align": "left"
          },
          "hovermode": "closest",
          "mapbox": {
           "style": "light"
          },
          "paper_bgcolor": "white",
          "plot_bgcolor": "#E5ECF6",
          "polar": {
           "angularaxis": {
            "gridcolor": "white",
            "linecolor": "white",
            "ticks": ""
           },
           "bgcolor": "#E5ECF6",
           "radialaxis": {
            "gridcolor": "white",
            "linecolor": "white",
            "ticks": ""
           }
          },
          "scene": {
           "xaxis": {
            "backgroundcolor": "#E5ECF6",
            "gridcolor": "white",
            "gridwidth": 2,
            "linecolor": "white",
            "showbackground": true,
            "ticks": "",
            "zerolinecolor": "white"
           },
           "yaxis": {
            "backgroundcolor": "#E5ECF6",
            "gridcolor": "white",
            "gridwidth": 2,
            "linecolor": "white",
            "showbackground": true,
            "ticks": "",
            "zerolinecolor": "white"
           },
           "zaxis": {
            "backgroundcolor": "#E5ECF6",
            "gridcolor": "white",
            "gridwidth": 2,
            "linecolor": "white",
            "showbackground": true,
            "ticks": "",
            "zerolinecolor": "white"
           }
          },
          "shapedefaults": {
           "line": {
            "color": "#2a3f5f"
           }
          },
          "ternary": {
           "aaxis": {
            "gridcolor": "white",
            "linecolor": "white",
            "ticks": ""
           },
           "baxis": {
            "gridcolor": "white",
            "linecolor": "white",
            "ticks": ""
           },
           "bgcolor": "#E5ECF6",
           "caxis": {
            "gridcolor": "white",
            "linecolor": "white",
            "ticks": ""
           }
          },
          "title": {
           "x": 0.05
          },
          "xaxis": {
           "automargin": true,
           "gridcolor": "white",
           "linecolor": "white",
           "ticks": "",
           "title": {
            "standoff": 15
           },
           "zerolinecolor": "white",
           "zerolinewidth": 2
          },
          "yaxis": {
           "automargin": true,
           "gridcolor": "white",
           "linecolor": "white",
           "ticks": "",
           "title": {
            "standoff": 15
           },
           "zerolinecolor": "white",
           "zerolinewidth": 2
          }
         }
        },
        "title": {
         "text": "Top 10 Emitting Sources"
        },
        "xaxis": {
         "anchor": "y",
         "domain": [
          0,
          1
         ],
         "title": {
          "text": "Supply Chain Emission Factors with Margins"
         }
        },
        "yaxis": {
         "anchor": "x",
         "domain": [
          0,
          1
         ],
         "title": {
          "text": "Source"
         }
        }
       }
      }
     },
     "metadata": {},
     "output_type": "display_data"
    }
   ],
   "source": [
    "top_substances = df.groupby('Source')['Supply Chain Emission Factors with Margins'] \\\n",
    "                   .sum().sort_values(ascending=False).head(10)\n",
    "\n",
    "fig = px.bar(top_substances.reset_index(),\n",
    "             x='Supply Chain Emission Factors with Margins',\n",
    "             y='Source',\n",
    "             orientation='h',\n",
    "             title='Top 10 Emitting Sources')\n",
    "fig.show()\n"
   ]
  },
  {
   "cell_type": "code",
   "execution_count": 80,
   "id": "8778c01e",
   "metadata": {},
   "outputs": [
    {
     "data": {
      "image/png": "[encoded data removed]",
      "text/plain": [
       "<Figure size 640x480 with 1 Axes>"
      ]
     },
     "metadata": {},
     "output_type": "display_data"
    }
   ],
   "source": [
    "import seaborn as sns\n",
    "\n",
    "sns.boxplot(df['Supply Chain Emission Factors with Margins'])\n",
    "plt.title(\"Outliers in Emission Factors\")\n",
    "plt.show()\n"
   ]
  },
  {
   "cell_type": "code",
   "execution_count": 81,
   "id": "929662ab",
   "metadata": {},
   "outputs": [
    {
     "name": "stdout",
     "output_type": "stream",
     "text": [
      "R^2 Score: 0.30499851392332167\n"
     ]
    }
   ],
   "source": [
    "from sklearn.linear_model import LinearRegression\n",
    "from sklearn.model_selection import train_test_split\n",
    "\n",
    "X = df[['Substance', 'Unit']]\n",
    "y = df['Supply Chain Emission Factors with Margins']\n",
    "\n",
    "X_train, X_test, y_train, y_test = train_test_split(X, y, test_size=0.2, random_state=42)\n",
    "\n",
    "model = LinearRegression()\n",
    "model.fit(X_train, y_train)\n",
    "\n",
    "print(\"R^2 Score:\", model.score(X_test, y_test))\n"
   ]
  },
  {
   "cell_type": "code",
   "execution_count": 82,
   "id": "9456ee05",
   "metadata": {},
   "outputs": [],
   "source": [
    "df['Margin %'] = df['Margins of Supply Chain Emission Factors'] / df['Supply Chain Emission Factors without Margins']\n",
    "df['DQ_Average'] = df[[col for col in df.columns if col.startswith('DQ')]].mean(axis=1)\n"
   ]
  },
  {
   "cell_type": "code",
   "execution_count": 83,
   "id": "815764a4",
   "metadata": {},
   "outputs": [
    {
     "name": "stdout",
     "output_type": "stream",
     "text": [
      "MSE: 0.03045919146254849\n"
     ]
    }
   ],
   "source": [
    "from sklearn.ensemble import RandomForestRegressor\n",
    "from sklearn.model_selection import train_test_split\n",
    "from sklearn.metrics import mean_squared_error\n",
    "\n",
    "features = ['Substance', 'Unit', 'DQ_Average']  # whatever encoded\n",
    "X = df[features]\n",
    "y = df['Supply Chain Emission Factors with Margins']\n",
    "\n",
    "X_train, X_test, y_train, y_test = train_test_split(X, y, test_size=0.2, random_state=42)\n",
    "\n",
    "model = RandomForestRegressor()\n",
    "model.fit(X_train, y_train)\n",
    "y_pred = model.predict(X_test)\n",
    "\n",
    "print(\"MSE:\", mean_squared_error(y_test, y_pred))\n"
   ]
  }
 ],
 "metadata": {
  "kernelspec": {
   "display_name": "myenv",
   "language": "python",
   "name": "python3"
  },
  "language_info": {
   "codemirror_mode": {
    "name": "ipython",
    "version": 3
   },
   "file_extension": ".py",
   "mimetype": "text/x-python",
   "name": "python",
   "nbconvert_exporter": "python",
   "pygments_lexer": "ipython3",
   "version": "3.10.16"
  }
 },
 "nbformat": 4,
 "nbformat_minor": 5
}
